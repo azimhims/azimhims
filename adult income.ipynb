{
 "cells": [
  {
   "cell_type": "code",
   "execution_count": 1,
   "id": "3f95808e",
   "metadata": {},
   "outputs": [],
   "source": [
    "url ='https://archive.ics.uci.edu/static/public/2/adult.zip'"
   ]
  },
  {
   "cell_type": "code",
   "execution_count": 2,
   "id": "a7a422c8",
   "metadata": {},
   "outputs": [],
   "source": [
    "import requests"
   ]
  },
  {
   "cell_type": "code",
   "execution_count": 3,
   "id": "7bcc2a64",
   "metadata": {},
   "outputs": [],
   "source": [
    "content =requests.get(url)"
   ]
  },
  {
   "cell_type": "code",
   "execution_count": 5,
   "id": "cbcafa92",
   "metadata": {},
   "outputs": [
    {
     "data": {
      "text/plain": [
       "<Response [200]>"
      ]
     },
     "execution_count": 5,
     "metadata": {},
     "output_type": "execute_result"
    }
   ],
   "source": [
    "content"
   ]
  },
  {
   "cell_type": "code",
   "execution_count": 4,
   "id": "72ded620",
   "metadata": {},
   "outputs": [],
   "source": [
    "import zipfile"
   ]
  },
  {
   "cell_type": "code",
   "execution_count": 5,
   "id": "945f5c7b",
   "metadata": {},
   "outputs": [],
   "source": [
    "with open('adultincome.zip','wb') as f:\n",
    "    f.write(content.content)"
   ]
  },
  {
   "cell_type": "code",
   "execution_count": 6,
   "id": "8a1e2bf8",
   "metadata": {},
   "outputs": [],
   "source": [
    "with zipfile.ZipFile(\"adultincome.zip\") as zip:\n",
    "    zip.extractall('adult_income')"
   ]
  },
  {
   "cell_type": "code",
   "execution_count": 7,
   "id": "8bfb5922",
   "metadata": {},
   "outputs": [],
   "source": [
    "list = 'age workclass fnlwgt eduction education_num materical_status occupation relationship race gender capital_gain capital_loss hours_per_week native_country income'\n",
    "col = list.split()"
   ]
  },
  {
   "cell_type": "code",
   "execution_count": 8,
   "id": "24abc389",
   "metadata": {},
   "outputs": [],
   "source": [
    "import pandas as pd\n",
    "a_income  = pd.read_csv(r\"C:\\Users\\Azeem Khan\\adult_income\\adult.data\" , header = None, names = col)\n",
    "#dir(pd)"
   ]
  },
  {
   "cell_type": "code",
   "execution_count": 9,
   "id": "1c5e48d2",
   "metadata": {},
   "outputs": [],
   "source": [
    "re_dict = {'fnlwgt':'final_weight'}\n",
    "a_income.rename(re_dict,axis=1,inplace=True)"
   ]
  },
  {
   "cell_type": "code",
   "execution_count": 10,
   "id": "5c9a8a2e",
   "metadata": {},
   "outputs": [
    {
     "data": {
      "text/html": [
       "<div>\n",
       "<style scoped>\n",
       "    .dataframe tbody tr th:only-of-type {\n",
       "        vertical-align: middle;\n",
       "    }\n",
       "\n",
       "    .dataframe tbody tr th {\n",
       "        vertical-align: top;\n",
       "    }\n",
       "\n",
       "    .dataframe thead th {\n",
       "        text-align: right;\n",
       "    }\n",
       "</style>\n",
       "<table border=\"1\" class=\"dataframe\">\n",
       "  <thead>\n",
       "    <tr style=\"text-align: right;\">\n",
       "      <th></th>\n",
       "      <th>age</th>\n",
       "      <th>workclass</th>\n",
       "      <th>final_weight</th>\n",
       "      <th>eduction</th>\n",
       "      <th>education_num</th>\n",
       "      <th>materical_status</th>\n",
       "      <th>occupation</th>\n",
       "      <th>relationship</th>\n",
       "      <th>race</th>\n",
       "      <th>gender</th>\n",
       "      <th>capital_gain</th>\n",
       "      <th>capital_loss</th>\n",
       "      <th>hours_per_week</th>\n",
       "      <th>native_country</th>\n",
       "      <th>income</th>\n",
       "    </tr>\n",
       "  </thead>\n",
       "  <tbody>\n",
       "    <tr>\n",
       "      <th>0</th>\n",
       "      <td>39</td>\n",
       "      <td>State-gov</td>\n",
       "      <td>77516</td>\n",
       "      <td>Bachelors</td>\n",
       "      <td>13</td>\n",
       "      <td>Never-married</td>\n",
       "      <td>Adm-clerical</td>\n",
       "      <td>Not-in-family</td>\n",
       "      <td>White</td>\n",
       "      <td>Male</td>\n",
       "      <td>2174</td>\n",
       "      <td>0</td>\n",
       "      <td>40</td>\n",
       "      <td>United-States</td>\n",
       "      <td>&lt;=50K</td>\n",
       "    </tr>\n",
       "    <tr>\n",
       "      <th>1</th>\n",
       "      <td>50</td>\n",
       "      <td>Self-emp-not-inc</td>\n",
       "      <td>83311</td>\n",
       "      <td>Bachelors</td>\n",
       "      <td>13</td>\n",
       "      <td>Married-civ-spouse</td>\n",
       "      <td>Exec-managerial</td>\n",
       "      <td>Husband</td>\n",
       "      <td>White</td>\n",
       "      <td>Male</td>\n",
       "      <td>0</td>\n",
       "      <td>0</td>\n",
       "      <td>13</td>\n",
       "      <td>United-States</td>\n",
       "      <td>&lt;=50K</td>\n",
       "    </tr>\n",
       "    <tr>\n",
       "      <th>2</th>\n",
       "      <td>38</td>\n",
       "      <td>Private</td>\n",
       "      <td>215646</td>\n",
       "      <td>HS-grad</td>\n",
       "      <td>9</td>\n",
       "      <td>Divorced</td>\n",
       "      <td>Handlers-cleaners</td>\n",
       "      <td>Not-in-family</td>\n",
       "      <td>White</td>\n",
       "      <td>Male</td>\n",
       "      <td>0</td>\n",
       "      <td>0</td>\n",
       "      <td>40</td>\n",
       "      <td>United-States</td>\n",
       "      <td>&lt;=50K</td>\n",
       "    </tr>\n",
       "    <tr>\n",
       "      <th>3</th>\n",
       "      <td>53</td>\n",
       "      <td>Private</td>\n",
       "      <td>234721</td>\n",
       "      <td>11th</td>\n",
       "      <td>7</td>\n",
       "      <td>Married-civ-spouse</td>\n",
       "      <td>Handlers-cleaners</td>\n",
       "      <td>Husband</td>\n",
       "      <td>Black</td>\n",
       "      <td>Male</td>\n",
       "      <td>0</td>\n",
       "      <td>0</td>\n",
       "      <td>40</td>\n",
       "      <td>United-States</td>\n",
       "      <td>&lt;=50K</td>\n",
       "    </tr>\n",
       "    <tr>\n",
       "      <th>4</th>\n",
       "      <td>28</td>\n",
       "      <td>Private</td>\n",
       "      <td>338409</td>\n",
       "      <td>Bachelors</td>\n",
       "      <td>13</td>\n",
       "      <td>Married-civ-spouse</td>\n",
       "      <td>Prof-specialty</td>\n",
       "      <td>Wife</td>\n",
       "      <td>Black</td>\n",
       "      <td>Female</td>\n",
       "      <td>0</td>\n",
       "      <td>0</td>\n",
       "      <td>40</td>\n",
       "      <td>Cuba</td>\n",
       "      <td>&lt;=50K</td>\n",
       "    </tr>\n",
       "    <tr>\n",
       "      <th>...</th>\n",
       "      <td>...</td>\n",
       "      <td>...</td>\n",
       "      <td>...</td>\n",
       "      <td>...</td>\n",
       "      <td>...</td>\n",
       "      <td>...</td>\n",
       "      <td>...</td>\n",
       "      <td>...</td>\n",
       "      <td>...</td>\n",
       "      <td>...</td>\n",
       "      <td>...</td>\n",
       "      <td>...</td>\n",
       "      <td>...</td>\n",
       "      <td>...</td>\n",
       "      <td>...</td>\n",
       "    </tr>\n",
       "    <tr>\n",
       "      <th>32556</th>\n",
       "      <td>27</td>\n",
       "      <td>Private</td>\n",
       "      <td>257302</td>\n",
       "      <td>Assoc-acdm</td>\n",
       "      <td>12</td>\n",
       "      <td>Married-civ-spouse</td>\n",
       "      <td>Tech-support</td>\n",
       "      <td>Wife</td>\n",
       "      <td>White</td>\n",
       "      <td>Female</td>\n",
       "      <td>0</td>\n",
       "      <td>0</td>\n",
       "      <td>38</td>\n",
       "      <td>United-States</td>\n",
       "      <td>&lt;=50K</td>\n",
       "    </tr>\n",
       "    <tr>\n",
       "      <th>32557</th>\n",
       "      <td>40</td>\n",
       "      <td>Private</td>\n",
       "      <td>154374</td>\n",
       "      <td>HS-grad</td>\n",
       "      <td>9</td>\n",
       "      <td>Married-civ-spouse</td>\n",
       "      <td>Machine-op-inspct</td>\n",
       "      <td>Husband</td>\n",
       "      <td>White</td>\n",
       "      <td>Male</td>\n",
       "      <td>0</td>\n",
       "      <td>0</td>\n",
       "      <td>40</td>\n",
       "      <td>United-States</td>\n",
       "      <td>&gt;50K</td>\n",
       "    </tr>\n",
       "    <tr>\n",
       "      <th>32558</th>\n",
       "      <td>58</td>\n",
       "      <td>Private</td>\n",
       "      <td>151910</td>\n",
       "      <td>HS-grad</td>\n",
       "      <td>9</td>\n",
       "      <td>Widowed</td>\n",
       "      <td>Adm-clerical</td>\n",
       "      <td>Unmarried</td>\n",
       "      <td>White</td>\n",
       "      <td>Female</td>\n",
       "      <td>0</td>\n",
       "      <td>0</td>\n",
       "      <td>40</td>\n",
       "      <td>United-States</td>\n",
       "      <td>&lt;=50K</td>\n",
       "    </tr>\n",
       "    <tr>\n",
       "      <th>32559</th>\n",
       "      <td>22</td>\n",
       "      <td>Private</td>\n",
       "      <td>201490</td>\n",
       "      <td>HS-grad</td>\n",
       "      <td>9</td>\n",
       "      <td>Never-married</td>\n",
       "      <td>Adm-clerical</td>\n",
       "      <td>Own-child</td>\n",
       "      <td>White</td>\n",
       "      <td>Male</td>\n",
       "      <td>0</td>\n",
       "      <td>0</td>\n",
       "      <td>20</td>\n",
       "      <td>United-States</td>\n",
       "      <td>&lt;=50K</td>\n",
       "    </tr>\n",
       "    <tr>\n",
       "      <th>32560</th>\n",
       "      <td>52</td>\n",
       "      <td>Self-emp-inc</td>\n",
       "      <td>287927</td>\n",
       "      <td>HS-grad</td>\n",
       "      <td>9</td>\n",
       "      <td>Married-civ-spouse</td>\n",
       "      <td>Exec-managerial</td>\n",
       "      <td>Wife</td>\n",
       "      <td>White</td>\n",
       "      <td>Female</td>\n",
       "      <td>15024</td>\n",
       "      <td>0</td>\n",
       "      <td>40</td>\n",
       "      <td>United-States</td>\n",
       "      <td>&gt;50K</td>\n",
       "    </tr>\n",
       "  </tbody>\n",
       "</table>\n",
       "<p>32561 rows × 15 columns</p>\n",
       "</div>"
      ],
      "text/plain": [
       "       age          workclass  final_weight     eduction  education_num  \\\n",
       "0       39          State-gov         77516    Bachelors             13   \n",
       "1       50   Self-emp-not-inc         83311    Bachelors             13   \n",
       "2       38            Private        215646      HS-grad              9   \n",
       "3       53            Private        234721         11th              7   \n",
       "4       28            Private        338409    Bachelors             13   \n",
       "...    ...                ...           ...          ...            ...   \n",
       "32556   27            Private        257302   Assoc-acdm             12   \n",
       "32557   40            Private        154374      HS-grad              9   \n",
       "32558   58            Private        151910      HS-grad              9   \n",
       "32559   22            Private        201490      HS-grad              9   \n",
       "32560   52       Self-emp-inc        287927      HS-grad              9   \n",
       "\n",
       "          materical_status          occupation    relationship    race  \\\n",
       "0            Never-married        Adm-clerical   Not-in-family   White   \n",
       "1       Married-civ-spouse     Exec-managerial         Husband   White   \n",
       "2                 Divorced   Handlers-cleaners   Not-in-family   White   \n",
       "3       Married-civ-spouse   Handlers-cleaners         Husband   Black   \n",
       "4       Married-civ-spouse      Prof-specialty            Wife   Black   \n",
       "...                    ...                 ...             ...     ...   \n",
       "32556   Married-civ-spouse        Tech-support            Wife   White   \n",
       "32557   Married-civ-spouse   Machine-op-inspct         Husband   White   \n",
       "32558              Widowed        Adm-clerical       Unmarried   White   \n",
       "32559        Never-married        Adm-clerical       Own-child   White   \n",
       "32560   Married-civ-spouse     Exec-managerial            Wife   White   \n",
       "\n",
       "        gender  capital_gain  capital_loss  hours_per_week  native_country  \\\n",
       "0         Male          2174             0              40   United-States   \n",
       "1         Male             0             0              13   United-States   \n",
       "2         Male             0             0              40   United-States   \n",
       "3         Male             0             0              40   United-States   \n",
       "4       Female             0             0              40            Cuba   \n",
       "...        ...           ...           ...             ...             ...   \n",
       "32556   Female             0             0              38   United-States   \n",
       "32557     Male             0             0              40   United-States   \n",
       "32558   Female             0             0              40   United-States   \n",
       "32559     Male             0             0              20   United-States   \n",
       "32560   Female         15024             0              40   United-States   \n",
       "\n",
       "       income  \n",
       "0       <=50K  \n",
       "1       <=50K  \n",
       "2       <=50K  \n",
       "3       <=50K  \n",
       "4       <=50K  \n",
       "...       ...  \n",
       "32556   <=50K  \n",
       "32557    >50K  \n",
       "32558   <=50K  \n",
       "32559   <=50K  \n",
       "32560    >50K  \n",
       "\n",
       "[32561 rows x 15 columns]"
      ]
     },
     "execution_count": 10,
     "metadata": {},
     "output_type": "execute_result"
    }
   ],
   "source": [
    "a_income"
   ]
  },
  {
   "cell_type": "code",
   "execution_count": 18,
   "id": "c02abd17",
   "metadata": {},
   "outputs": [
    {
     "data": {
      "text/plain": [
       " <=50K    24720\n",
       " >50K      7841\n",
       "Name: income, dtype: int64"
      ]
     },
     "execution_count": 18,
     "metadata": {},
     "output_type": "execute_result"
    }
   ],
   "source": [
    "a_income['income'].value_counts()"
   ]
  },
  {
   "cell_type": "code",
   "execution_count": 19,
   "id": "6b7b7587",
   "metadata": {},
   "outputs": [
    {
     "data": {
      "text/plain": [
       "32561"
      ]
     },
     "execution_count": 19,
     "metadata": {},
     "output_type": "execute_result"
    }
   ],
   "source": [
    "24720+7841"
   ]
  },
  {
   "cell_type": "code",
   "execution_count": 11,
   "id": "91336f5c",
   "metadata": {},
   "outputs": [
    {
     "name": "stdout",
     "output_type": "stream",
     "text": [
      "<class 'pandas.core.frame.DataFrame'>\n",
      "RangeIndex: 32561 entries, 0 to 32560\n",
      "Data columns (total 15 columns):\n",
      " #   Column            Non-Null Count  Dtype \n",
      "---  ------            --------------  ----- \n",
      " 0   age               32561 non-null  int64 \n",
      " 1   workclass         32561 non-null  object\n",
      " 2   final_weight      32561 non-null  int64 \n",
      " 3   eduction          32561 non-null  object\n",
      " 4   education_num     32561 non-null  int64 \n",
      " 5   materical_status  32561 non-null  object\n",
      " 6   occupation        32561 non-null  object\n",
      " 7   relationship      32561 non-null  object\n",
      " 8   race              32561 non-null  object\n",
      " 9   gender            32561 non-null  object\n",
      " 10  capital_gain      32561 non-null  int64 \n",
      " 11  capital_loss      32561 non-null  int64 \n",
      " 12  hours_per_week    32561 non-null  int64 \n",
      " 13  native_country    32561 non-null  object\n",
      " 14  income            32561 non-null  object\n",
      "dtypes: int64(6), object(9)\n",
      "memory usage: 3.7+ MB\n"
     ]
    }
   ],
   "source": [
    "a_income.info()"
   ]
  },
  {
   "cell_type": "code",
   "execution_count": 30,
   "id": "fc0569b2",
   "metadata": {},
   "outputs": [
    {
     "data": {
      "text/html": [
       "<div>\n",
       "<style scoped>\n",
       "    .dataframe tbody tr th:only-of-type {\n",
       "        vertical-align: middle;\n",
       "    }\n",
       "\n",
       "    .dataframe tbody tr th {\n",
       "        vertical-align: top;\n",
       "    }\n",
       "\n",
       "    .dataframe thead th {\n",
       "        text-align: right;\n",
       "    }\n",
       "</style>\n",
       "<table border=\"1\" class=\"dataframe\">\n",
       "  <thead>\n",
       "    <tr style=\"text-align: right;\">\n",
       "      <th></th>\n",
       "      <th>age</th>\n",
       "      <th>workclass</th>\n",
       "      <th>final_weight</th>\n",
       "      <th>eduction</th>\n",
       "      <th>education_num</th>\n",
       "      <th>materical_status</th>\n",
       "      <th>occupation</th>\n",
       "      <th>relationship</th>\n",
       "      <th>race</th>\n",
       "      <th>gender</th>\n",
       "      <th>capital_gain</th>\n",
       "      <th>capital_loss</th>\n",
       "      <th>hours_per_week</th>\n",
       "      <th>native_country</th>\n",
       "      <th>income</th>\n",
       "    </tr>\n",
       "  </thead>\n",
       "  <tbody>\n",
       "    <tr>\n",
       "      <th>0</th>\n",
       "      <td>39</td>\n",
       "      <td>State-gov</td>\n",
       "      <td>77516</td>\n",
       "      <td>Bachelors</td>\n",
       "      <td>13</td>\n",
       "      <td>Never-married</td>\n",
       "      <td>Adm-clerical</td>\n",
       "      <td>Not-in-family</td>\n",
       "      <td>White</td>\n",
       "      <td>Male</td>\n",
       "      <td>2174</td>\n",
       "      <td>0</td>\n",
       "      <td>40</td>\n",
       "      <td>United-States</td>\n",
       "      <td>&lt;=50K</td>\n",
       "    </tr>\n",
       "    <tr>\n",
       "      <th>1</th>\n",
       "      <td>50</td>\n",
       "      <td>Self-emp-not-inc</td>\n",
       "      <td>83311</td>\n",
       "      <td>Bachelors</td>\n",
       "      <td>13</td>\n",
       "      <td>Married-civ-spouse</td>\n",
       "      <td>Exec-managerial</td>\n",
       "      <td>Husband</td>\n",
       "      <td>White</td>\n",
       "      <td>Male</td>\n",
       "      <td>0</td>\n",
       "      <td>0</td>\n",
       "      <td>13</td>\n",
       "      <td>United-States</td>\n",
       "      <td>&lt;=50K</td>\n",
       "    </tr>\n",
       "    <tr>\n",
       "      <th>2</th>\n",
       "      <td>38</td>\n",
       "      <td>Private</td>\n",
       "      <td>215646</td>\n",
       "      <td>HS-grad</td>\n",
       "      <td>9</td>\n",
       "      <td>Divorced</td>\n",
       "      <td>Handlers-cleaners</td>\n",
       "      <td>Not-in-family</td>\n",
       "      <td>White</td>\n",
       "      <td>Male</td>\n",
       "      <td>0</td>\n",
       "      <td>0</td>\n",
       "      <td>40</td>\n",
       "      <td>United-States</td>\n",
       "      <td>&lt;=50K</td>\n",
       "    </tr>\n",
       "    <tr>\n",
       "      <th>3</th>\n",
       "      <td>53</td>\n",
       "      <td>Private</td>\n",
       "      <td>234721</td>\n",
       "      <td>11th</td>\n",
       "      <td>7</td>\n",
       "      <td>Married-civ-spouse</td>\n",
       "      <td>Handlers-cleaners</td>\n",
       "      <td>Husband</td>\n",
       "      <td>Black</td>\n",
       "      <td>Male</td>\n",
       "      <td>0</td>\n",
       "      <td>0</td>\n",
       "      <td>40</td>\n",
       "      <td>United-States</td>\n",
       "      <td>&lt;=50K</td>\n",
       "    </tr>\n",
       "    <tr>\n",
       "      <th>4</th>\n",
       "      <td>28</td>\n",
       "      <td>Private</td>\n",
       "      <td>338409</td>\n",
       "      <td>Bachelors</td>\n",
       "      <td>13</td>\n",
       "      <td>Married-civ-spouse</td>\n",
       "      <td>Prof-specialty</td>\n",
       "      <td>Wife</td>\n",
       "      <td>Black</td>\n",
       "      <td>Female</td>\n",
       "      <td>0</td>\n",
       "      <td>0</td>\n",
       "      <td>40</td>\n",
       "      <td>Cuba</td>\n",
       "      <td>&lt;=50K</td>\n",
       "    </tr>\n",
       "    <tr>\n",
       "      <th>...</th>\n",
       "      <td>...</td>\n",
       "      <td>...</td>\n",
       "      <td>...</td>\n",
       "      <td>...</td>\n",
       "      <td>...</td>\n",
       "      <td>...</td>\n",
       "      <td>...</td>\n",
       "      <td>...</td>\n",
       "      <td>...</td>\n",
       "      <td>...</td>\n",
       "      <td>...</td>\n",
       "      <td>...</td>\n",
       "      <td>...</td>\n",
       "      <td>...</td>\n",
       "      <td>...</td>\n",
       "    </tr>\n",
       "    <tr>\n",
       "      <th>32556</th>\n",
       "      <td>27</td>\n",
       "      <td>Private</td>\n",
       "      <td>257302</td>\n",
       "      <td>Assoc-acdm</td>\n",
       "      <td>12</td>\n",
       "      <td>Married-civ-spouse</td>\n",
       "      <td>Tech-support</td>\n",
       "      <td>Wife</td>\n",
       "      <td>White</td>\n",
       "      <td>Female</td>\n",
       "      <td>0</td>\n",
       "      <td>0</td>\n",
       "      <td>38</td>\n",
       "      <td>United-States</td>\n",
       "      <td>&lt;=50K</td>\n",
       "    </tr>\n",
       "    <tr>\n",
       "      <th>32557</th>\n",
       "      <td>40</td>\n",
       "      <td>Private</td>\n",
       "      <td>154374</td>\n",
       "      <td>HS-grad</td>\n",
       "      <td>9</td>\n",
       "      <td>Married-civ-spouse</td>\n",
       "      <td>Machine-op-inspct</td>\n",
       "      <td>Husband</td>\n",
       "      <td>White</td>\n",
       "      <td>Male</td>\n",
       "      <td>0</td>\n",
       "      <td>0</td>\n",
       "      <td>40</td>\n",
       "      <td>United-States</td>\n",
       "      <td>&gt;50K</td>\n",
       "    </tr>\n",
       "    <tr>\n",
       "      <th>32558</th>\n",
       "      <td>58</td>\n",
       "      <td>Private</td>\n",
       "      <td>151910</td>\n",
       "      <td>HS-grad</td>\n",
       "      <td>9</td>\n",
       "      <td>Widowed</td>\n",
       "      <td>Adm-clerical</td>\n",
       "      <td>Unmarried</td>\n",
       "      <td>White</td>\n",
       "      <td>Female</td>\n",
       "      <td>0</td>\n",
       "      <td>0</td>\n",
       "      <td>40</td>\n",
       "      <td>United-States</td>\n",
       "      <td>&lt;=50K</td>\n",
       "    </tr>\n",
       "    <tr>\n",
       "      <th>32559</th>\n",
       "      <td>22</td>\n",
       "      <td>Private</td>\n",
       "      <td>201490</td>\n",
       "      <td>HS-grad</td>\n",
       "      <td>9</td>\n",
       "      <td>Never-married</td>\n",
       "      <td>Adm-clerical</td>\n",
       "      <td>Own-child</td>\n",
       "      <td>White</td>\n",
       "      <td>Male</td>\n",
       "      <td>0</td>\n",
       "      <td>0</td>\n",
       "      <td>20</td>\n",
       "      <td>United-States</td>\n",
       "      <td>&lt;=50K</td>\n",
       "    </tr>\n",
       "    <tr>\n",
       "      <th>32560</th>\n",
       "      <td>52</td>\n",
       "      <td>Self-emp-inc</td>\n",
       "      <td>287927</td>\n",
       "      <td>HS-grad</td>\n",
       "      <td>9</td>\n",
       "      <td>Married-civ-spouse</td>\n",
       "      <td>Exec-managerial</td>\n",
       "      <td>Wife</td>\n",
       "      <td>White</td>\n",
       "      <td>Female</td>\n",
       "      <td>15024</td>\n",
       "      <td>0</td>\n",
       "      <td>40</td>\n",
       "      <td>United-States</td>\n",
       "      <td>&gt;50K</td>\n",
       "    </tr>\n",
       "  </tbody>\n",
       "</table>\n",
       "<p>32561 rows × 15 columns</p>\n",
       "</div>"
      ],
      "text/plain": [
       "       age          workclass  final_weight     eduction  education_num  \\\n",
       "0       39          State-gov         77516    Bachelors             13   \n",
       "1       50   Self-emp-not-inc         83311    Bachelors             13   \n",
       "2       38            Private        215646      HS-grad              9   \n",
       "3       53            Private        234721         11th              7   \n",
       "4       28            Private        338409    Bachelors             13   \n",
       "...    ...                ...           ...          ...            ...   \n",
       "32556   27            Private        257302   Assoc-acdm             12   \n",
       "32557   40            Private        154374      HS-grad              9   \n",
       "32558   58            Private        151910      HS-grad              9   \n",
       "32559   22            Private        201490      HS-grad              9   \n",
       "32560   52       Self-emp-inc        287927      HS-grad              9   \n",
       "\n",
       "          materical_status          occupation    relationship    race  \\\n",
       "0            Never-married        Adm-clerical   Not-in-family   White   \n",
       "1       Married-civ-spouse     Exec-managerial         Husband   White   \n",
       "2                 Divorced   Handlers-cleaners   Not-in-family   White   \n",
       "3       Married-civ-spouse   Handlers-cleaners         Husband   Black   \n",
       "4       Married-civ-spouse      Prof-specialty            Wife   Black   \n",
       "...                    ...                 ...             ...     ...   \n",
       "32556   Married-civ-spouse        Tech-support            Wife   White   \n",
       "32557   Married-civ-spouse   Machine-op-inspct         Husband   White   \n",
       "32558              Widowed        Adm-clerical       Unmarried   White   \n",
       "32559        Never-married        Adm-clerical       Own-child   White   \n",
       "32560   Married-civ-spouse     Exec-managerial            Wife   White   \n",
       "\n",
       "        gender  capital_gain  capital_loss  hours_per_week  native_country  \\\n",
       "0         Male          2174             0              40   United-States   \n",
       "1         Male             0             0              13   United-States   \n",
       "2         Male             0             0              40   United-States   \n",
       "3         Male             0             0              40   United-States   \n",
       "4       Female             0             0              40            Cuba   \n",
       "...        ...           ...           ...             ...             ...   \n",
       "32556   Female             0             0              38   United-States   \n",
       "32557     Male             0             0              40   United-States   \n",
       "32558   Female             0             0              40   United-States   \n",
       "32559     Male             0             0              20   United-States   \n",
       "32560   Female         15024             0              40   United-States   \n",
       "\n",
       "       income  \n",
       "0       <=50K  \n",
       "1       <=50K  \n",
       "2       <=50K  \n",
       "3       <=50K  \n",
       "4       <=50K  \n",
       "...       ...  \n",
       "32556   <=50K  \n",
       "32557    >50K  \n",
       "32558   <=50K  \n",
       "32559   <=50K  \n",
       "32560    >50K  \n",
       "\n",
       "[32561 rows x 15 columns]"
      ]
     },
     "execution_count": 30,
     "metadata": {},
     "output_type": "execute_result"
    }
   ],
   "source": [
    "a_income"
   ]
  },
  {
   "cell_type": "code",
   "execution_count": 12,
   "id": "e6ce67fa",
   "metadata": {},
   "outputs": [
    {
     "data": {
      "text/plain": [
       " <=50K    75.919044\n",
       " >50K     24.080956\n",
       "Name: income, dtype: float64"
      ]
     },
     "execution_count": 12,
     "metadata": {},
     "output_type": "execute_result"
    }
   ],
   "source": [
    "a_income.income.value_counts(normalize=True)*100"
   ]
  },
  {
   "cell_type": "markdown",
   "id": "c18dea6b",
   "metadata": {},
   "source": [
    "base on initial informatin, 76% person income is less then 50k, and 24% personn income greater then 50k"
   ]
  },
  {
   "cell_type": "code",
   "execution_count": 13,
   "id": "9a861e8f",
   "metadata": {},
   "outputs": [],
   "source": [
    "a_income.income = a_income.income.str.strip()\n"
   ]
  },
  {
   "cell_type": "code",
   "execution_count": 54,
   "id": "1cade684",
   "metadata": {},
   "outputs": [
    {
     "data": {
      "text/plain": [
       "array(['<=50K', '>50K'], dtype=object)"
      ]
     },
     "execution_count": 54,
     "metadata": {},
     "output_type": "execute_result"
    }
   ],
   "source": [
    "a_income.income.unique()"
   ]
  },
  {
   "cell_type": "code",
   "execution_count": 14,
   "id": "a479dfb9",
   "metadata": {},
   "outputs": [],
   "source": [
    "income_above_50 = a_income[a_income.income=='>50K']"
   ]
  },
  {
   "cell_type": "code",
   "execution_count": 15,
   "id": "0b0db30b",
   "metadata": {},
   "outputs": [],
   "source": [
    "income_below_50 = a_income[a_income.income=='<=50K']"
   ]
  },
  {
   "cell_type": "code",
   "execution_count": 59,
   "id": "f258615a",
   "metadata": {},
   "outputs": [
    {
     "data": {
      "text/html": [
       "<div>\n",
       "<style scoped>\n",
       "    .dataframe tbody tr th:only-of-type {\n",
       "        vertical-align: middle;\n",
       "    }\n",
       "\n",
       "    .dataframe tbody tr th {\n",
       "        vertical-align: top;\n",
       "    }\n",
       "\n",
       "    .dataframe thead th {\n",
       "        text-align: right;\n",
       "    }\n",
       "</style>\n",
       "<table border=\"1\" class=\"dataframe\">\n",
       "  <thead>\n",
       "    <tr style=\"text-align: right;\">\n",
       "      <th></th>\n",
       "      <th>age</th>\n",
       "      <th>workclass</th>\n",
       "      <th>final_weight</th>\n",
       "      <th>eduction</th>\n",
       "      <th>education_num</th>\n",
       "      <th>materical_status</th>\n",
       "      <th>occupation</th>\n",
       "      <th>relationship</th>\n",
       "      <th>race</th>\n",
       "      <th>gender</th>\n",
       "      <th>capital_gain</th>\n",
       "      <th>capital_loss</th>\n",
       "      <th>hours_per_week</th>\n",
       "      <th>native_country</th>\n",
       "      <th>income</th>\n",
       "    </tr>\n",
       "  </thead>\n",
       "  <tbody>\n",
       "    <tr>\n",
       "      <th>0</th>\n",
       "      <td>39</td>\n",
       "      <td>State-gov</td>\n",
       "      <td>77516</td>\n",
       "      <td>Bachelors</td>\n",
       "      <td>13</td>\n",
       "      <td>Never-married</td>\n",
       "      <td>Adm-clerical</td>\n",
       "      <td>Not-in-family</td>\n",
       "      <td>White</td>\n",
       "      <td>Male</td>\n",
       "      <td>2174</td>\n",
       "      <td>0</td>\n",
       "      <td>40</td>\n",
       "      <td>United-States</td>\n",
       "      <td>&lt;=50K</td>\n",
       "    </tr>\n",
       "    <tr>\n",
       "      <th>1</th>\n",
       "      <td>50</td>\n",
       "      <td>Self-emp-not-inc</td>\n",
       "      <td>83311</td>\n",
       "      <td>Bachelors</td>\n",
       "      <td>13</td>\n",
       "      <td>Married-civ-spouse</td>\n",
       "      <td>Exec-managerial</td>\n",
       "      <td>Husband</td>\n",
       "      <td>White</td>\n",
       "      <td>Male</td>\n",
       "      <td>0</td>\n",
       "      <td>0</td>\n",
       "      <td>13</td>\n",
       "      <td>United-States</td>\n",
       "      <td>&lt;=50K</td>\n",
       "    </tr>\n",
       "    <tr>\n",
       "      <th>2</th>\n",
       "      <td>38</td>\n",
       "      <td>Private</td>\n",
       "      <td>215646</td>\n",
       "      <td>HS-grad</td>\n",
       "      <td>9</td>\n",
       "      <td>Divorced</td>\n",
       "      <td>Handlers-cleaners</td>\n",
       "      <td>Not-in-family</td>\n",
       "      <td>White</td>\n",
       "      <td>Male</td>\n",
       "      <td>0</td>\n",
       "      <td>0</td>\n",
       "      <td>40</td>\n",
       "      <td>United-States</td>\n",
       "      <td>&lt;=50K</td>\n",
       "    </tr>\n",
       "    <tr>\n",
       "      <th>3</th>\n",
       "      <td>53</td>\n",
       "      <td>Private</td>\n",
       "      <td>234721</td>\n",
       "      <td>11th</td>\n",
       "      <td>7</td>\n",
       "      <td>Married-civ-spouse</td>\n",
       "      <td>Handlers-cleaners</td>\n",
       "      <td>Husband</td>\n",
       "      <td>Black</td>\n",
       "      <td>Male</td>\n",
       "      <td>0</td>\n",
       "      <td>0</td>\n",
       "      <td>40</td>\n",
       "      <td>United-States</td>\n",
       "      <td>&lt;=50K</td>\n",
       "    </tr>\n",
       "    <tr>\n",
       "      <th>4</th>\n",
       "      <td>28</td>\n",
       "      <td>Private</td>\n",
       "      <td>338409</td>\n",
       "      <td>Bachelors</td>\n",
       "      <td>13</td>\n",
       "      <td>Married-civ-spouse</td>\n",
       "      <td>Prof-specialty</td>\n",
       "      <td>Wife</td>\n",
       "      <td>Black</td>\n",
       "      <td>Female</td>\n",
       "      <td>0</td>\n",
       "      <td>0</td>\n",
       "      <td>40</td>\n",
       "      <td>Cuba</td>\n",
       "      <td>&lt;=50K</td>\n",
       "    </tr>\n",
       "    <tr>\n",
       "      <th>...</th>\n",
       "      <td>...</td>\n",
       "      <td>...</td>\n",
       "      <td>...</td>\n",
       "      <td>...</td>\n",
       "      <td>...</td>\n",
       "      <td>...</td>\n",
       "      <td>...</td>\n",
       "      <td>...</td>\n",
       "      <td>...</td>\n",
       "      <td>...</td>\n",
       "      <td>...</td>\n",
       "      <td>...</td>\n",
       "      <td>...</td>\n",
       "      <td>...</td>\n",
       "      <td>...</td>\n",
       "    </tr>\n",
       "    <tr>\n",
       "      <th>32553</th>\n",
       "      <td>32</td>\n",
       "      <td>Private</td>\n",
       "      <td>116138</td>\n",
       "      <td>Masters</td>\n",
       "      <td>14</td>\n",
       "      <td>Never-married</td>\n",
       "      <td>Tech-support</td>\n",
       "      <td>Not-in-family</td>\n",
       "      <td>Asian-Pac-Islander</td>\n",
       "      <td>Male</td>\n",
       "      <td>0</td>\n",
       "      <td>0</td>\n",
       "      <td>11</td>\n",
       "      <td>Taiwan</td>\n",
       "      <td>&lt;=50K</td>\n",
       "    </tr>\n",
       "    <tr>\n",
       "      <th>32555</th>\n",
       "      <td>22</td>\n",
       "      <td>Private</td>\n",
       "      <td>310152</td>\n",
       "      <td>Some-college</td>\n",
       "      <td>10</td>\n",
       "      <td>Never-married</td>\n",
       "      <td>Protective-serv</td>\n",
       "      <td>Not-in-family</td>\n",
       "      <td>White</td>\n",
       "      <td>Male</td>\n",
       "      <td>0</td>\n",
       "      <td>0</td>\n",
       "      <td>40</td>\n",
       "      <td>United-States</td>\n",
       "      <td>&lt;=50K</td>\n",
       "    </tr>\n",
       "    <tr>\n",
       "      <th>32556</th>\n",
       "      <td>27</td>\n",
       "      <td>Private</td>\n",
       "      <td>257302</td>\n",
       "      <td>Assoc-acdm</td>\n",
       "      <td>12</td>\n",
       "      <td>Married-civ-spouse</td>\n",
       "      <td>Tech-support</td>\n",
       "      <td>Wife</td>\n",
       "      <td>White</td>\n",
       "      <td>Female</td>\n",
       "      <td>0</td>\n",
       "      <td>0</td>\n",
       "      <td>38</td>\n",
       "      <td>United-States</td>\n",
       "      <td>&lt;=50K</td>\n",
       "    </tr>\n",
       "    <tr>\n",
       "      <th>32558</th>\n",
       "      <td>58</td>\n",
       "      <td>Private</td>\n",
       "      <td>151910</td>\n",
       "      <td>HS-grad</td>\n",
       "      <td>9</td>\n",
       "      <td>Widowed</td>\n",
       "      <td>Adm-clerical</td>\n",
       "      <td>Unmarried</td>\n",
       "      <td>White</td>\n",
       "      <td>Female</td>\n",
       "      <td>0</td>\n",
       "      <td>0</td>\n",
       "      <td>40</td>\n",
       "      <td>United-States</td>\n",
       "      <td>&lt;=50K</td>\n",
       "    </tr>\n",
       "    <tr>\n",
       "      <th>32559</th>\n",
       "      <td>22</td>\n",
       "      <td>Private</td>\n",
       "      <td>201490</td>\n",
       "      <td>HS-grad</td>\n",
       "      <td>9</td>\n",
       "      <td>Never-married</td>\n",
       "      <td>Adm-clerical</td>\n",
       "      <td>Own-child</td>\n",
       "      <td>White</td>\n",
       "      <td>Male</td>\n",
       "      <td>0</td>\n",
       "      <td>0</td>\n",
       "      <td>20</td>\n",
       "      <td>United-States</td>\n",
       "      <td>&lt;=50K</td>\n",
       "    </tr>\n",
       "  </tbody>\n",
       "</table>\n",
       "<p>24720 rows × 15 columns</p>\n",
       "</div>"
      ],
      "text/plain": [
       "       age          workclass  final_weight       eduction  education_num  \\\n",
       "0       39          State-gov         77516      Bachelors             13   \n",
       "1       50   Self-emp-not-inc         83311      Bachelors             13   \n",
       "2       38            Private        215646        HS-grad              9   \n",
       "3       53            Private        234721           11th              7   \n",
       "4       28            Private        338409      Bachelors             13   \n",
       "...    ...                ...           ...            ...            ...   \n",
       "32553   32            Private        116138        Masters             14   \n",
       "32555   22            Private        310152   Some-college             10   \n",
       "32556   27            Private        257302     Assoc-acdm             12   \n",
       "32558   58            Private        151910        HS-grad              9   \n",
       "32559   22            Private        201490        HS-grad              9   \n",
       "\n",
       "          materical_status          occupation    relationship  \\\n",
       "0            Never-married        Adm-clerical   Not-in-family   \n",
       "1       Married-civ-spouse     Exec-managerial         Husband   \n",
       "2                 Divorced   Handlers-cleaners   Not-in-family   \n",
       "3       Married-civ-spouse   Handlers-cleaners         Husband   \n",
       "4       Married-civ-spouse      Prof-specialty            Wife   \n",
       "...                    ...                 ...             ...   \n",
       "32553        Never-married        Tech-support   Not-in-family   \n",
       "32555        Never-married     Protective-serv   Not-in-family   \n",
       "32556   Married-civ-spouse        Tech-support            Wife   \n",
       "32558              Widowed        Adm-clerical       Unmarried   \n",
       "32559        Never-married        Adm-clerical       Own-child   \n",
       "\n",
       "                      race   gender  capital_gain  capital_loss  \\\n",
       "0                    White     Male          2174             0   \n",
       "1                    White     Male             0             0   \n",
       "2                    White     Male             0             0   \n",
       "3                    Black     Male             0             0   \n",
       "4                    Black   Female             0             0   \n",
       "...                    ...      ...           ...           ...   \n",
       "32553   Asian-Pac-Islander     Male             0             0   \n",
       "32555                White     Male             0             0   \n",
       "32556                White   Female             0             0   \n",
       "32558                White   Female             0             0   \n",
       "32559                White     Male             0             0   \n",
       "\n",
       "       hours_per_week  native_country income  \n",
       "0                  40   United-States  <=50K  \n",
       "1                  13   United-States  <=50K  \n",
       "2                  40   United-States  <=50K  \n",
       "3                  40   United-States  <=50K  \n",
       "4                  40            Cuba  <=50K  \n",
       "...               ...             ...    ...  \n",
       "32553              11          Taiwan  <=50K  \n",
       "32555              40   United-States  <=50K  \n",
       "32556              38   United-States  <=50K  \n",
       "32558              40   United-States  <=50K  \n",
       "32559              20   United-States  <=50K  \n",
       "\n",
       "[24720 rows x 15 columns]"
      ]
     },
     "execution_count": 59,
     "metadata": {},
     "output_type": "execute_result"
    }
   ],
   "source": [
    "income_below_50"
   ]
  },
  {
   "cell_type": "code",
   "execution_count": 16,
   "id": "78677d46",
   "metadata": {},
   "outputs": [],
   "source": [
    "import matplotlib.pyplot as plt"
   ]
  },
  {
   "cell_type": "code",
   "execution_count": 85,
   "id": "52e7078e",
   "metadata": {},
   "outputs": [
    {
     "name": "stderr",
     "output_type": "stream",
     "text": [
      "No artists with labels found to put in legend.  Note that artists whose label start with an underscore are ignored when legend() is called with no argument.\n"
     ]
    },
    {
     "data": {
      "image/png": "[encoded data removed]",
      "text/plain": [
       "<Figure size 1080x432 with 2 Axes>"
      ]
     },
     "metadata": {
      "needs_background": "light"
     },
     "output_type": "display_data"
    }
   ],
   "source": [
    "plt.figure(figsize=(15,6))\n",
    "plt.subplot(1,2,1)\n",
    "plt.hist(income_above_50.age)\n",
    "plt.title(\" Age Income above 50\")\n",
    "plt.xlabel(\"Age\")\n",
    "plt.subplot(1,2,2)\n",
    "plt.hist(income_below_50.age,)\n",
    "plt.title(\"Age Income below 50\")\n",
    "#plt.subplot(2,2,3)\n",
    "#plt.hist(income_above_50.hours_per_week, )\n",
    "#plt.title(\"HPW above 50\")\n",
    "#plt.subplot(2,2,4)\n",
    "#plt.hist(income_below_50.hours_per_week, )\n",
    "#plt.title(\"HPW below 50\")\n",
    "plt.xlabel(\"Age\")\n",
    "plt.legend()\n",
    "plt.show()"
   ]
  },
  {
   "cell_type": "markdown",
   "id": "d2382d86",
   "metadata": {},
   "source": [
    "Summary: In above subplot (1), we can easily identify that age between 40 to 50 shown more then 50K income,\n",
    "    the questin is what type of employee get income more then 50k, this will be check in another graph\n",
    "    Subplot(2), this shown  the age shown thoese whose income is below 50K\n",
    "    above both senerio, we need to find out which type of employ have differece, we can see both have 40 to 50 year old employee"
   ]
  },
  {
   "cell_type": "code",
   "execution_count": null,
   "id": "dcd6f782",
   "metadata": {},
   "outputs": [],
   "source": []
  },
  {
   "cell_type": "code",
   "execution_count": 17,
   "id": "f2961e02",
   "metadata": {},
   "outputs": [],
   "source": [
    "import seaborn as sns"
   ]
  },
  {
   "cell_type": "code",
   "execution_count": 18,
   "id": "e319a665",
   "metadata": {},
   "outputs": [
    {
     "data": {
      "text/plain": [
       "<AxesSubplot:xlabel='education_num', ylabel='income'>"
      ]
     },
     "execution_count": 18,
     "metadata": {},
     "output_type": "execute_result"
    },
    {
     "data": {
      "image/png": "[encoded data removed]",
      "text/plain": [
       "<Figure size 432x288 with 1 Axes>"
      ]
     },
     "metadata": {
      "needs_background": "light"
     },
     "output_type": "display_data"
    }
   ],
   "source": [
    "sns.barplot(x=a_income.education_num, y=a_income.income,hue=a_income.workclass)"
   ]
  },
  {
   "cell_type": "code",
   "execution_count": 103,
   "id": "53960aa2",
   "metadata": {},
   "outputs": [
    {
     "data": {
      "image/png": "[encoded data removed]",
      "text/plain": [
       "<Figure size 1080x432 with 2 Axes>"
      ]
     },
     "metadata": {
      "needs_background": "light"
     },
     "output_type": "display_data"
    }
   ],
   "source": [
    "plt.figure(figsize=(15,6))\n",
    "plt.subplot(1,2,1)\n",
    "sns.barplot(x=income_above_50.income, y=income_above_50.education_num,hue=income_above_50.workclass)\n",
    "plt.subplot(1,2,2)\n",
    "sns.barplot(x=income_below_50.income, y=income_below_50.education_num,hue=income_below_50.workclass)\n",
    "plt.show()"
   ]
  },
  {
   "cell_type": "markdown",
   "id": "91ad0dc7",
   "metadata": {},
   "source": [
    "Hence prove that More eduction means more income, its positive coorelation"
   ]
  },
  {
   "cell_type": "code",
   "execution_count": 19,
   "id": "bb3400ca",
   "metadata": {},
   "outputs": [
    {
     "data": {
      "text/html": [
       "<div>\n",
       "<style scoped>\n",
       "    .dataframe tbody tr th:only-of-type {\n",
       "        vertical-align: middle;\n",
       "    }\n",
       "\n",
       "    .dataframe tbody tr th {\n",
       "        vertical-align: top;\n",
       "    }\n",
       "\n",
       "    .dataframe thead th {\n",
       "        text-align: right;\n",
       "    }\n",
       "</style>\n",
       "<table border=\"1\" class=\"dataframe\">\n",
       "  <thead>\n",
       "    <tr style=\"text-align: right;\">\n",
       "      <th></th>\n",
       "      <th>age</th>\n",
       "      <th>final_weight</th>\n",
       "      <th>education_num</th>\n",
       "      <th>capital_gain</th>\n",
       "      <th>capital_loss</th>\n",
       "      <th>hours_per_week</th>\n",
       "    </tr>\n",
       "  </thead>\n",
       "  <tbody>\n",
       "    <tr>\n",
       "      <th>age</th>\n",
       "      <td>1.000000</td>\n",
       "      <td>-0.076646</td>\n",
       "      <td>0.036527</td>\n",
       "      <td>0.077674</td>\n",
       "      <td>0.057775</td>\n",
       "      <td>0.068756</td>\n",
       "    </tr>\n",
       "    <tr>\n",
       "      <th>final_weight</th>\n",
       "      <td>-0.076646</td>\n",
       "      <td>1.000000</td>\n",
       "      <td>-0.043195</td>\n",
       "      <td>0.000432</td>\n",
       "      <td>-0.010252</td>\n",
       "      <td>-0.018768</td>\n",
       "    </tr>\n",
       "    <tr>\n",
       "      <th>education_num</th>\n",
       "      <td>0.036527</td>\n",
       "      <td>-0.043195</td>\n",
       "      <td>1.000000</td>\n",
       "      <td>0.122630</td>\n",
       "      <td>0.079923</td>\n",
       "      <td>0.148123</td>\n",
       "    </tr>\n",
       "    <tr>\n",
       "      <th>capital_gain</th>\n",
       "      <td>0.077674</td>\n",
       "      <td>0.000432</td>\n",
       "      <td>0.122630</td>\n",
       "      <td>1.000000</td>\n",
       "      <td>-0.031615</td>\n",
       "      <td>0.078409</td>\n",
       "    </tr>\n",
       "    <tr>\n",
       "      <th>capital_loss</th>\n",
       "      <td>0.057775</td>\n",
       "      <td>-0.010252</td>\n",
       "      <td>0.079923</td>\n",
       "      <td>-0.031615</td>\n",
       "      <td>1.000000</td>\n",
       "      <td>0.054256</td>\n",
       "    </tr>\n",
       "    <tr>\n",
       "      <th>hours_per_week</th>\n",
       "      <td>0.068756</td>\n",
       "      <td>-0.018768</td>\n",
       "      <td>0.148123</td>\n",
       "      <td>0.078409</td>\n",
       "      <td>0.054256</td>\n",
       "      <td>1.000000</td>\n",
       "    </tr>\n",
       "  </tbody>\n",
       "</table>\n",
       "</div>"
      ],
      "text/plain": [
       "                     age  final_weight  education_num  capital_gain  \\\n",
       "age             1.000000     -0.076646       0.036527      0.077674   \n",
       "final_weight   -0.076646      1.000000      -0.043195      0.000432   \n",
       "education_num   0.036527     -0.043195       1.000000      0.122630   \n",
       "capital_gain    0.077674      0.000432       0.122630      1.000000   \n",
       "capital_loss    0.057775     -0.010252       0.079923     -0.031615   \n",
       "hours_per_week  0.068756     -0.018768       0.148123      0.078409   \n",
       "\n",
       "                capital_loss  hours_per_week  \n",
       "age                 0.057775        0.068756  \n",
       "final_weight       -0.010252       -0.018768  \n",
       "education_num       0.079923        0.148123  \n",
       "capital_gain       -0.031615        0.078409  \n",
       "capital_loss        1.000000        0.054256  \n",
       "hours_per_week      0.054256        1.000000  "
      ]
     },
     "execution_count": 19,
     "metadata": {},
     "output_type": "execute_result"
    }
   ],
   "source": [
    "a_income.corr()"
   ]
  },
  {
   "cell_type": "code",
   "execution_count": 21,
   "id": "064815aa",
   "metadata": {},
   "outputs": [],
   "source": [
    "cat_col = a_income.dtypes[a_income.dtypes=='object']"
   ]
  },
  {
   "cell_type": "code",
   "execution_count": 22,
   "id": "7ffb355f",
   "metadata": {},
   "outputs": [
    {
     "data": {
      "text/plain": [
       "Index(['workclass', 'eduction', 'materical_status', 'occupation',\n",
       "       'relationship', 'race', 'gender', 'native_country', 'income'],\n",
       "      dtype='object')"
      ]
     },
     "execution_count": 22,
     "metadata": {},
     "output_type": "execute_result"
    }
   ],
   "source": [
    "cat_col.index"
   ]
  },
  {
   "cell_type": "code",
   "execution_count": 23,
   "id": "ba700d33",
   "metadata": {},
   "outputs": [],
   "source": [
    "int_col = a_income.dtypes[a_income.dtypes!='object']"
   ]
  },
  {
   "cell_type": "code",
   "execution_count": 25,
   "id": "f071364c",
   "metadata": {},
   "outputs": [
    {
     "data": {
      "text/plain": [
       "Index(['age', 'final_weight', 'education_num', 'capital_gain', 'capital_loss',\n",
       "       'hours_per_week'],\n",
       "      dtype='object')"
      ]
     },
     "execution_count": 25,
     "metadata": {},
     "output_type": "execute_result"
    }
   ],
   "source": [
    "int_col.index"
   ]
  },
  {
   "cell_type": "code",
   "execution_count": 29,
   "id": "eced836f",
   "metadata": {},
   "outputs": [],
   "source": [
    "a_income.occupation = a_income.occupation.str.strip()"
   ]
  },
  {
   "cell_type": "code",
   "execution_count": 126,
   "id": "dfac2cb9",
   "metadata": {},
   "outputs": [
    {
     "name": "stdout",
     "output_type": "stream",
     "text": [
      "*************workclass***************\n",
      "                 Vales       %pct\n",
      "Private          22696  69.703019\n",
      "Government-Job    4351  13.362612\n",
      "Self-Employment   3657  11.231228\n",
      "Unknown           1836   5.638647\n",
      "Without-pay         14   0.042996\n",
      "Never-worked         7   0.021498\n",
      "\n",
      "\n",
      "*************eduction***************\n",
      "                Vales       %pct\n",
      "High-School     13556  41.632628\n",
      "Some-college     7291  22.391818\n",
      "Bachelors        5355  16.446055\n",
      "Masters          1723   5.291607\n",
      "Assoc-voc        1382   4.244341\n",
      "Primery-School   1147   3.522619\n",
      "Assoc-acdm       1067   3.276926\n",
      "Prof-school       576   1.768987\n",
      "Doctorate         413   1.268389\n",
      "Preschool          51   0.156629\n",
      "\n",
      "\n",
      "*************materical_status***************\n",
      "               Vales       %pct\n",
      "Married-Life   15417  47.348054\n",
      "Never-married  10683  32.809189\n",
      "Divorced        5468  16.793096\n",
      "Widowed          993   3.049661\n",
      "\n",
      "\n",
      "*************occupation***************\n",
      "                   Vales       %pct\n",
      "Prof-specialty      4140  12.714597\n",
      "Craft-repair        4099  12.588680\n",
      "Exec-managerial     4066  12.487331\n",
      "Adm-clerical        3770  11.578268\n",
      "Sales               3650  11.209729\n",
      "Other-service       3295  10.119468\n",
      "Machine-op-inspct   2002   6.148460\n",
      "Unknown             1843   5.660146\n",
      "Transport-moving    1597   4.904641\n",
      "Handlers-cleaners   1370   4.207487\n",
      "Farming-fishing      994   3.052732\n",
      "Tech-support         928   2.850035\n",
      "Protective-serv      649   1.993182\n",
      "Priv-house-serv      149   0.457603\n",
      "Armed-Forces           9   0.027640\n",
      "\n",
      "\n",
      "*************relationship***************\n",
      "                 Vales       %pct\n",
      " Husband         13193  40.517797\n",
      " Not-in-family    8305  25.505973\n",
      " Own-child        5068  15.564633\n",
      " Unmarried        3446  10.583213\n",
      " Wife             1568   4.815577\n",
      " Other-relative    981   3.012807\n",
      "\n",
      "\n",
      "*************race***************\n",
      "                     Vales       %pct\n",
      " White               27816  85.427352\n",
      " Black                3124   9.594300\n",
      " Asian-Pac-Islander   1039   3.190934\n",
      " Amer-Indian-Eskimo    311   0.955130\n",
      " Other                 271   0.832284\n",
      "\n",
      "\n",
      "*************gender***************\n",
      "         Vales       %pct\n",
      " Male    21790  66.920549\n",
      " Female  10771  33.079451\n",
      "\n",
      "\n",
      "*************native_country***************\n",
      "                             Vales       %pct\n",
      " United-States               29170  89.585701\n",
      " Mexico                        643   1.974755\n",
      " ?                             583   1.790486\n",
      " Philippines                   198   0.608089\n",
      " Germany                       137   0.420749\n",
      " Canada                        121   0.371610\n",
      " Puerto-Rico                   114   0.350112\n",
      " El-Salvador                   106   0.325543\n",
      " India                         100   0.307116\n",
      " Cuba                           95   0.291760\n",
      " England                        90   0.276404\n",
      " Jamaica                        81   0.248764\n",
      " South                          80   0.245693\n",
      " China                          75   0.230337\n",
      " Italy                          73   0.224195\n",
      " Dominican-Republic             70   0.214981\n",
      " Vietnam                        67   0.205768\n",
      " Guatemala                      64   0.196554\n",
      " Japan                          62   0.190412\n",
      " Poland                         60   0.184270\n",
      " Columbia                       59   0.181198\n",
      " Taiwan                         51   0.156629\n",
      " Haiti                          44   0.135131\n",
      " Iran                           43   0.132060\n",
      " Portugal                       37   0.113633\n",
      " Nicaragua                      34   0.104419\n",
      " Peru                           31   0.095206\n",
      " France                         29   0.089064\n",
      " Greece                         29   0.089064\n",
      " Ecuador                        28   0.085992\n",
      " Ireland                        24   0.073708\n",
      " Hong                           20   0.061423\n",
      " Cambodia                       19   0.058352\n",
      " Trinadad&Tobago                19   0.058352\n",
      " Laos                           18   0.055281\n",
      " Thailand                       18   0.055281\n",
      " Yugoslavia                     16   0.049139\n",
      " Outlying-US(Guam-USVI-etc)     14   0.042996\n",
      " Honduras                       13   0.039925\n",
      " Hungary                        13   0.039925\n",
      " Scotland                       12   0.036854\n",
      " Holand-Netherlands              1   0.003071\n",
      "\n",
      "\n",
      "*************income***************\n",
      "       Vales       %pct\n",
      "<=50K  24720  75.919044\n",
      ">50K    7841  24.080956\n",
      "\n",
      "\n"
     ]
    }
   ],
   "source": [
    "for col in cat_col.index:\n",
    "    print(f'*************{col}'+\"*\"*15 )\n",
    "    totalvalue = a_income[col].value_counts()\n",
    "    percentage = (a_income[col].value_counts()/ a_income[col].shape[0])*100\n",
    "    df = pd.concat([totalvalue,percentage], keys=['Vales','%pct'],axis=1)\n",
    "    print(df)\n",
    "    print(\"\\n\")\n",
    "    "
   ]
  },
  {
   "cell_type": "markdown",
   "id": "0927db7e",
   "metadata": {},
   "source": [
    "# IDENTIFY \n",
    "workclass occupation native_country have ? need to change it done\n",
    "need to change the education data, like\n",
    "9 to 12 should be High School done\n",
    "1 to 8 should be Secondary School done\n",
    "MarriedLife = (Married-civ-spouse = Married-spouse-absent = Married=AF-spouse)\n",
    "Divorced = Separated\n",
    "In WorkClass, self-emp come under one umberalla either insurance or not\n",
    "In workClass, all the state, local, federal come under Goverment Employ"
   ]
  },
  {
   "cell_type": "code",
   "execution_count": 108,
   "id": "70d7a2e3",
   "metadata": {},
   "outputs": [],
   "source": [
    "list = '''Private           \n",
    "Self-emp-not-inc  \n",
    "Local-gov         \n",
    "Unknown           \n",
    "State-gov         \n",
    "Self-emp-inc      \n",
    "Federal-gov       \n",
    "Without-pay       \n",
    "Never-worked''' \n",
    "tem = list.split()"
   ]
  },
  {
   "cell_type": "code",
   "execution_count": 125,
   "id": "c957242c",
   "metadata": {},
   "outputs": [],
   "source": [
    "tem\n",
    "temp = ['Self-emp-not-inc','Self-emp-inc']\n",
    "temp1 = ['Local-gov','State-gov','Federal-gov']\n",
    "#a_income.workclass.replace(temp,'Self-Employment',inplace=True)\n",
    "a_income.workclass.replace(temp1,'Government-Job', inplace=True)"
   ]
  },
  {
   "cell_type": "code",
   "execution_count": 121,
   "id": "befa8ec7",
   "metadata": {},
   "outputs": [
    {
     "data": {
      "text/plain": [
       "'Self-emp-not-inc'"
      ]
     },
     "execution_count": 121,
     "metadata": {},
     "output_type": "execute_result"
    }
   ],
   "source": [
    "tem[1:-3][0]"
   ]
  },
  {
   "cell_type": "code",
   "execution_count": null,
   "id": "a08e2365",
   "metadata": {},
   "outputs": [],
   "source": []
  },
  {
   "cell_type": "code",
   "execution_count": null,
   "id": "bbe546bf",
   "metadata": {},
   "outputs": [],
   "source": []
  },
  {
   "cell_type": "code",
   "execution_count": null,
   "id": "f8301b59",
   "metadata": {},
   "outputs": [],
   "source": []
  },
  {
   "cell_type": "code",
   "execution_count": 95,
   "id": "dd07c711",
   "metadata": {},
   "outputs": [
    {
     "data": {
      "text/plain": [
       "array(['Never-married', 'Married-Life', 'Divorced', 'Separated',\n",
       "       'Widowed'], dtype=object)"
      ]
     },
     "execution_count": 95,
     "metadata": {},
     "output_type": "execute_result"
    }
   ],
   "source": [
    "ml = ['Married-civ-spouse' ,'Married-spouse-absent' , 'Married-AF-spouse']\n",
    "a_income.materical_status.unique()"
   ]
  },
  {
   "cell_type": "code",
   "execution_count": 90,
   "id": "ac79b31d",
   "metadata": {},
   "outputs": [],
   "source": [
    "a_income.materical_status = a_income.materical_status.str.strip()"
   ]
  },
  {
   "cell_type": "code",
   "execution_count": 93,
   "id": "44e15042",
   "metadata": {},
   "outputs": [],
   "source": [
    "a_income.materical_status.replace(ml,'Married-Life',inplace=True)"
   ]
  },
  {
   "cell_type": "code",
   "execution_count": 101,
   "id": "30a5abb9",
   "metadata": {},
   "outputs": [],
   "source": [
    "a_income.materical_status.replace('Separated','Divorced',inplace=True)"
   ]
  },
  {
   "cell_type": "code",
   "execution_count": null,
   "id": "e3c74aeb",
   "metadata": {},
   "outputs": [],
   "source": []
  },
  {
   "cell_type": "code",
   "execution_count": null,
   "id": "fc1e62ca",
   "metadata": {},
   "outputs": [],
   "source": []
  },
  {
   "cell_type": "code",
   "execution_count": 80,
   "id": "4cb799c0",
   "metadata": {},
   "outputs": [],
   "source": [
    "edu = ['9th','10th','11th','12th']\n",
    "ele = ['7th-8th','5th-6th','1st-4th']\n",
    "#a_income.eduction.replace(edu,'High-School',inplace=True)\n",
    "#a_income.eduction.replace('HS-grad','High-School',inplace=True)\n",
    "a_income.eduction.replace(ele,'Primery-School',inplace=True)\n",
    "\n"
   ]
  },
  {
   "cell_type": "code",
   "execution_count": 78,
   "id": "df2f19b1",
   "metadata": {},
   "outputs": [
    {
     "data": {
      "text/plain": [
       "array(['Bachelors', 'High-School', 'Masters', 'Some-college',\n",
       "       'Assoc-acdm', 'Assoc-voc', '7th-8th', 'Doctorate', 'Prof-school',\n",
       "       '5th-6th', '1st-4th', 'Preschool'], dtype=object)"
      ]
     },
     "execution_count": 78,
     "metadata": {},
     "output_type": "execute_result"
    }
   ],
   "source": [
    "a_income.eduction.unique()"
   ]
  },
  {
   "cell_type": "code",
   "execution_count": 72,
   "id": "1e01550e",
   "metadata": {},
   "outputs": [],
   "source": [
    "a_income.eduction = a_income.eduction.str.strip()"
   ]
  },
  {
   "cell_type": "code",
   "execution_count": 58,
   "id": "89dee832",
   "metadata": {},
   "outputs": [],
   "source": [
    "selected_col = ['workclass','occupation','native_country']\n",
    "for col in selected_col:\n",
    "    a_income.loc[a_income[col]=='?',col] = 'Unknown'\n",
    "    #a_income.workclass = a_income.workclass.replace(' ?','Unknow').value_counts()\n",
    "#a_income.occupation = a_income.occupation.replace(' ?','Unknow').value_counts()\n",
    "#a_income.native_country = a_income.native_country.replace(' ?','Unknow').value_counts()\n",
    "    #a_income.loc[a_income[col]=='?',col]\n"
   ]
  },
  {
   "cell_type": "code",
   "execution_count": 59,
   "id": "10bfec73",
   "metadata": {},
   "outputs": [
    {
     "data": {
      "text/plain": [
       "array([False])"
      ]
     },
     "execution_count": 59,
     "metadata": {},
     "output_type": "execute_result"
    }
   ],
   "source": []
  },
  {
   "cell_type": "code",
   "execution_count": 176,
   "id": "8e01a9fb",
   "metadata": {},
   "outputs": [
    {
     "data": {
      "text/plain": [
       "array([' Bachelors', ' HS-grad', ' 11th', ' Masters', ' 9th',\n",
       "       ' Some-college', ' Assoc-acdm', ' Assoc-voc', ' 7th-8th',\n",
       "       ' Doctorate', ' Prof-school', ' 5th-6th', ' 10th', ' 1st-4th',\n",
       "       ' Preschool', ' 12th'], dtype=object)"
      ]
     },
     "execution_count": 176,
     "metadata": {},
     "output_type": "execute_result"
    }
   ],
   "source": [
    "classdict = ['9th','High School']\n",
    "a_income.eduction.unique()"
   ]
  },
  {
   "cell_type": "code",
   "execution_count": 187,
   "id": "a89e0888",
   "metadata": {},
   "outputs": [
    {
     "data": {
      "text/plain": [
       "array(['Bachelors', 'HS-grad', '11th', 'Masters', '9th', 'Some-college',\n",
       "       'Assoc-acdm', 'Assoc-voc', '7th-8th', 'Doctorate', 'Prof-school',\n",
       "       '5th-6th', '10th', '1st-4th', 'Preschool', '12th'], dtype=object)"
      ]
     },
     "execution_count": 187,
     "metadata": {},
     "output_type": "execute_result"
    }
   ],
   "source": [
    "a_income.eduction.unique()"
   ]
  },
  {
   "cell_type": "code",
   "execution_count": 129,
   "id": "a3b73edf",
   "metadata": {},
   "outputs": [
    {
     "name": "stdout",
     "output_type": "stream",
     "text": [
      "***********age ***************\n",
      "    In_value  In_percent\n",
      "36       898    2.757901\n",
      "31       888    2.727189\n",
      "34       886    2.721047\n",
      "23       877    2.693406\n",
      "35       876    2.690335\n",
      "..       ...         ...\n",
      "83         6    0.018427\n",
      "88         3    0.009213\n",
      "85         3    0.009213\n",
      "86         1    0.003071\n",
      "87         1    0.003071\n",
      "\n",
      "[73 rows x 2 columns]\n",
      "\n",
      "\n",
      "***********final_weight ***************\n",
      "        In_value  In_percent\n",
      "164190        13    0.039925\n",
      "203488        13    0.039925\n",
      "123011        13    0.039925\n",
      "148995        12    0.036854\n",
      "121124        12    0.036854\n",
      "...          ...         ...\n",
      "232784         1    0.003071\n",
      "325573         1    0.003071\n",
      "140176         1    0.003071\n",
      "318264         1    0.003071\n",
      "257302         1    0.003071\n",
      "\n",
      "[21648 rows x 2 columns]\n",
      "\n",
      "\n",
      "***********education_num ***************\n",
      "    In_value  In_percent\n",
      "9      10501   32.250238\n",
      "10      7291   22.391818\n",
      "13      5355   16.446055\n",
      "14      1723    5.291607\n",
      "11      1382    4.244341\n",
      "7       1175    3.608612\n",
      "12      1067    3.276926\n",
      "6        933    2.865391\n",
      "4        646    1.983969\n",
      "15       576    1.768987\n",
      "5        514    1.578576\n",
      "8        433    1.329812\n",
      "16       413    1.268389\n",
      "3        333    1.022696\n",
      "2        168    0.515955\n",
      "1         51    0.156629\n",
      "\n",
      "\n",
      "***********capital_gain ***************\n",
      "       In_value  In_percent\n",
      "0         29849   91.671017\n",
      "15024       347    1.065692\n",
      "7688        284    0.872209\n",
      "7298        246    0.755505\n",
      "99999       159    0.488314\n",
      "...         ...         ...\n",
      "1111          1    0.003071\n",
      "2538          1    0.003071\n",
      "22040         1    0.003071\n",
      "4931          1    0.003071\n",
      "5060          1    0.003071\n",
      "\n",
      "[119 rows x 2 columns]\n",
      "\n",
      "\n",
      "***********capital_loss ***************\n",
      "      In_value  In_percent\n",
      "0        31042   95.334910\n",
      "1902       202    0.620374\n",
      "1977       168    0.515955\n",
      "1887       159    0.488314\n",
      "1848        51    0.156629\n",
      "...        ...         ...\n",
      "2080         1    0.003071\n",
      "1539         1    0.003071\n",
      "1844         1    0.003071\n",
      "2489         1    0.003071\n",
      "1411         1    0.003071\n",
      "\n",
      "[92 rows x 2 columns]\n",
      "\n",
      "\n",
      "***********hours_per_week ***************\n",
      "    In_value  In_percent\n",
      "40     15217   46.733823\n",
      "50      2819    8.657597\n",
      "45      1824    5.601794\n",
      "60      1475    4.529959\n",
      "35      1297    3.983293\n",
      "..       ...         ...\n",
      "82         1    0.003071\n",
      "92         1    0.003071\n",
      "87         1    0.003071\n",
      "74         1    0.003071\n",
      "94         1    0.003071\n",
      "\n",
      "[94 rows x 2 columns]\n",
      "\n",
      "\n"
     ]
    }
   ],
   "source": [
    "for intcol in int_col.index:\n",
    "    print(f'***********{intcol} '+ '*'*15)\n",
    "    total_int = a_income[intcol].value_counts()\n",
    "    percent_int = (a_income[intcol].value_counts() / a_income[intcol].shape[0])*100\n",
    "    int_df = pd.concat([total_int,percent_int], keys=['In_value','In_percent'], axis=1)\n",
    "    print(int_df)\n",
    "    print(\"\\n\")"
   ]
  },
  {
   "cell_type": "code",
   "execution_count": 127,
   "id": "111237cb",
   "metadata": {},
   "outputs": [
    {
     "data": {
      "text/plain": [
       "<AxesSubplot:xlabel='income', ylabel='count'>"
      ]
     },
     "execution_count": 127,
     "metadata": {},
     "output_type": "execute_result"
    },
    {
     "data": {
      "image/png": "[encoded data removed]",
      "text/plain": [
       "<Figure size 432x288 with 1 Axes>"
      ]
     },
     "metadata": {
      "needs_background": "light"
     },
     "output_type": "display_data"
    }
   ],
   "source": [
    "sns.countplot(x='income',data=a_income)"
   ]
  },
  {
   "cell_type": "code",
   "execution_count": 194,
   "id": "b5cabb20",
   "metadata": {},
   "outputs": [],
   "source": [
    "a = int_col.index\n",
    "new_df = a_income.loc[:,a]"
   ]
  },
  {
   "cell_type": "code",
   "execution_count": 212,
   "id": "e054f46e",
   "metadata": {},
   "outputs": [
    {
     "data": {
      "image/png": "[encoded data removed]",
      "text/plain": [
       "<Figure size 576x288 with 1 Axes>"
      ]
     },
     "metadata": {
      "needs_background": "light"
     },
     "output_type": "display_data"
    },
    {
     "data": {
      "image/png": "[encoded data removed]",
      "text/plain": [
       "<Figure size 576x288 with 1 Axes>"
      ]
     },
     "metadata": {
      "needs_background": "light"
     },
     "output_type": "display_data"
    },
    {
     "data": {
      "image/png": "[encoded data removed]",
      "text/plain": [
       "<Figure size 576x288 with 1 Axes>"
      ]
     },
     "metadata": {
      "needs_background": "light"
     },
     "output_type": "display_data"
    },
    {
     "data": {
      "image/png": "[encoded data removed]",
      "text/plain": [
       "<Figure size 576x288 with 1 Axes>"
      ]
     },
     "metadata": {
      "needs_background": "light"
     },
     "output_type": "display_data"
    },
    {
     "data": {
      "image/png": "[encoded data removed]",
      "text/plain": [
       "<Figure size 576x288 with 1 Axes>"
      ]
     },
     "metadata": {
      "needs_background": "light"
     },
     "output_type": "display_data"
    },
    {
     "data": {
      "image/png": "[encoded data removed]",
      "text/plain": [
       "<Figure size 576x288 with 1 Axes>"
      ]
     },
     "metadata": {
      "needs_background": "light"
     },
     "output_type": "display_data"
    }
   ],
   "source": [
    "for i in int_col.index:\n",
    "    \n",
    "    plt.figure()\n",
    "    new_df[i].plot.hist(figsize=(8,4))\n",
    "    plt.title(\"Histograme\")\n",
    "    plt.xlabel(i)"
   ]
  },
  {
   "cell_type": "markdown",
   "id": "addfdabe",
   "metadata": {},
   "source": [
    "Age has been observed from 18 to 45\n",
    "Education year has been found 9th to 11th,and 14th only 12th year outlier\n",
    "30 to 40 hours per week is highlighted\n",
    "87% people have no loss and no gain "
   ]
  },
  {
   "cell_type": "code",
   "execution_count": 221,
   "id": "81d85503",
   "metadata": {},
   "outputs": [
    {
     "data": {
      "text/plain": [
       "0.27947544608580815"
      ]
     },
     "execution_count": 221,
     "metadata": {},
     "output_type": "execute_result"
    }
   ],
   "source": [
    "(a_income.capital_loss.value_counts()[1:].shape[0] / a_income.capital_loss.shape[0])*100 # 91 peoples get capital loss .27% loss\n"
   ]
  },
  {
   "cell_type": "code",
   "execution_count": 220,
   "id": "1a3f0b4d",
   "metadata": {},
   "outputs": [
    {
     "data": {
      "text/plain": [
       "0.3623967322870919"
      ]
     },
     "execution_count": 220,
     "metadata": {},
     "output_type": "execute_result"
    }
   ],
   "source": [
    "(a_income.capital_gain.value_counts()[1:].shape[0] / a_income.capital_gain.shape[0])*100 # 118 peoples get gain .36% people get capital gain"
   ]
  },
  {
   "cell_type": "code",
   "execution_count": 232,
   "id": "0c0a6db0",
   "metadata": {},
   "outputs": [
    {
     "data": {
      "text/plain": [
       "87.00592733638402"
      ]
     },
     "execution_count": 232,
     "metadata": {},
     "output_type": "execute_result"
    }
   ],
   "source": [
    "(a_income[(a_income.capital_gain ==0) & (a_income.capital_loss ==0)].shape[0] / a_income.shape[0])*100\n"
   ]
  },
  {
   "cell_type": "markdown",
   "id": "d68b1a7c",
   "metadata": {},
   "source": [
    "87% people have no loss and no gain in dataset"
   ]
  },
  {
   "cell_type": "code",
   "execution_count": 233,
   "id": "3a93b9bf",
   "metadata": {},
   "outputs": [
    {
     "data": {
      "text/html": [
       "<div>\n",
       "<style scoped>\n",
       "    .dataframe tbody tr th:only-of-type {\n",
       "        vertical-align: middle;\n",
       "    }\n",
       "\n",
       "    .dataframe tbody tr th {\n",
       "        vertical-align: top;\n",
       "    }\n",
       "\n",
       "    .dataframe thead th {\n",
       "        text-align: right;\n",
       "    }\n",
       "</style>\n",
       "<table border=\"1\" class=\"dataframe\">\n",
       "  <thead>\n",
       "    <tr style=\"text-align: right;\">\n",
       "      <th></th>\n",
       "      <th>age</th>\n",
       "      <th>final_weight</th>\n",
       "      <th>education_num</th>\n",
       "      <th>capital_gain</th>\n",
       "      <th>capital_loss</th>\n",
       "      <th>hours_per_week</th>\n",
       "    </tr>\n",
       "  </thead>\n",
       "  <tbody>\n",
       "    <tr>\n",
       "      <th>count</th>\n",
       "      <td>32561.000000</td>\n",
       "      <td>3.256100e+04</td>\n",
       "      <td>32561.000000</td>\n",
       "      <td>32561.000000</td>\n",
       "      <td>32561.000000</td>\n",
       "      <td>32561.000000</td>\n",
       "    </tr>\n",
       "    <tr>\n",
       "      <th>mean</th>\n",
       "      <td>38.581647</td>\n",
       "      <td>1.897784e+05</td>\n",
       "      <td>10.080679</td>\n",
       "      <td>1077.648844</td>\n",
       "      <td>87.303830</td>\n",
       "      <td>40.437456</td>\n",
       "    </tr>\n",
       "    <tr>\n",
       "      <th>std</th>\n",
       "      <td>13.640433</td>\n",
       "      <td>1.055500e+05</td>\n",
       "      <td>2.572720</td>\n",
       "      <td>7385.292085</td>\n",
       "      <td>402.960219</td>\n",
       "      <td>12.347429</td>\n",
       "    </tr>\n",
       "    <tr>\n",
       "      <th>min</th>\n",
       "      <td>17.000000</td>\n",
       "      <td>1.228500e+04</td>\n",
       "      <td>1.000000</td>\n",
       "      <td>0.000000</td>\n",
       "      <td>0.000000</td>\n",
       "      <td>1.000000</td>\n",
       "    </tr>\n",
       "    <tr>\n",
       "      <th>25%</th>\n",
       "      <td>28.000000</td>\n",
       "      <td>1.178270e+05</td>\n",
       "      <td>9.000000</td>\n",
       "      <td>0.000000</td>\n",
       "      <td>0.000000</td>\n",
       "      <td>40.000000</td>\n",
       "    </tr>\n",
       "    <tr>\n",
       "      <th>50%</th>\n",
       "      <td>37.000000</td>\n",
       "      <td>1.783560e+05</td>\n",
       "      <td>10.000000</td>\n",
       "      <td>0.000000</td>\n",
       "      <td>0.000000</td>\n",
       "      <td>40.000000</td>\n",
       "    </tr>\n",
       "    <tr>\n",
       "      <th>75%</th>\n",
       "      <td>48.000000</td>\n",
       "      <td>2.370510e+05</td>\n",
       "      <td>12.000000</td>\n",
       "      <td>0.000000</td>\n",
       "      <td>0.000000</td>\n",
       "      <td>45.000000</td>\n",
       "    </tr>\n",
       "    <tr>\n",
       "      <th>max</th>\n",
       "      <td>90.000000</td>\n",
       "      <td>1.484705e+06</td>\n",
       "      <td>16.000000</td>\n",
       "      <td>99999.000000</td>\n",
       "      <td>4356.000000</td>\n",
       "      <td>99.000000</td>\n",
       "    </tr>\n",
       "  </tbody>\n",
       "</table>\n",
       "</div>"
      ],
      "text/plain": [
       "                age  final_weight  education_num  capital_gain  capital_loss  \\\n",
       "count  32561.000000  3.256100e+04   32561.000000  32561.000000  32561.000000   \n",
       "mean      38.581647  1.897784e+05      10.080679   1077.648844     87.303830   \n",
       "std       13.640433  1.055500e+05       2.572720   7385.292085    402.960219   \n",
       "min       17.000000  1.228500e+04       1.000000      0.000000      0.000000   \n",
       "25%       28.000000  1.178270e+05       9.000000      0.000000      0.000000   \n",
       "50%       37.000000  1.783560e+05      10.000000      0.000000      0.000000   \n",
       "75%       48.000000  2.370510e+05      12.000000      0.000000      0.000000   \n",
       "max       90.000000  1.484705e+06      16.000000  99999.000000   4356.000000   \n",
       "\n",
       "       hours_per_week  \n",
       "count    32561.000000  \n",
       "mean        40.437456  \n",
       "std         12.347429  \n",
       "min          1.000000  \n",
       "25%         40.000000  \n",
       "50%         40.000000  \n",
       "75%         45.000000  \n",
       "max         99.000000  "
      ]
     },
     "execution_count": 233,
     "metadata": {},
     "output_type": "execute_result"
    }
   ],
   "source": [
    "a_income.describe()"
   ]
  },
  {
   "cell_type": "code",
   "execution_count": 237,
   "id": "b838f69c",
   "metadata": {},
   "outputs": [
    {
     "data": {
      "text/plain": [
       "159"
      ]
     },
     "execution_count": 237,
     "metadata": {},
     "output_type": "execute_result"
    }
   ],
   "source": [
    "a_income[a_income['capital_gain']==99999].shape[0]"
   ]
  },
  {
   "cell_type": "code",
   "execution_count": 238,
   "id": "da2cf2d7",
   "metadata": {},
   "outputs": [
    {
     "name": "stdout",
     "output_type": "stream",
     "text": [
      " Income cout>50K    159\n",
      "Name: income, dtype: int64\n"
     ]
    }
   ],
   "source": [
    "print(f\" Income count {a_income[a_income['capital_gain']==99999]['income'].value_counts()}\")"
   ]
  },
  {
   "cell_type": "code",
   "execution_count": null,
   "id": "94e810b5",
   "metadata": {},
   "outputs": [],
   "source": []
  }
 ],
 "metadata": {
  "kernelspec": {
   "display_name": "Python 3 (ipykernel)",
   "language": "python",
   "name": "python3"
  },
  "language_info": {
   "codemirror_mode": {
    "name": "ipython",
    "version": 3
   },
   "file_extension": ".py",
   "mimetype": "text/x-python",
   "name": "python",
   "nbconvert_exporter": "python",
   "pygments_lexer": "ipython3",
   "version": "3.10.4"
  }
 },
 "nbformat": 4,
 "nbformat_minor": 5
}
