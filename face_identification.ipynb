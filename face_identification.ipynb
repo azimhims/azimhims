{
  "cells": [
    {
      "cell_type": "markdown",
      "metadata": {
        "id": "view-in-github",
        "colab_type": "text"
      },
      "source": [
        "<a href=\"https://colab.research.google.com/github/azimhims/azimhims/blob/main/face_identification.ipynb\" target=\"_parent\"><img src=\"https://colab.research.google.com/assets/colab-badge.svg\" alt=\"Open In Colab\"/></a>"
      ]
    },
    {
      "cell_type": "code",
      "source": [
        "!pip install split-folders"
      ],
      "metadata": {
        "id": "jPXuTAsoakyD",
        "colab": {
          "base_uri": "https://localhost:8080/"
        },
        "outputId": "3108657a-ff1a-470b-ac12-83cb77d7ed56"
      },
      "execution_count": 10,
      "outputs": [
        {
          "output_type": "stream",
          "name": "stdout",
          "text": [
            "Collecting split-folders\n",
            "  Downloading split_folders-0.5.1-py3-none-any.whl.metadata (6.2 kB)\n",
            "Downloading split_folders-0.5.1-py3-none-any.whl (8.4 kB)\n",
            "Installing collected packages: split-folders\n",
            "Successfully installed split-folders-0.5.1\n"
          ]
        }
      ]
    },
    {
      "cell_type": "code",
      "source": [
        "from google.colab import drive\n",
        "drive.mount('/content/drive')"
      ],
      "metadata": {
        "id": "wVWywK80amJu",
        "outputId": "4b502b44-aba8-427a-8951-8a90b5a1e3c7",
        "colab": {
          "base_uri": "https://localhost:8080/"
        }
      },
      "execution_count": 1,
      "outputs": [
        {
          "output_type": "stream",
          "name": "stdout",
          "text": [
            "Mounted at /content/drive\n"
          ]
        }
      ]
    },
    {
      "cell_type": "code",
      "source": [
        "import tensorflow as tf\n",
        "from tensorflow import keras\n",
        "from tensorflow.keras import models, layers\n",
        "from keras import Sequential\n",
        "from keras.layers import Dense, Conv2D, MaxPooling2D, Flatten, BatchNormalization, Dropout\n",
        "from tensorflow.keras.preprocessing.image import ImageDataGenerator\n",
        "import os\n",
        "\n",
        "from PIL import Image\n"
      ],
      "metadata": {
        "id": "upgtS4iCak1n"
      },
      "execution_count": 2,
      "outputs": []
    },
    {
      "cell_type": "code",
      "source": [
        "root_dir = '/content/drive/MyDrive/family'\n",
        "import pathlib\n",
        "data_dir = pathlib.Path(root_dir)\n",
        "data_dir\n"
      ],
      "metadata": {
        "id": "8Md0djXKrJ6b",
        "outputId": "8f6871ca-0e2e-4d89-fc60-f0987dc85fde",
        "colab": {
          "base_uri": "https://localhost:8080/"
        }
      },
      "execution_count": 4,
      "outputs": [
        {
          "output_type": "execute_result",
          "data": {
            "text/plain": [
              "PosixPath('/content/drive/MyDrive/family')"
            ]
          },
          "metadata": {},
          "execution_count": 4
        }
      ]
    },
    {
      "cell_type": "code",
      "source": [
        "list(data_dir.glob('*/*.jpg'))[:10]"
      ],
      "metadata": {
        "id": "O1lcQNzXfjpY",
        "outputId": "c60456b0-1eaf-45dc-9cd7-6214adc47b80",
        "colab": {
          "base_uri": "https://localhost:8080/"
        }
      },
      "execution_count": 5,
      "outputs": [
        {
          "output_type": "execute_result",
          "data": {
            "text/plain": [
              "[PosixPath('/content/drive/MyDrive/family/4/WhatsApp Image 2024-09-10 at 23.18.45_b9981add.jpg'),\n",
              " PosixPath('/content/drive/MyDrive/family/4/408.jpg'),\n",
              " PosixPath('/content/drive/MyDrive/family/4/401.jpg'),\n",
              " PosixPath('/content/drive/MyDrive/family/4/409.jpg'),\n",
              " PosixPath('/content/drive/MyDrive/family/4/410.jpg'),\n",
              " PosixPath('/content/drive/MyDrive/family/4/402.jpg'),\n",
              " PosixPath('/content/drive/MyDrive/family/4/403.jpg'),\n",
              " PosixPath('/content/drive/MyDrive/family/4/404.jpg'),\n",
              " PosixPath('/content/drive/MyDrive/family/4/405.jpg'),\n",
              " PosixPath('/content/drive/MyDrive/family/4/406.jpg')]"
            ]
          },
          "metadata": {},
          "execution_count": 5
        }
      ]
    },
    {
      "cell_type": "code",
      "source": [
        "image_count = len(list(data_dir.glob('*/*.jpg')))\n",
        "print(image_count)"
      ],
      "metadata": {
        "id": "UP4VXIwmfw5I",
        "outputId": "75525b67-cc97-496e-bc8f-6764695983e0",
        "colab": {
          "base_uri": "https://localhost:8080/"
        }
      },
      "execution_count": 6,
      "outputs": [
        {
          "output_type": "stream",
          "name": "stdout",
          "text": [
            "233\n"
          ]
        }
      ]
    },
    {
      "cell_type": "code",
      "source": [
        "aroush = list(data_dir.glob('1/*'))\n",
        "\n",
        "zainb = list(data_dir.glob('2/*'))\n",
        "amal = list(data_dir.glob('3/*'))\n",
        "taha = list(data_dir.glob('4/*'))\n",
        "mahira = list(data_dir.glob('5/*'))"
      ],
      "metadata": {
        "id": "oOiIv-OBfxQZ"
      },
      "execution_count": 7,
      "outputs": []
    },
    {
      "cell_type": "code",
      "source": [
        "family_images_dict = {\n",
        "    'aroush': list(data_dir.glob('1/*')),\n",
        "    'zainb': list(data_dir.glob('2/*')),\n",
        "    'amal': list(data_dir.glob('3/*')),\n",
        "    'taha': list(data_dir.glob('4/*')),\n",
        "    'mahira': list(data_dir.glob('5/*')),\n",
        "}"
      ],
      "metadata": {
        "id": "UoaoKxUDfxm6"
      },
      "execution_count": 102,
      "outputs": []
    },
    {
      "cell_type": "code",
      "source": [
        "str(family_images_dict['aroush'][0])"
      ],
      "metadata": {
        "id": "dTtN4b28hxkC",
        "outputId": "af01a812-a673-40b2-ad8b-8ce84a8dee3b",
        "colab": {
          "base_uri": "https://localhost:8080/",
          "height": 36
        }
      },
      "execution_count": 10,
      "outputs": [
        {
          "output_type": "execute_result",
          "data": {
            "text/plain": [
              "'/content/drive/MyDrive/family/family/1/102.jpg'"
            ],
            "application/vnd.google.colaboratory.intrinsic+json": {
              "type": "string"
            }
          },
          "metadata": {},
          "execution_count": 10
        }
      ]
    },
    {
      "cell_type": "code",
      "source": [
        "import cv2\n",
        "img = cv2.imread(str(family_images_dict['aroush'][4]))\n",
        "img.shape"
      ],
      "metadata": {
        "id": "3RtXOf36hx7s",
        "colab": {
          "base_uri": "https://localhost:8080/"
        },
        "outputId": "690fd662-9aa3-4513-87ad-c6225042bb70"
      },
      "execution_count": 12,
      "outputs": [
        {
          "output_type": "execute_result",
          "data": {
            "text/plain": [
              "(960, 720, 3)"
            ]
          },
          "metadata": {},
          "execution_count": 12
        }
      ]
    },
    {
      "cell_type": "code",
      "source": [
        "# This step is convert all the images into similar dimension\n",
        "import os\n",
        "root_dir = '/content/drive/MyDrive/family'\n",
        "\n",
        "# Define the desired dimensions\n",
        "width = 800\n",
        "height = 600\n",
        "\n",
        "# Loop through each folder\n",
        "for folder in os.listdir(root_dir):\n",
        "    folder_path = os.path.join(root_dir, folder)\n",
        "\n",
        "    # Check if it's a folder\n",
        "    if os.path.isdir(folder_path):\n",
        "        # Loop through each image in the folder\n",
        "        for image in os.listdir(folder_path):\n",
        "            image_path = os.path.join(folder_path, image)\n",
        "\n",
        "            # Check if it's an image file\n",
        "            if image_path.endswith(('.jpg', '.jpeg', '.png', '.bmp', '.gif')):\n",
        "                # Open the image\n",
        "                img = Image.open(image_path)\n",
        "\n",
        "                # Resize the image\n",
        "                img = img.resize((width, height))\n",
        "\n",
        "                # Save the resized image\n",
        "                img.save(image_path)\n",
        "\n",
        "                print(f\"Resized {image_path}\")\n",
        "\n"
      ],
      "metadata": {
        "colab": {
          "base_uri": "https://localhost:8080/"
        },
        "id": "ROAzUO20JqFs",
        "outputId": "51746fdf-d744-4c3d-ad7e-58d8d5c0ae12"
      },
      "execution_count": 8,
      "outputs": [
        {
          "output_type": "stream",
          "name": "stdout",
          "text": [
            "Resized /content/drive/MyDrive/family/4/WhatsApp Image 2024-09-10 at 23.18.45_b9981add.jpg\n",
            "Resized /content/drive/MyDrive/family/4/408.jpg\n",
            "Resized /content/drive/MyDrive/family/4/401.jpg\n",
            "Resized /content/drive/MyDrive/family/4/409.jpg\n",
            "Resized /content/drive/MyDrive/family/4/410.jpg\n",
            "Resized /content/drive/MyDrive/family/4/402.jpg\n",
            "Resized /content/drive/MyDrive/family/4/403.jpg\n",
            "Resized /content/drive/MyDrive/family/4/404.jpg\n",
            "Resized /content/drive/MyDrive/family/4/405.jpg\n",
            "Resized /content/drive/MyDrive/family/4/406.jpg\n",
            "Resized /content/drive/MyDrive/family/4/407.jpg\n",
            "Resized /content/drive/MyDrive/family/4/412.jpg\n",
            "Resized /content/drive/MyDrive/family/4/413.jpg\n",
            "Resized /content/drive/MyDrive/family/4/411.jpg\n",
            "Resized /content/drive/MyDrive/family/4/415.jpg\n",
            "Resized /content/drive/MyDrive/family/4/414.jpg\n",
            "Resized /content/drive/MyDrive/family/4/417.jpg\n",
            "Resized /content/drive/MyDrive/family/4/416.jpg\n",
            "Resized /content/drive/MyDrive/family/4/418.jpg\n",
            "Resized /content/drive/MyDrive/family/4/419.jpg\n",
            "Resized /content/drive/MyDrive/family/4/420.jpg\n",
            "Resized /content/drive/MyDrive/family/4/421.jpg\n",
            "Resized /content/drive/MyDrive/family/4/422.jpg\n",
            "Resized /content/drive/MyDrive/family/4/423.jpg\n",
            "Resized /content/drive/MyDrive/family/4/425.jpg\n",
            "Resized /content/drive/MyDrive/family/4/424.jpg\n",
            "Resized /content/drive/MyDrive/family/4/426.jpg\n",
            "Resized /content/drive/MyDrive/family/4/428.jpg\n",
            "Resized /content/drive/MyDrive/family/4/427.jpg\n",
            "Resized /content/drive/MyDrive/family/4/430.jpg\n",
            "Resized /content/drive/MyDrive/family/4/429.jpg\n",
            "Resized /content/drive/MyDrive/family/4/431.jpg\n",
            "Resized /content/drive/MyDrive/family/4/432.jpg\n",
            "Resized /content/drive/MyDrive/family/4/433.jpg\n",
            "Resized /content/drive/MyDrive/family/4/434.jpg\n",
            "Resized /content/drive/MyDrive/family/4/435.jpg\n",
            "Resized /content/drive/MyDrive/family/4/437.jpg\n",
            "Resized /content/drive/MyDrive/family/4/436.jpg\n",
            "Resized /content/drive/MyDrive/family/4/438.jpg\n",
            "Resized /content/drive/MyDrive/family/4/439.jpg\n",
            "Resized /content/drive/MyDrive/family/4/440.jpg\n",
            "Resized /content/drive/MyDrive/family/5/501.jpg\n",
            "Resized /content/drive/MyDrive/family/5/502.jpg\n",
            "Resized /content/drive/MyDrive/family/5/505.jpg\n",
            "Resized /content/drive/MyDrive/family/5/503.jpg\n",
            "Resized /content/drive/MyDrive/family/5/504.jpg\n",
            "Resized /content/drive/MyDrive/family/5/506.jpg\n",
            "Resized /content/drive/MyDrive/family/5/508.jpg\n",
            "Resized /content/drive/MyDrive/family/5/507.jpg\n",
            "Resized /content/drive/MyDrive/family/5/509.jpg\n",
            "Resized /content/drive/MyDrive/family/5/511.jpg\n",
            "Resized /content/drive/MyDrive/family/5/510.jpg\n",
            "Resized /content/drive/MyDrive/family/5/514.jpg\n",
            "Resized /content/drive/MyDrive/family/5/513.jpg\n",
            "Resized /content/drive/MyDrive/family/5/512.jpg\n",
            "Resized /content/drive/MyDrive/family/5/515.jpg\n",
            "Resized /content/drive/MyDrive/family/5/516.jpg\n",
            "Resized /content/drive/MyDrive/family/5/517.jpg\n",
            "Resized /content/drive/MyDrive/family/5/518.jpg\n",
            "Resized /content/drive/MyDrive/family/5/519.jpg\n",
            "Resized /content/drive/MyDrive/family/5/520.jpg\n",
            "Resized /content/drive/MyDrive/family/5/521.jpg\n",
            "Resized /content/drive/MyDrive/family/5/522.jpg\n",
            "Resized /content/drive/MyDrive/family/5/523.jpg\n",
            "Resized /content/drive/MyDrive/family/5/524.jpg\n",
            "Resized /content/drive/MyDrive/family/5/525.jpg\n",
            "Resized /content/drive/MyDrive/family/5/526.jpg\n",
            "Resized /content/drive/MyDrive/family/5/528.jpg\n",
            "Resized /content/drive/MyDrive/family/5/529.jpg\n",
            "Resized /content/drive/MyDrive/family/5/527.jpg\n",
            "Resized /content/drive/MyDrive/family/5/530.jpg\n",
            "Resized /content/drive/MyDrive/family/5/531.jpg\n",
            "Resized /content/drive/MyDrive/family/5/532.jpg\n",
            "Resized /content/drive/MyDrive/family/5/533.jpg\n",
            "Resized /content/drive/MyDrive/family/5/535.jpg\n",
            "Resized /content/drive/MyDrive/family/5/534.jpg\n",
            "Resized /content/drive/MyDrive/family/5/537.jpg\n",
            "Resized /content/drive/MyDrive/family/5/536.jpg\n",
            "Resized /content/drive/MyDrive/family/5/538.jpg\n",
            "Resized /content/drive/MyDrive/family/5/539.jpg\n",
            "Resized /content/drive/MyDrive/family/5/540.jpg\n",
            "Resized /content/drive/MyDrive/family/5/541.jpg\n",
            "Resized /content/drive/MyDrive/family/5/542.jpg\n",
            "Resized /content/drive/MyDrive/family/5/543.jpg\n",
            "Resized /content/drive/MyDrive/family/5/547.jpg\n",
            "Resized /content/drive/MyDrive/family/5/546.jpg\n",
            "Resized /content/drive/MyDrive/family/5/545.jpg\n",
            "Resized /content/drive/MyDrive/family/5/544.jpg\n",
            "Resized /content/drive/MyDrive/family/2/204.jpg\n",
            "Resized /content/drive/MyDrive/family/2/205.jpg\n",
            "Resized /content/drive/MyDrive/family/2/206.jpg\n",
            "Resized /content/drive/MyDrive/family/2/201.jpg\n",
            "Resized /content/drive/MyDrive/family/2/203.jpg\n",
            "Resized /content/drive/MyDrive/family/2/208.jpg\n",
            "Resized /content/drive/MyDrive/family/2/202.jpg\n",
            "Resized /content/drive/MyDrive/family/2/207.jpg\n",
            "Resized /content/drive/MyDrive/family/2/209.jpg\n",
            "Resized /content/drive/MyDrive/family/2/210.jpg\n",
            "Resized /content/drive/MyDrive/family/2/211.jpg\n",
            "Resized /content/drive/MyDrive/family/2/212.jpg\n",
            "Resized /content/drive/MyDrive/family/2/213.jpg\n",
            "Resized /content/drive/MyDrive/family/2/214.jpg\n",
            "Resized /content/drive/MyDrive/family/2/215.jpg\n",
            "Resized /content/drive/MyDrive/family/2/216.jpg\n",
            "Resized /content/drive/MyDrive/family/2/217.jpg\n",
            "Resized /content/drive/MyDrive/family/2/218.jpg\n",
            "Resized /content/drive/MyDrive/family/2/220.jpg\n",
            "Resized /content/drive/MyDrive/family/2/221.jpg\n",
            "Resized /content/drive/MyDrive/family/2/219.jpg\n",
            "Resized /content/drive/MyDrive/family/2/222.jpg\n",
            "Resized /content/drive/MyDrive/family/2/223.jpg\n",
            "Resized /content/drive/MyDrive/family/2/224.jpg\n",
            "Resized /content/drive/MyDrive/family/2/225.jpg\n",
            "Resized /content/drive/MyDrive/family/2/226.jpg\n",
            "Resized /content/drive/MyDrive/family/2/227.jpg\n",
            "Resized /content/drive/MyDrive/family/2/228.jpg\n",
            "Resized /content/drive/MyDrive/family/2/229.jpg\n",
            "Resized /content/drive/MyDrive/family/2/230.jpg\n",
            "Resized /content/drive/MyDrive/family/2/231.jpg\n",
            "Resized /content/drive/MyDrive/family/2/232.jpg\n",
            "Resized /content/drive/MyDrive/family/2/233.jpg\n",
            "Resized /content/drive/MyDrive/family/2/234.jpg\n",
            "Resized /content/drive/MyDrive/family/2/235.jpg\n",
            "Resized /content/drive/MyDrive/family/2/236.jpg\n",
            "Resized /content/drive/MyDrive/family/2/237.jpg\n",
            "Resized /content/drive/MyDrive/family/2/238.jpg\n",
            "Resized /content/drive/MyDrive/family/2/239.jpg\n",
            "Resized /content/drive/MyDrive/family/2/240.jpg\n",
            "Resized /content/drive/MyDrive/family/2/241.jpg\n",
            "Resized /content/drive/MyDrive/family/2/242.jpg\n",
            "Resized /content/drive/MyDrive/family/2/243.jpg\n",
            "Resized /content/drive/MyDrive/family/2/244.jpg\n",
            "Resized /content/drive/MyDrive/family/2/245.jpg\n",
            "Resized /content/drive/MyDrive/family/2/246.jpg\n",
            "Resized /content/drive/MyDrive/family/2/247.jpg\n",
            "Resized /content/drive/MyDrive/family/3/338.jpg\n",
            "Resized /content/drive/MyDrive/family/3/301.jpg\n",
            "Resized /content/drive/MyDrive/family/3/339.jpg\n",
            "Resized /content/drive/MyDrive/family/3/340.jpg\n",
            "Resized /content/drive/MyDrive/family/3/341.jpg\n",
            "Resized /content/drive/MyDrive/family/3/302.jpg\n",
            "Resized /content/drive/MyDrive/family/3/303.jpg\n",
            "Resized /content/drive/MyDrive/family/3/304.jpg\n",
            "Resized /content/drive/MyDrive/family/3/305.jpg\n",
            "Resized /content/drive/MyDrive/family/3/308.jpg\n",
            "Resized /content/drive/MyDrive/family/3/307.jpg\n",
            "Resized /content/drive/MyDrive/family/3/306.jpg\n",
            "Resized /content/drive/MyDrive/family/3/310.jpg\n",
            "Resized /content/drive/MyDrive/family/3/309.jpg\n",
            "Resized /content/drive/MyDrive/family/3/315.jpg\n",
            "Resized /content/drive/MyDrive/family/3/311.jpg\n",
            "Resized /content/drive/MyDrive/family/3/312.jpg\n",
            "Resized /content/drive/MyDrive/family/3/313.jpg\n",
            "Resized /content/drive/MyDrive/family/3/314.jpg\n",
            "Resized /content/drive/MyDrive/family/3/316.jpg\n",
            "Resized /content/drive/MyDrive/family/3/317.jpg\n",
            "Resized /content/drive/MyDrive/family/3/318.jpg\n",
            "Resized /content/drive/MyDrive/family/3/319.jpg\n",
            "Resized /content/drive/MyDrive/family/3/320.jpg\n",
            "Resized /content/drive/MyDrive/family/3/321.jpg\n",
            "Resized /content/drive/MyDrive/family/3/322.jpg\n",
            "Resized /content/drive/MyDrive/family/3/323.jpg\n",
            "Resized /content/drive/MyDrive/family/3/324.jpg\n",
            "Resized /content/drive/MyDrive/family/3/325.jpg\n",
            "Resized /content/drive/MyDrive/family/3/326.jpg\n",
            "Resized /content/drive/MyDrive/family/3/328.jpg\n",
            "Resized /content/drive/MyDrive/family/3/327.jpg\n",
            "Resized /content/drive/MyDrive/family/3/329.jpg\n",
            "Resized /content/drive/MyDrive/family/3/330.jpg\n",
            "Resized /content/drive/MyDrive/family/3/331.jpg\n",
            "Resized /content/drive/MyDrive/family/3/333.jpg\n",
            "Resized /content/drive/MyDrive/family/3/332.jpg\n",
            "Resized /content/drive/MyDrive/family/3/334.jpg\n",
            "Resized /content/drive/MyDrive/family/3/336.jpg\n",
            "Resized /content/drive/MyDrive/family/3/335.jpg\n",
            "Resized /content/drive/MyDrive/family/3/337.jpg\n",
            "Resized /content/drive/MyDrive/family/3/342.jpg\n",
            "Resized /content/drive/MyDrive/family/3/343.jpg\n",
            "Resized /content/drive/MyDrive/family/3/344.jpg\n",
            "Resized /content/drive/MyDrive/family/3/346.jpg\n",
            "Resized /content/drive/MyDrive/family/3/345.jpg\n",
            "Resized /content/drive/MyDrive/family/3/347.jpg\n",
            "Resized /content/drive/MyDrive/family/3/348.jpg\n",
            "Resized /content/drive/MyDrive/family/3/349.jpg\n",
            "Resized /content/drive/MyDrive/family/1/102.jpg\n",
            "Resized /content/drive/MyDrive/family/1/101.jpg\n",
            "Resized /content/drive/MyDrive/family/1/103.jpg\n",
            "Resized /content/drive/MyDrive/family/1/104.jpg\n",
            "Resized /content/drive/MyDrive/family/1/105.jpg\n",
            "Resized /content/drive/MyDrive/family/1/107.jpg\n",
            "Resized /content/drive/MyDrive/family/1/106.jpg\n",
            "Resized /content/drive/MyDrive/family/1/108.jpg\n",
            "Resized /content/drive/MyDrive/family/1/109.jpg\n",
            "Resized /content/drive/MyDrive/family/1/110.jpg\n",
            "Resized /content/drive/MyDrive/family/1/111.jpg\n",
            "Resized /content/drive/MyDrive/family/1/112.jpg\n",
            "Resized /content/drive/MyDrive/family/1/113.jpg\n",
            "Resized /content/drive/MyDrive/family/1/114.jpg\n",
            "Resized /content/drive/MyDrive/family/1/115.jpg\n",
            "Resized /content/drive/MyDrive/family/1/116.jpg\n",
            "Resized /content/drive/MyDrive/family/1/124.jpg\n",
            "Resized /content/drive/MyDrive/family/1/125.jpg\n",
            "Resized /content/drive/MyDrive/family/1/117.jpg\n",
            "Resized /content/drive/MyDrive/family/1/118.jpg\n",
            "Resized /content/drive/MyDrive/family/1/126.jpg\n",
            "Resized /content/drive/MyDrive/family/1/119.jpg\n",
            "Resized /content/drive/MyDrive/family/1/123.jpg\n",
            "Resized /content/drive/MyDrive/family/1/120.jpg\n",
            "Resized /content/drive/MyDrive/family/1/121.jpg\n",
            "Resized /content/drive/MyDrive/family/1/122.jpg\n",
            "Resized /content/drive/MyDrive/family/1/127.jpg\n",
            "Resized /content/drive/MyDrive/family/1/147.jpg\n",
            "Resized /content/drive/MyDrive/family/1/128.jpg\n",
            "Resized /content/drive/MyDrive/family/1/130.jpg\n",
            "Resized /content/drive/MyDrive/family/1/129.jpg\n",
            "Resized /content/drive/MyDrive/family/1/131.jpg\n",
            "Resized /content/drive/MyDrive/family/1/132.jpg\n",
            "Resized /content/drive/MyDrive/family/1/133.jpg\n",
            "Resized /content/drive/MyDrive/family/1/134.jpg\n",
            "Resized /content/drive/MyDrive/family/1/135.jpg\n",
            "Resized /content/drive/MyDrive/family/1/136.jpg\n",
            "Resized /content/drive/MyDrive/family/1/137.jpg\n",
            "Resized /content/drive/MyDrive/family/1/138.jpg\n",
            "Resized /content/drive/MyDrive/family/1/139.jpg\n",
            "Resized /content/drive/MyDrive/family/1/140.jpg\n",
            "Resized /content/drive/MyDrive/family/1/141.jpg\n",
            "Resized /content/drive/MyDrive/family/1/142.jpg\n",
            "Resized /content/drive/MyDrive/family/1/143.jpg\n",
            "Resized /content/drive/MyDrive/family/1/144.jpg\n",
            "Resized /content/drive/MyDrive/family/1/145.jpg\n",
            "Resized /content/drive/MyDrive/family/1/146.jpg\n",
            "Resized /content/drive/MyDrive/family/1/148.jpg\n",
            "Resized /content/drive/MyDrive/family/1/149.jpg\n"
          ]
        }
      ]
    },
    {
      "cell_type": "code",
      "source": [
        "import splitfolders\n",
        "#splitfolders.fixed(root_dir, output=\"familysample\", seed=1337, fixed=(13, 13), oversample=False, group_prefix=None)\n",
        "splitfolders.ratio(root_dir, output=\"fam_sample\", seed=1337, ratio=(.8, .1, .1), group_prefix=None, move=False)"
      ],
      "metadata": {
        "colab": {
          "base_uri": "https://localhost:8080/"
        },
        "id": "2FhZvsUgJqKM",
        "outputId": "df4203df-2594-435b-9ad8-176c44f59875"
      },
      "execution_count": 11,
      "outputs": [
        {
          "output_type": "stream",
          "name": "stderr",
          "text": [
            "Copying files: 233 files [00:00, 307.19 files/s]\n"
          ]
        }
      ]
    },
    {
      "cell_type": "code",
      "source": [
        "# now time to call imagenerator\n",
        "train_datagen = ImageDataGenerator(rescale=1./255,\n",
        "                            horizontal_flip = True,\n",
        "                            rotation_range = 10 )"
      ],
      "metadata": {
        "id": "oQ90aBPRJqNc"
      },
      "execution_count": 12,
      "outputs": []
    },
    {
      "cell_type": "code",
      "source": [
        "dir = '/content/fam_sample/train'\n",
        "train_generator  = train_datagen.flow_from_directory(\n",
        "    dir,\n",
        "    target_size=(180, 180),\n",
        "    batch_size = 16,\n",
        "    class_mode = 'sparse'\n",
        "    )"
      ],
      "metadata": {
        "colab": {
          "base_uri": "https://localhost:8080/"
        },
        "id": "BZgDXffslukX",
        "outputId": "b9eaa0a7-5df0-4f0b-fdc0-d729abdcd807"
      },
      "execution_count": 13,
      "outputs": [
        {
          "output_type": "stream",
          "name": "stdout",
          "text": [
            "Found 184 images belonging to 5 classes.\n"
          ]
        }
      ]
    },
    {
      "cell_type": "code",
      "source": [
        "for image_batch, label_batch in train_generator:\n",
        "  print(image_batch[0])\n",
        "  break\n",
        "#image_batch.shape, label_batch.shape"
      ],
      "metadata": {
        "colab": {
          "base_uri": "https://localhost:8080/"
        },
        "id": "_5U0jGWgluqO",
        "outputId": "943d43b0-77e3-4623-8090-8d07895fa969"
      },
      "execution_count": 14,
      "outputs": [
        {
          "output_type": "stream",
          "name": "stdout",
          "text": [
            "[[[0.5223642  0.47450984 0.390622  ]\n",
            "  [0.5226105  0.47450984 0.39136082]\n",
            "  [0.5228567  0.47450984 0.39209962]\n",
            "  ...\n",
            "  [0.80392164 0.7725491  0.7294118 ]\n",
            "  [0.80392164 0.7725491  0.7278052 ]\n",
            "  [0.8047172  0.77334464 0.72236425]]\n",
            "\n",
            " [[0.5246869  0.4776281  0.38511705]\n",
            "  [0.52444065 0.47738183 0.3853633 ]\n",
            "  [0.52419436 0.47713557 0.38560957]\n",
            "  ...\n",
            "  [0.80392164 0.7725491  0.7294118 ]\n",
            "  [0.80392164 0.7725491  0.7273127 ]\n",
            "  [0.80496347 0.7735909  0.72261053]]\n",
            "\n",
            " [[0.5254902  0.4784314  0.3780927 ]\n",
            "  [0.5254902  0.4784314  0.37858525]\n",
            "  [0.5254902  0.4784314  0.37907776]\n",
            "  ...\n",
            "  [0.80392164 0.7725491  0.7294118 ]\n",
            "  [0.80392164 0.7725491  0.7268202 ]\n",
            "  [0.8052097  0.77383715 0.72285676]]\n",
            "\n",
            " ...\n",
            "\n",
            " [[0.55211127 0.49328768 0.4658367 ]\n",
            "  [0.58431375 0.52023876 0.49016204]\n",
            "  [0.5895497  0.52288306 0.4915105 ]\n",
            "  ...\n",
            "  [0.65754163 0.60656124 0.54381615]\n",
            "  [0.6592655  0.6082851  0.54554003]\n",
            "  [0.6609894  0.610009   0.5472639 ]]\n",
            "\n",
            " [[0.55826795 0.49944443 0.47199345]\n",
            "  [0.58431375 0.51974624 0.48942327]\n",
            "  [0.5900423  0.5233756  0.49200305]\n",
            "  ...\n",
            "  [0.6443991  0.5934187  0.5306736 ]\n",
            "  [0.64341396 0.5924336  0.5296885 ]\n",
            "  [0.64242893 0.59144855 0.52870345]]\n",
            "\n",
            " [[0.5644247  0.50560117 0.47815016]\n",
            "  [0.58431375 0.5192537  0.48868445]\n",
            "  [0.5905348  0.52386814 0.49249557]\n",
            "  ...\n",
            "  [0.6574782  0.6064978  0.54375273]\n",
            "  [0.6569857  0.6060053  0.5432602 ]\n",
            "  [0.6564931  0.6055127  0.5427676 ]]]\n"
          ]
        }
      ]
    },
    {
      "cell_type": "code",
      "source": [
        "# same do for validation\n",
        "val = '/content/fam_sample/val'\n",
        "validation_dataget = ImageDataGenerator(rescale=1./255,\n",
        "                                        rotation_range = 10,\n",
        "                                        horizontal_flip = True\n",
        "                                        )\n",
        "valid_generator = validation_dataget.flow_from_directory(\n",
        "    val,\n",
        "    target_size = (180,180),\n",
        "    batch_size = 16,\n",
        "    class_mode = 'sparse'\n",
        ")"
      ],
      "metadata": {
        "colab": {
          "base_uri": "https://localhost:8080/"
        },
        "id": "vPhDtSs4lut8",
        "outputId": "6dc71d8e-ef71-4f17-8976-5eee551b839b"
      },
      "execution_count": 15,
      "outputs": [
        {
          "output_type": "stream",
          "name": "stdout",
          "text": [
            "Found 20 images belonging to 5 classes.\n"
          ]
        }
      ]
    },
    {
      "cell_type": "code",
      "source": [
        "test = '/content/fam_sample/test'\n",
        "validation_dataget = ImageDataGenerator(rescale=1./255,\n",
        "                                        rotation_range = 10,\n",
        "                                        horizontal_flip = True\n",
        "                                        )\n",
        "test_generator = validation_dataget.flow_from_directory(\n",
        "    test,\n",
        "    target_size = (180,180),\n",
        "    batch_size = 16,\n",
        "    class_mode = 'sparse'\n",
        ")"
      ],
      "metadata": {
        "colab": {
          "base_uri": "https://localhost:8080/"
        },
        "id": "_xSXUub60Hio",
        "outputId": "3cd0a959-e493-4f6f-f6d7-2ef96381b6b0"
      },
      "execution_count": 16,
      "outputs": [
        {
          "output_type": "stream",
          "name": "stdout",
          "text": [
            "Found 29 images belonging to 5 classes.\n"
          ]
        }
      ]
    },
    {
      "cell_type": "code",
      "source": [],
      "metadata": {
        "id": "a6ts6vDw0HyI"
      },
      "execution_count": null,
      "outputs": []
    },
    {
      "cell_type": "code",
      "source": [],
      "metadata": {
        "id": "I_tgK9-f0H5N"
      },
      "execution_count": null,
      "outputs": []
    },
    {
      "cell_type": "code",
      "source": [],
      "metadata": {
        "id": "UgGcZpYy0IAN"
      },
      "execution_count": null,
      "outputs": []
    },
    {
      "cell_type": "code",
      "source": [],
      "metadata": {
        "id": "rM5xVCKJ1BC6"
      },
      "execution_count": null,
      "outputs": []
    },
    {
      "cell_type": "code",
      "source": [
        "# from keras.applications.vgg16 import VGG16\n",
        "# from keras.applications.resnet50 import ResNet50"
      ],
      "metadata": {
        "id": "8GrK5aVOczv2"
      },
      "execution_count": 53,
      "outputs": []
    },
    {
      "cell_type": "code",
      "source": [
        "input_shape = (180, 180,3)\n",
        "n_classes = 5\n",
        "\n",
        "\n",
        "model = models.Sequential([\n",
        "    layers.InputLayer(input_shape=input_shape),\n",
        "    layers.Conv2D(16, kernel_size = (3,3), activation='relu'),\n",
        "    layers.MaxPooling2D((2, 2)),\n",
        "    layers.Conv2D(32,  kernel_size = (3,3), activation='relu'),\n",
        "    layers.MaxPooling2D((2, 2)),\n",
        "    layers.Conv2D(32,  kernel_size = (3,3), activation='relu'),\n",
        "    layers.MaxPooling2D((2, 2)),\n",
        "    layers.Conv2D(32, (3, 3), activation='relu'),\n",
        "    layers.MaxPooling2D((2, 2)),\n",
        "    # # layers.Conv2D(32, (3, 3), activation='relu'),\n",
        "    # layers.MaxPooling2D((2, 2)),\n",
        "    # layers.Conv2D(32, (3, 3), activation='relu'),\n",
        "    # layers.MaxPooling2D((2, 2)),\n",
        "    layers.Flatten(),\n",
        "    layers.Dense(32, activation='relu'),\n",
        "    layers.Dense(n_classes, activation='softmax'),\n",
        "])"
      ],
      "metadata": {
        "colab": {
          "base_uri": "https://localhost:8080/"
        },
        "id": "n-PxyB4D4Duf",
        "outputId": "3064b250-f6cf-4887-efc4-d86c2da271e6"
      },
      "execution_count": 17,
      "outputs": [
        {
          "output_type": "stream",
          "name": "stderr",
          "text": [
            "/usr/local/lib/python3.10/dist-packages/keras/src/layers/core/input_layer.py:26: UserWarning: Argument `input_shape` is deprecated. Use `shape` instead.\n",
            "  warnings.warn(\n"
          ]
        }
      ]
    },
    {
      "cell_type": "code",
      "source": [
        "model.summary()"
      ],
      "metadata": {
        "colab": {
          "base_uri": "https://localhost:8080/",
          "height": 481
        },
        "id": "ooTmuNiC4Dly",
        "outputId": "3d844aa6-5ef2-46a0-ee97-74509c5210f3"
      },
      "execution_count": 18,
      "outputs": [
        {
          "output_type": "display_data",
          "data": {
            "text/plain": [
              "\u001b[1mModel: \"sequential\"\u001b[0m\n"
            ],
            "text/html": [
              "<pre style=\"white-space:pre;overflow-x:auto;line-height:normal;font-family:Menlo,'DejaVu Sans Mono',consolas,'Courier New',monospace\"><span style=\"font-weight: bold\">Model: \"sequential\"</span>\n",
              "</pre>\n"
            ]
          },
          "metadata": {}
        },
        {
          "output_type": "display_data",
          "data": {
            "text/plain": [
              "┏━━━━━━━━━━━━━━━━━━━━━━━━━━━━━━━━━━━━━━┳━━━━━━━━━━━━━━━━━━━━━━━━━━━━━┳━━━━━━━━━━━━━━━━━┓\n",
              "┃\u001b[1m \u001b[0m\u001b[1mLayer (type)                        \u001b[0m\u001b[1m \u001b[0m┃\u001b[1m \u001b[0m\u001b[1mOutput Shape               \u001b[0m\u001b[1m \u001b[0m┃\u001b[1m \u001b[0m\u001b[1m        Param #\u001b[0m\u001b[1m \u001b[0m┃\n",
              "┡━━━━━━━━━━━━━━━━━━━━━━━━━━━━━━━━━━━━━━╇━━━━━━━━━━━━━━━━━━━━━━━━━━━━━╇━━━━━━━━━━━━━━━━━┩\n",
              "│ conv2d (\u001b[38;5;33mConv2D\u001b[0m)                      │ (\u001b[38;5;45mNone\u001b[0m, \u001b[38;5;34m178\u001b[0m, \u001b[38;5;34m178\u001b[0m, \u001b[38;5;34m16\u001b[0m)        │             \u001b[38;5;34m448\u001b[0m │\n",
              "├──────────────────────────────────────┼─────────────────────────────┼─────────────────┤\n",
              "│ max_pooling2d (\u001b[38;5;33mMaxPooling2D\u001b[0m)         │ (\u001b[38;5;45mNone\u001b[0m, \u001b[38;5;34m89\u001b[0m, \u001b[38;5;34m89\u001b[0m, \u001b[38;5;34m16\u001b[0m)          │               \u001b[38;5;34m0\u001b[0m │\n",
              "├──────────────────────────────────────┼─────────────────────────────┼─────────────────┤\n",
              "│ conv2d_1 (\u001b[38;5;33mConv2D\u001b[0m)                    │ (\u001b[38;5;45mNone\u001b[0m, \u001b[38;5;34m87\u001b[0m, \u001b[38;5;34m87\u001b[0m, \u001b[38;5;34m32\u001b[0m)          │           \u001b[38;5;34m4,640\u001b[0m │\n",
              "├──────────────────────────────────────┼─────────────────────────────┼─────────────────┤\n",
              "│ max_pooling2d_1 (\u001b[38;5;33mMaxPooling2D\u001b[0m)       │ (\u001b[38;5;45mNone\u001b[0m, \u001b[38;5;34m43\u001b[0m, \u001b[38;5;34m43\u001b[0m, \u001b[38;5;34m32\u001b[0m)          │               \u001b[38;5;34m0\u001b[0m │\n",
              "├──────────────────────────────────────┼─────────────────────────────┼─────────────────┤\n",
              "│ conv2d_2 (\u001b[38;5;33mConv2D\u001b[0m)                    │ (\u001b[38;5;45mNone\u001b[0m, \u001b[38;5;34m41\u001b[0m, \u001b[38;5;34m41\u001b[0m, \u001b[38;5;34m32\u001b[0m)          │           \u001b[38;5;34m9,248\u001b[0m │\n",
              "├──────────────────────────────────────┼─────────────────────────────┼─────────────────┤\n",
              "│ max_pooling2d_2 (\u001b[38;5;33mMaxPooling2D\u001b[0m)       │ (\u001b[38;5;45mNone\u001b[0m, \u001b[38;5;34m20\u001b[0m, \u001b[38;5;34m20\u001b[0m, \u001b[38;5;34m32\u001b[0m)          │               \u001b[38;5;34m0\u001b[0m │\n",
              "├──────────────────────────────────────┼─────────────────────────────┼─────────────────┤\n",
              "│ conv2d_3 (\u001b[38;5;33mConv2D\u001b[0m)                    │ (\u001b[38;5;45mNone\u001b[0m, \u001b[38;5;34m18\u001b[0m, \u001b[38;5;34m18\u001b[0m, \u001b[38;5;34m32\u001b[0m)          │           \u001b[38;5;34m9,248\u001b[0m │\n",
              "├──────────────────────────────────────┼─────────────────────────────┼─────────────────┤\n",
              "│ max_pooling2d_3 (\u001b[38;5;33mMaxPooling2D\u001b[0m)       │ (\u001b[38;5;45mNone\u001b[0m, \u001b[38;5;34m9\u001b[0m, \u001b[38;5;34m9\u001b[0m, \u001b[38;5;34m32\u001b[0m)            │               \u001b[38;5;34m0\u001b[0m │\n",
              "├──────────────────────────────────────┼─────────────────────────────┼─────────────────┤\n",
              "│ flatten (\u001b[38;5;33mFlatten\u001b[0m)                    │ (\u001b[38;5;45mNone\u001b[0m, \u001b[38;5;34m2592\u001b[0m)                │               \u001b[38;5;34m0\u001b[0m │\n",
              "├──────────────────────────────────────┼─────────────────────────────┼─────────────────┤\n",
              "│ dense (\u001b[38;5;33mDense\u001b[0m)                        │ (\u001b[38;5;45mNone\u001b[0m, \u001b[38;5;34m32\u001b[0m)                  │          \u001b[38;5;34m82,976\u001b[0m │\n",
              "├──────────────────────────────────────┼─────────────────────────────┼─────────────────┤\n",
              "│ dense_1 (\u001b[38;5;33mDense\u001b[0m)                      │ (\u001b[38;5;45mNone\u001b[0m, \u001b[38;5;34m5\u001b[0m)                   │             \u001b[38;5;34m165\u001b[0m │\n",
              "└──────────────────────────────────────┴─────────────────────────────┴─────────────────┘\n"
            ],
            "text/html": [
              "<pre style=\"white-space:pre;overflow-x:auto;line-height:normal;font-family:Menlo,'DejaVu Sans Mono',consolas,'Courier New',monospace\">┏━━━━━━━━━━━━━━━━━━━━━━━━━━━━━━━━━━━━━━┳━━━━━━━━━━━━━━━━━━━━━━━━━━━━━┳━━━━━━━━━━━━━━━━━┓\n",
              "┃<span style=\"font-weight: bold\"> Layer (type)                         </span>┃<span style=\"font-weight: bold\"> Output Shape                </span>┃<span style=\"font-weight: bold\">         Param # </span>┃\n",
              "┡━━━━━━━━━━━━━━━━━━━━━━━━━━━━━━━━━━━━━━╇━━━━━━━━━━━━━━━━━━━━━━━━━━━━━╇━━━━━━━━━━━━━━━━━┩\n",
              "│ conv2d (<span style=\"color: #0087ff; text-decoration-color: #0087ff\">Conv2D</span>)                      │ (<span style=\"color: #00d7ff; text-decoration-color: #00d7ff\">None</span>, <span style=\"color: #00af00; text-decoration-color: #00af00\">178</span>, <span style=\"color: #00af00; text-decoration-color: #00af00\">178</span>, <span style=\"color: #00af00; text-decoration-color: #00af00\">16</span>)        │             <span style=\"color: #00af00; text-decoration-color: #00af00\">448</span> │\n",
              "├──────────────────────────────────────┼─────────────────────────────┼─────────────────┤\n",
              "│ max_pooling2d (<span style=\"color: #0087ff; text-decoration-color: #0087ff\">MaxPooling2D</span>)         │ (<span style=\"color: #00d7ff; text-decoration-color: #00d7ff\">None</span>, <span style=\"color: #00af00; text-decoration-color: #00af00\">89</span>, <span style=\"color: #00af00; text-decoration-color: #00af00\">89</span>, <span style=\"color: #00af00; text-decoration-color: #00af00\">16</span>)          │               <span style=\"color: #00af00; text-decoration-color: #00af00\">0</span> │\n",
              "├──────────────────────────────────────┼─────────────────────────────┼─────────────────┤\n",
              "│ conv2d_1 (<span style=\"color: #0087ff; text-decoration-color: #0087ff\">Conv2D</span>)                    │ (<span style=\"color: #00d7ff; text-decoration-color: #00d7ff\">None</span>, <span style=\"color: #00af00; text-decoration-color: #00af00\">87</span>, <span style=\"color: #00af00; text-decoration-color: #00af00\">87</span>, <span style=\"color: #00af00; text-decoration-color: #00af00\">32</span>)          │           <span style=\"color: #00af00; text-decoration-color: #00af00\">4,640</span> │\n",
              "├──────────────────────────────────────┼─────────────────────────────┼─────────────────┤\n",
              "│ max_pooling2d_1 (<span style=\"color: #0087ff; text-decoration-color: #0087ff\">MaxPooling2D</span>)       │ (<span style=\"color: #00d7ff; text-decoration-color: #00d7ff\">None</span>, <span style=\"color: #00af00; text-decoration-color: #00af00\">43</span>, <span style=\"color: #00af00; text-decoration-color: #00af00\">43</span>, <span style=\"color: #00af00; text-decoration-color: #00af00\">32</span>)          │               <span style=\"color: #00af00; text-decoration-color: #00af00\">0</span> │\n",
              "├──────────────────────────────────────┼─────────────────────────────┼─────────────────┤\n",
              "│ conv2d_2 (<span style=\"color: #0087ff; text-decoration-color: #0087ff\">Conv2D</span>)                    │ (<span style=\"color: #00d7ff; text-decoration-color: #00d7ff\">None</span>, <span style=\"color: #00af00; text-decoration-color: #00af00\">41</span>, <span style=\"color: #00af00; text-decoration-color: #00af00\">41</span>, <span style=\"color: #00af00; text-decoration-color: #00af00\">32</span>)          │           <span style=\"color: #00af00; text-decoration-color: #00af00\">9,248</span> │\n",
              "├──────────────────────────────────────┼─────────────────────────────┼─────────────────┤\n",
              "│ max_pooling2d_2 (<span style=\"color: #0087ff; text-decoration-color: #0087ff\">MaxPooling2D</span>)       │ (<span style=\"color: #00d7ff; text-decoration-color: #00d7ff\">None</span>, <span style=\"color: #00af00; text-decoration-color: #00af00\">20</span>, <span style=\"color: #00af00; text-decoration-color: #00af00\">20</span>, <span style=\"color: #00af00; text-decoration-color: #00af00\">32</span>)          │               <span style=\"color: #00af00; text-decoration-color: #00af00\">0</span> │\n",
              "├──────────────────────────────────────┼─────────────────────────────┼─────────────────┤\n",
              "│ conv2d_3 (<span style=\"color: #0087ff; text-decoration-color: #0087ff\">Conv2D</span>)                    │ (<span style=\"color: #00d7ff; text-decoration-color: #00d7ff\">None</span>, <span style=\"color: #00af00; text-decoration-color: #00af00\">18</span>, <span style=\"color: #00af00; text-decoration-color: #00af00\">18</span>, <span style=\"color: #00af00; text-decoration-color: #00af00\">32</span>)          │           <span style=\"color: #00af00; text-decoration-color: #00af00\">9,248</span> │\n",
              "├──────────────────────────────────────┼─────────────────────────────┼─────────────────┤\n",
              "│ max_pooling2d_3 (<span style=\"color: #0087ff; text-decoration-color: #0087ff\">MaxPooling2D</span>)       │ (<span style=\"color: #00d7ff; text-decoration-color: #00d7ff\">None</span>, <span style=\"color: #00af00; text-decoration-color: #00af00\">9</span>, <span style=\"color: #00af00; text-decoration-color: #00af00\">9</span>, <span style=\"color: #00af00; text-decoration-color: #00af00\">32</span>)            │               <span style=\"color: #00af00; text-decoration-color: #00af00\">0</span> │\n",
              "├──────────────────────────────────────┼─────────────────────────────┼─────────────────┤\n",
              "│ flatten (<span style=\"color: #0087ff; text-decoration-color: #0087ff\">Flatten</span>)                    │ (<span style=\"color: #00d7ff; text-decoration-color: #00d7ff\">None</span>, <span style=\"color: #00af00; text-decoration-color: #00af00\">2592</span>)                │               <span style=\"color: #00af00; text-decoration-color: #00af00\">0</span> │\n",
              "├──────────────────────────────────────┼─────────────────────────────┼─────────────────┤\n",
              "│ dense (<span style=\"color: #0087ff; text-decoration-color: #0087ff\">Dense</span>)                        │ (<span style=\"color: #00d7ff; text-decoration-color: #00d7ff\">None</span>, <span style=\"color: #00af00; text-decoration-color: #00af00\">32</span>)                  │          <span style=\"color: #00af00; text-decoration-color: #00af00\">82,976</span> │\n",
              "├──────────────────────────────────────┼─────────────────────────────┼─────────────────┤\n",
              "│ dense_1 (<span style=\"color: #0087ff; text-decoration-color: #0087ff\">Dense</span>)                      │ (<span style=\"color: #00d7ff; text-decoration-color: #00d7ff\">None</span>, <span style=\"color: #00af00; text-decoration-color: #00af00\">5</span>)                   │             <span style=\"color: #00af00; text-decoration-color: #00af00\">165</span> │\n",
              "└──────────────────────────────────────┴─────────────────────────────┴─────────────────┘\n",
              "</pre>\n"
            ]
          },
          "metadata": {}
        },
        {
          "output_type": "display_data",
          "data": {
            "text/plain": [
              "\u001b[1m Total params: \u001b[0m\u001b[38;5;34m106,725\u001b[0m (416.89 KB)\n"
            ],
            "text/html": [
              "<pre style=\"white-space:pre;overflow-x:auto;line-height:normal;font-family:Menlo,'DejaVu Sans Mono',consolas,'Courier New',monospace\"><span style=\"font-weight: bold\"> Total params: </span><span style=\"color: #00af00; text-decoration-color: #00af00\">106,725</span> (416.89 KB)\n",
              "</pre>\n"
            ]
          },
          "metadata": {}
        },
        {
          "output_type": "display_data",
          "data": {
            "text/plain": [
              "\u001b[1m Trainable params: \u001b[0m\u001b[38;5;34m106,725\u001b[0m (416.89 KB)\n"
            ],
            "text/html": [
              "<pre style=\"white-space:pre;overflow-x:auto;line-height:normal;font-family:Menlo,'DejaVu Sans Mono',consolas,'Courier New',monospace\"><span style=\"font-weight: bold\"> Trainable params: </span><span style=\"color: #00af00; text-decoration-color: #00af00\">106,725</span> (416.89 KB)\n",
              "</pre>\n"
            ]
          },
          "metadata": {}
        },
        {
          "output_type": "display_data",
          "data": {
            "text/plain": [
              "\u001b[1m Non-trainable params: \u001b[0m\u001b[38;5;34m0\u001b[0m (0.00 B)\n"
            ],
            "text/html": [
              "<pre style=\"white-space:pre;overflow-x:auto;line-height:normal;font-family:Menlo,'DejaVu Sans Mono',consolas,'Courier New',monospace\"><span style=\"font-weight: bold\"> Non-trainable params: </span><span style=\"color: #00af00; text-decoration-color: #00af00\">0</span> (0.00 B)\n",
              "</pre>\n"
            ]
          },
          "metadata": {}
        }
      ]
    },
    {
      "cell_type": "code",
      "source": [],
      "metadata": {
        "id": "SlN9jprX4DdU"
      },
      "execution_count": null,
      "outputs": []
    },
    {
      "cell_type": "code",
      "source": [],
      "metadata": {
        "id": "8C3cpH5C4DUr"
      },
      "execution_count": null,
      "outputs": []
    },
    {
      "cell_type": "code",
      "source": [
        "# conv_base = ResNet50(\n",
        "#     weights='imagenet',\n",
        "#     include_top = False,\n",
        "#     input_shape=(180,180,3)\n",
        "# )"
      ],
      "metadata": {
        "id": "Fg1nxbdfc0Gj"
      },
      "execution_count": 54,
      "outputs": []
    },
    {
      "cell_type": "code",
      "source": [
        "# number_classes = 5\n",
        "\n",
        "# model = Sequential()\n",
        "# model.add(conv_base)\n",
        "# model.add(Flatten())\n",
        "# model.add(Dense(256,activation='relu'))\n",
        "# model.add(Dense(number_classes,activation='softmax'))"
      ],
      "metadata": {
        "id": "urNVMAERVplU"
      },
      "execution_count": 55,
      "outputs": []
    },
    {
      "cell_type": "code",
      "source": [
        "#conv_base.trainable = False"
      ],
      "metadata": {
        "id": "LVsFKyy4ZFCP"
      },
      "execution_count": 56,
      "outputs": []
    },
    {
      "cell_type": "code",
      "source": [
        "# scaled_dir = '/content/drive/MyDrive/family/family'\n",
        "# os.makedirs(scaled_dir, exist_ok=True)\n",
        "\n",
        "# # Save the scaled images to the new directory\n",
        "# for i, img in enumerate(X_train_scaled):\n",
        "#     img_path = os.path.join(scaled_dir, f'img_{i}.jpg')\n",
        "#     print(img_path)\n"
      ],
      "metadata": {
        "id": "hCuKVGQonYPD"
      },
      "execution_count": 48,
      "outputs": []
    },
    {
      "cell_type": "code",
      "source": [
        "# train_ds = keras.utils.image_dataset_from_directory(\n",
        "#     directory=scaled_dir,\n",
        "#     labels='inferred',\n",
        "#     label_mode='int',\n",
        "#     batch_size=32,\n",
        "#     image_size=(150,150)\n",
        "# )\n",
        "# validation_ds = keras.utils.image_dataset_from_directory(\n",
        "#     directory = scaled_dir,\n",
        "#     labels='inferred',\n",
        "#     label_mode = 'int',\n",
        "#     batch_size=32,\n",
        "#     image_size=(150,150)\n",
        "# )\n",
        "\n"
      ],
      "metadata": {
        "id": "khtMEwifnXrK",
        "outputId": "73c239f6-4ce8-4b68-a8d8-43deb148c211",
        "colab": {
          "base_uri": "https://localhost:8080/"
        }
      },
      "execution_count": null,
      "outputs": [
        {
          "output_type": "stream",
          "name": "stdout",
          "text": [
            "Found 142 files belonging to 5 classes.\n",
            "Found 142 files belonging to 5 classes.\n"
          ]
        }
      ]
    },
    {
      "cell_type": "code",
      "source": [
        "model.compile(optimizer='adam',loss='sparse_categorical_crossentropy',metrics=['accuracy'])\n",
        "# model.compile(optimizer='adam',loss=tf.keras.losses.SparseCategoricalCrossentropy(from_logits=False),\n",
        "#     metrics=['accuracy']\n",
        "# )"
      ],
      "metadata": {
        "id": "EEJjdjVPm3g3"
      },
      "execution_count": 19,
      "outputs": []
    },
    {
      "cell_type": "code",
      "source": [
        "if len(valid_generator) == 0:\n",
        "    print(\"Validation generator is empty\")\n",
        "else:\n",
        "  print(len(valid_generator))\n",
        "\n",
        "if len(train_generator) == 0:\n",
        "    print(\"Train generator is empty\")\n",
        "else:\n",
        "  print(len(train_generator))\n"
      ],
      "metadata": {
        "colab": {
          "base_uri": "https://localhost:8080/"
        },
        "id": "G2B3gAzdFMba",
        "outputId": "19814c73-f706-46bc-b003-46db8af1c62d"
      },
      "execution_count": 83,
      "outputs": [
        {
          "output_type": "stream",
          "name": "stdout",
          "text": [
            "2\n",
            "11\n"
          ]
        }
      ]
    },
    {
      "cell_type": "code",
      "source": [],
      "metadata": {
        "id": "IjtdFSdpFMop"
      },
      "execution_count": null,
      "outputs": []
    },
    {
      "cell_type": "code",
      "source": [
        "#history = model.fit(X_train_scaled, y_train, epochs=10, batch_size=3)\n",
        "#hist = model.fit(steps_per_epoch=10,generator=traindata, validation_data= testdata, validation_steps=10,epochs=5)\n",
        "history = model.fit(\n",
        "        train_generator,\n",
        "        steps_per_epoch=10,\n",
        "        batch_size=32,\n",
        "        epochs=40,\n",
        "        validation_data=valid_generator,\n",
        "        #validation_steps = len(valid_generator),\n",
        "        validation_freq=1,\n",
        "        verbose=1)\n",
        "\n",
        "# history = model.fit(\n",
        "#     train_generator,\n",
        "#     steps_per_epoch=47,\n",
        "#     batch_size=32,\n",
        "#     validation_data=validation_generator,\n",
        "#     validation_steps=6,\n",
        "#     verbose=1,\n",
        "#     epochs=20,\n",
        "# )\n"
      ],
      "metadata": {
        "colab": {
          "base_uri": "https://localhost:8080/"
        },
        "id": "BT3zecNAFZ4i",
        "outputId": "852d9167-7a93-4ed8-aea5-6eb509f6dc36"
      },
      "execution_count": 30,
      "outputs": [
        {
          "output_type": "stream",
          "name": "stdout",
          "text": [
            "Epoch 1/40\n",
            "\u001b[1m10/10\u001b[0m \u001b[32m━━━━━━━━━━━━━━━━━━━━\u001b[0m\u001b[37m\u001b[0m \u001b[1m2s\u001b[0m 140ms/step - accuracy: 0.9606 - loss: 0.1350 - val_accuracy: 0.6500 - val_loss: 1.1082\n",
            "Epoch 2/40\n",
            "\u001b[1m10/10\u001b[0m \u001b[32m━━━━━━━━━━━━━━━━━━━━\u001b[0m\u001b[37m\u001b[0m \u001b[1m0s\u001b[0m 37ms/step - accuracy: 1.0000 - loss: 0.0707 - val_accuracy: 0.7000 - val_loss: 1.3906\n",
            "Epoch 3/40\n",
            "\u001b[1m10/10\u001b[0m \u001b[32m━━━━━━━━━━━━━━━━━━━━\u001b[0m\u001b[37m\u001b[0m \u001b[1m3s\u001b[0m 187ms/step - accuracy: 0.9404 - loss: 0.1917 - val_accuracy: 0.7000 - val_loss: 1.3777\n",
            "Epoch 4/40\n",
            "\u001b[1m10/10\u001b[0m \u001b[32m━━━━━━━━━━━━━━━━━━━━\u001b[0m\u001b[37m\u001b[0m \u001b[1m0s\u001b[0m 23ms/step - accuracy: 0.9312 - loss: 0.1510 - val_accuracy: 0.7000 - val_loss: 1.3853\n",
            "Epoch 5/40\n",
            "\u001b[1m10/10\u001b[0m \u001b[32m━━━━━━━━━━━━━━━━━━━━\u001b[0m\u001b[37m\u001b[0m \u001b[1m3s\u001b[0m 102ms/step - accuracy: 0.9188 - loss: 0.1661 - val_accuracy: 0.7000 - val_loss: 0.8758\n",
            "Epoch 6/40\n",
            "\u001b[1m10/10\u001b[0m \u001b[32m━━━━━━━━━━━━━━━━━━━━\u001b[0m\u001b[37m\u001b[0m \u001b[1m0s\u001b[0m 36ms/step - accuracy: 1.0000 - loss: 0.1295 - val_accuracy: 0.6000 - val_loss: 1.3348\n",
            "Epoch 7/40\n",
            "\u001b[1m10/10\u001b[0m \u001b[32m━━━━━━━━━━━━━━━━━━━━\u001b[0m\u001b[37m\u001b[0m \u001b[1m2s\u001b[0m 90ms/step - accuracy: 0.9527 - loss: 0.1381 - val_accuracy: 0.6500 - val_loss: 1.4218\n",
            "Epoch 8/40\n",
            "\u001b[1m10/10\u001b[0m \u001b[32m━━━━━━━━━━━━━━━━━━━━\u001b[0m\u001b[37m\u001b[0m \u001b[1m0s\u001b[0m 25ms/step - accuracy: 0.9719 - loss: 0.1611 - val_accuracy: 0.7500 - val_loss: 1.4022\n",
            "Epoch 9/40\n",
            "\u001b[1m10/10\u001b[0m \u001b[32m━━━━━━━━━━━━━━━━━━━━\u001b[0m\u001b[37m\u001b[0m \u001b[1m2s\u001b[0m 90ms/step - accuracy: 0.9619 - loss: 0.1250 - val_accuracy: 0.6500 - val_loss: 1.2809\n",
            "Epoch 10/40\n",
            "\u001b[1m10/10\u001b[0m \u001b[32m━━━━━━━━━━━━━━━━━━━━\u001b[0m\u001b[37m\u001b[0m \u001b[1m0s\u001b[0m 22ms/step - accuracy: 0.9563 - loss: 0.2111 - val_accuracy: 0.5000 - val_loss: 1.5577\n",
            "Epoch 11/40\n",
            "\u001b[1m10/10\u001b[0m \u001b[32m━━━━━━━━━━━━━━━━━━━━\u001b[0m\u001b[37m\u001b[0m \u001b[1m3s\u001b[0m 145ms/step - accuracy: 0.9587 - loss: 0.1132 - val_accuracy: 0.6000 - val_loss: 1.1668\n",
            "Epoch 12/40\n",
            "\u001b[1m10/10\u001b[0m \u001b[32m━━━━━━━━━━━━━━━━━━━━\u001b[0m\u001b[37m\u001b[0m \u001b[1m0s\u001b[0m 38ms/step - accuracy: 1.0000 - loss: 0.0768 - val_accuracy: 0.7000 - val_loss: 1.4184\n",
            "Epoch 13/40\n",
            "\u001b[1m10/10\u001b[0m \u001b[32m━━━━━━━━━━━━━━━━━━━━\u001b[0m\u001b[37m\u001b[0m \u001b[1m3s\u001b[0m 95ms/step - accuracy: 0.9689 - loss: 0.1127 - val_accuracy: 0.7500 - val_loss: 0.7660\n",
            "Epoch 14/40\n",
            "\u001b[1m10/10\u001b[0m \u001b[32m━━━━━━━━━━━━━━━━━━━━\u001b[0m\u001b[37m\u001b[0m \u001b[1m0s\u001b[0m 36ms/step - accuracy: 0.9719 - loss: 0.0454 - val_accuracy: 0.7500 - val_loss: 0.7937\n",
            "Epoch 15/40\n",
            "\u001b[1m10/10\u001b[0m \u001b[32m━━━━━━━━━━━━━━━━━━━━\u001b[0m\u001b[37m\u001b[0m \u001b[1m2s\u001b[0m 84ms/step - accuracy: 0.9820 - loss: 0.0943 - val_accuracy: 0.7500 - val_loss: 0.9220\n",
            "Epoch 16/40\n",
            "\u001b[1m10/10\u001b[0m \u001b[32m━━━━━━━━━━━━━━━━━━━━\u001b[0m\u001b[37m\u001b[0m \u001b[1m0s\u001b[0m 25ms/step - accuracy: 1.0000 - loss: 0.0217 - val_accuracy: 0.7500 - val_loss: 1.1815\n",
            "Epoch 17/40\n",
            "\u001b[1m10/10\u001b[0m \u001b[32m━━━━━━━━━━━━━━━━━━━━\u001b[0m\u001b[37m\u001b[0m \u001b[1m2s\u001b[0m 88ms/step - accuracy: 0.9939 - loss: 0.0421 - val_accuracy: 0.7500 - val_loss: 1.0950\n",
            "Epoch 18/40\n",
            "\u001b[1m10/10\u001b[0m \u001b[32m━━━━━━━━━━━━━━━━━━━━\u001b[0m\u001b[37m\u001b[0m \u001b[1m0s\u001b[0m 24ms/step - accuracy: 0.9719 - loss: 0.0381 - val_accuracy: 0.6500 - val_loss: 1.0830\n",
            "Epoch 19/40\n",
            "\u001b[1m10/10\u001b[0m \u001b[32m━━━━━━━━━━━━━━━━━━━━\u001b[0m\u001b[37m\u001b[0m \u001b[1m2s\u001b[0m 90ms/step - accuracy: 0.9836 - loss: 0.0572 - val_accuracy: 0.7000 - val_loss: 1.1683\n",
            "Epoch 20/40\n",
            "\u001b[1m10/10\u001b[0m \u001b[32m━━━━━━━━━━━━━━━━━━━━\u001b[0m\u001b[37m\u001b[0m \u001b[1m0s\u001b[0m 22ms/step - accuracy: 1.0000 - loss: 0.0103 - val_accuracy: 0.6500 - val_loss: 1.4894\n",
            "Epoch 21/40\n",
            "\u001b[1m10/10\u001b[0m \u001b[32m━━━━━━━━━━━━━━━━━━━━\u001b[0m\u001b[37m\u001b[0m \u001b[1m2s\u001b[0m 90ms/step - accuracy: 0.9911 - loss: 0.0324 - val_accuracy: 0.6500 - val_loss: 1.7131\n",
            "Epoch 22/40\n",
            "\u001b[1m10/10\u001b[0m \u001b[32m━━━━━━━━━━━━━━━━━━━━\u001b[0m\u001b[37m\u001b[0m \u001b[1m0s\u001b[0m 22ms/step - accuracy: 1.0000 - loss: 0.0208 - val_accuracy: 0.5500 - val_loss: 1.6621\n",
            "Epoch 23/40\n",
            "\u001b[1m10/10\u001b[0m \u001b[32m━━━━━━━━━━━━━━━━━━━━\u001b[0m\u001b[37m\u001b[0m \u001b[1m3s\u001b[0m 184ms/step - accuracy: 1.0000 - loss: 0.0246 - val_accuracy: 0.6000 - val_loss: 1.5585\n",
            "Epoch 24/40\n",
            "\u001b[1m10/10\u001b[0m \u001b[32m━━━━━━━━━━━━━━━━━━━━\u001b[0m\u001b[37m\u001b[0m \u001b[1m0s\u001b[0m 37ms/step - accuracy: 1.0000 - loss: 0.0171 - val_accuracy: 0.6500 - val_loss: 1.9854\n",
            "Epoch 25/40\n",
            "\u001b[1m10/10\u001b[0m \u001b[32m━━━━━━━━━━━━━━━━━━━━\u001b[0m\u001b[37m\u001b[0m \u001b[1m2s\u001b[0m 81ms/step - accuracy: 0.9910 - loss: 0.0452 - val_accuracy: 0.6500 - val_loss: 1.2126\n",
            "Epoch 26/40\n",
            "\u001b[1m10/10\u001b[0m \u001b[32m━━━━━━━━━━━━━━━━━━━━\u001b[0m\u001b[37m\u001b[0m \u001b[1m0s\u001b[0m 37ms/step - accuracy: 1.0000 - loss: 0.0138 - val_accuracy: 0.7500 - val_loss: 1.4418\n",
            "Epoch 27/40\n",
            "\u001b[1m10/10\u001b[0m \u001b[32m━━━━━━━━━━━━━━━━━━━━\u001b[0m\u001b[37m\u001b[0m \u001b[1m2s\u001b[0m 90ms/step - accuracy: 0.9988 - loss: 0.0133 - val_accuracy: 0.8000 - val_loss: 1.2796\n",
            "Epoch 28/40\n",
            "\u001b[1m10/10\u001b[0m \u001b[32m━━━━━━━━━━━━━━━━━━━━\u001b[0m\u001b[37m\u001b[0m \u001b[1m0s\u001b[0m 24ms/step - accuracy: 1.0000 - loss: 0.0149 - val_accuracy: 0.7500 - val_loss: 1.5503\n",
            "Epoch 29/40\n",
            "\u001b[1m10/10\u001b[0m \u001b[32m━━━━━━━━━━━━━━━━━━━━\u001b[0m\u001b[37m\u001b[0m \u001b[1m2s\u001b[0m 90ms/step - accuracy: 1.0000 - loss: 0.0194 - val_accuracy: 0.6000 - val_loss: 1.8782\n",
            "Epoch 30/40\n",
            "\u001b[1m10/10\u001b[0m \u001b[32m━━━━━━━━━━━━━━━━━━━━\u001b[0m\u001b[37m\u001b[0m \u001b[1m0s\u001b[0m 23ms/step - accuracy: 1.0000 - loss: 0.0059 - val_accuracy: 0.7000 - val_loss: 1.9990\n",
            "Epoch 31/40\n",
            "\u001b[1m10/10\u001b[0m \u001b[32m━━━━━━━━━━━━━━━━━━━━\u001b[0m\u001b[37m\u001b[0m \u001b[1m2s\u001b[0m 89ms/step - accuracy: 1.0000 - loss: 0.0106 - val_accuracy: 0.6000 - val_loss: 2.0645\n",
            "Epoch 32/40\n",
            "\u001b[1m10/10\u001b[0m \u001b[32m━━━━━━━━━━━━━━━━━━━━\u001b[0m\u001b[37m\u001b[0m \u001b[1m0s\u001b[0m 24ms/step - accuracy: 1.0000 - loss: 0.0171 - val_accuracy: 0.7000 - val_loss: 1.9662\n",
            "Epoch 33/40\n",
            "\u001b[1m10/10\u001b[0m \u001b[32m━━━━━━━━━━━━━━━━━━━━\u001b[0m\u001b[37m\u001b[0m \u001b[1m3s\u001b[0m 147ms/step - accuracy: 0.9907 - loss: 0.0233 - val_accuracy: 0.7000 - val_loss: 1.6262\n",
            "Epoch 34/40\n",
            "\u001b[1m10/10\u001b[0m \u001b[32m━━━━━━━━━━━━━━━━━━━━\u001b[0m\u001b[37m\u001b[0m \u001b[1m0s\u001b[0m 37ms/step - accuracy: 1.0000 - loss: 0.0035 - val_accuracy: 0.6500 - val_loss: 1.9439\n",
            "Epoch 35/40\n",
            "\u001b[1m10/10\u001b[0m \u001b[32m━━━━━━━━━━━━━━━━━━━━\u001b[0m\u001b[37m\u001b[0m \u001b[1m3s\u001b[0m 91ms/step - accuracy: 1.0000 - loss: 0.0104 - val_accuracy: 0.6500 - val_loss: 1.7992\n",
            "Epoch 36/40\n",
            "\u001b[1m10/10\u001b[0m \u001b[32m━━━━━━━━━━━━━━━━━━━━\u001b[0m\u001b[37m\u001b[0m \u001b[1m0s\u001b[0m 37ms/step - accuracy: 1.0000 - loss: 0.0047 - val_accuracy: 0.6500 - val_loss: 1.5415\n",
            "Epoch 37/40\n",
            "\u001b[1m10/10\u001b[0m \u001b[32m━━━━━━━━━━━━━━━━━━━━\u001b[0m\u001b[37m\u001b[0m \u001b[1m4s\u001b[0m 90ms/step - accuracy: 1.0000 - loss: 0.0071 - val_accuracy: 0.6500 - val_loss: 1.3555\n",
            "Epoch 38/40\n",
            "\u001b[1m10/10\u001b[0m \u001b[32m━━━━━━━━━━━━━━━━━━━━\u001b[0m\u001b[37m\u001b[0m \u001b[1m0s\u001b[0m 22ms/step - accuracy: 1.0000 - loss: 0.0030 - val_accuracy: 0.6000 - val_loss: 1.6118\n",
            "Epoch 39/40\n",
            "\u001b[1m10/10\u001b[0m \u001b[32m━━━━━━━━━━━━━━━━━━━━\u001b[0m\u001b[37m\u001b[0m \u001b[1m2s\u001b[0m 92ms/step - accuracy: 1.0000 - loss: 0.0079 - val_accuracy: 0.6500 - val_loss: 1.3912\n",
            "Epoch 40/40\n",
            "\u001b[1m10/10\u001b[0m \u001b[32m━━━━━━━━━━━━━━━━━━━━\u001b[0m\u001b[37m\u001b[0m \u001b[1m0s\u001b[0m 22ms/step - accuracy: 1.0000 - loss: 0.0031 - val_accuracy: 0.7000 - val_loss: 1.8160\n"
          ]
        }
      ]
    },
    {
      "cell_type": "code",
      "source": [
        "import matplotlib.pyplot as plt\n",
        "\n",
        "# Plot training & validation accuracy values\n",
        "plt.figure(figsize=(12, 4))\n",
        "\n",
        "# Plot training & validation accuracy\n",
        "plt.subplot(1, 2, 1)\n",
        "plt.plot(history.history['accuracy'], label='Train Accuracy')\n",
        "#plt.plot(history.history['val_accuracy'], label='Test Accuracy')\n",
        "plt.title('Model Accuracy')\n",
        "plt.xlabel('Epoch')\n",
        "plt.ylabel('Accuracy')\n",
        "plt.legend(loc='lower right')\n",
        "\n",
        "# Plot training & validation loss values\n",
        "plt.subplot(1, 2, 2)\n",
        "plt.plot(history.history['loss'], label='Train Loss')\n",
        "#plt.plot(history.history['val_loss'], label='Test Loss')\n",
        "plt.title('Model Loss')\n",
        "plt.xlabel('Epoch')\n",
        "plt.ylabel('Loss')\n",
        "plt.legend(loc='upper right')\n",
        "\n",
        "plt.show()\n"
      ],
      "metadata": {
        "id": "WmqgsGj1m4jJ",
        "colab": {
          "base_uri": "https://localhost:8080/",
          "height": 410
        },
        "outputId": "a7a3358b-092f-49a5-e2bb-9ac2520747b5"
      },
      "execution_count": 31,
      "outputs": [
        {
          "output_type": "display_data",
          "data": {
            "text/plain": [
              "<Figure size 1200x400 with 2 Axes>"
            ],
            "image/png": "[encoded data removed]"
          },
          "metadata": {}
        }
      ]
    },
    {
      "cell_type": "code",
      "source": [
        "import cv2"
      ],
      "metadata": {
        "id": "9KiXKkbvm5DQ"
      },
      "execution_count": 22,
      "outputs": []
    },
    {
      "cell_type": "code",
      "source": [
        "import numpy as np\n",
        "import cv2\n",
        "import matplotlib.pyplot as plt\n",
        "class_names = {0: 'Aroush', 1: 'Zainab', 2: 'Amal', 3: 'Taha', 4: 'Mahira'}\n",
        "\n",
        "# Load the image\n",
        "img_path = '/content/140.jpg'  # Update with the path to your image\n",
        "img = cv2.imread(img_path)\n",
        "\n",
        "# Preprocess the image\n",
        "img_resized = cv2.resize(img, (180, 180))  # Resize to the size used during training (150x150)\n",
        "img_scaled = img_resized / 255.0  # Scale pixel values\n",
        "\n",
        "# Convert the image to a batch (since the model expects batches of images)\n",
        "img_array = np.expand_dims(img_scaled, axis=0)  # Shape becomes (1, 150, 150, 3)\n",
        "\n",
        "\n",
        "\n",
        "# Predict the class\n",
        "predictions = model.predict(img_array)\n",
        "\n",
        "predicted_class_name = class_names[np.argmax(predictions)]\n",
        "print(predictions)\n",
        "print(f\"Predicted class: {predicted_class_name}\")\n",
        "plt.imshow(cv2.cvtColor(img, cv2.COLOR_BGR2RGB))\n",
        "plt.show()\n",
        "\n",
        "#print(img).astype('utils8')\n",
        "\n",
        "\n",
        "\n",
        "# # Get the class with the highest probability\n",
        "#predicted_class_index = np.argmax(predictions[0])\n",
        "#predicted_class_name = list(family_labels_dict.keys())[predicted_class_index]\n",
        "#print(predicted_class_index)\n",
        "# Display the result\n",
        "# print(f\"Predicted class: {predicted_class_name}\")\n",
        "# print(f\"Prediction probabilities: {predictions[0]}\")\n",
        "\n",
        "# # Optionally, display the image\n",
        "# plt.imshow(cv2.cvtColor(img_resized, cv2.COLOR_BGR2RGB))\n",
        "# plt.title(f\"Predicted: {predicted_class_name}\")\n",
        "# plt.show()\n"
      ],
      "metadata": {
        "id": "en6Ovcv3m5ip",
        "colab": {
          "base_uri": "https://localhost:8080/",
          "height": 487
        },
        "outputId": "76d4cffb-8152-4fd1-9a5c-74e8db56b9de"
      },
      "execution_count": 36,
      "outputs": [
        {
          "output_type": "stream",
          "name": "stdout",
          "text": [
            "\u001b[1m1/1\u001b[0m \u001b[32m━━━━━━━━━━━━━━━━━━━━\u001b[0m\u001b[37m\u001b[0m \u001b[1m0s\u001b[0m 17ms/step\n",
            "[[9.9907506e-01 4.6971527e-06 9.2011981e-04 3.9176399e-08 8.1539042e-08]]\n",
            "Predicted class: Aroush\n"
          ]
        },
        {
          "output_type": "display_data",
          "data": {
            "text/plain": [
              "<Figure size 640x480 with 1 Axes>"
            ],
            "image/png": "[encoded data removed]"
          },
          "metadata": {}
        }
      ]
    },
    {
      "cell_type": "code",
      "source": [],
      "metadata": {
        "id": "ouaRYVcTm6EE"
      },
      "execution_count": null,
      "outputs": []
    },
    {
      "cell_type": "code",
      "source": [],
      "metadata": {
        "id": "HVAEtwAZm2X_"
      },
      "execution_count": null,
      "outputs": []
    },
    {
      "cell_type": "code",
      "source": [],
      "metadata": {
        "id": "s9ZKb_XWZZjq",
        "outputId": "70a49701-f71c-48b1-9093-48fe79ea1bd6",
        "colab": {
          "base_uri": "https://localhost:8080/"
        }
      },
      "execution_count": null,
      "outputs": [
        {
          "output_type": "stream",
          "name": "stdout",
          "text": [
            "Downloading data from https://storage.googleapis.com/tensorflow/keras-applications/vgg16/vgg16_weights_tf_dim_ordering_tf_kernels_notop.h5\n",
            "\u001b[1m58889256/58889256\u001b[0m \u001b[32m━━━━━━━━━━━━━━━━━━━━\u001b[0m\u001b[37m\u001b[0m \u001b[1m0s\u001b[0m 0us/step\n"
          ]
        }
      ]
    },
    {
      "cell_type": "code",
      "source": [
        "conv_base.summary()"
      ],
      "metadata": {
        "id": "zsxDS6YFZZ9t",
        "outputId": "72d68476-6d50-4c34-b346-781f898679e5",
        "colab": {
          "base_uri": "https://localhost:8080/",
          "height": 737
        }
      },
      "execution_count": null,
      "outputs": [
        {
          "output_type": "display_data",
          "data": {
            "text/plain": [
              "\u001b[1mModel: \"vgg16\"\u001b[0m\n"
            ],
            "text/html": [
              "<pre style=\"white-space:pre;overflow-x:auto;line-height:normal;font-family:Menlo,'DejaVu Sans Mono',consolas,'Courier New',monospace\"><span style=\"font-weight: bold\">Model: \"vgg16\"</span>\n",
              "</pre>\n"
            ]
          },
          "metadata": {}
        },
        {
          "output_type": "display_data",
          "data": {
            "text/plain": [
              "┏━━━━━━━━━━━━━━━━━━━━━━━━━━━━━━━━━━━━━━┳━━━━━━━━━━━━━━━━━━━━━━━━━━━━━┳━━━━━━━━━━━━━━━━━┓\n",
              "┃\u001b[1m \u001b[0m\u001b[1mLayer (type)                        \u001b[0m\u001b[1m \u001b[0m┃\u001b[1m \u001b[0m\u001b[1mOutput Shape               \u001b[0m\u001b[1m \u001b[0m┃\u001b[1m \u001b[0m\u001b[1m        Param #\u001b[0m\u001b[1m \u001b[0m┃\n",
              "┡━━━━━━━━━━━━━━━━━━━━━━━━━━━━━━━━━━━━━━╇━━━━━━━━━━━━━━━━━━━━━━━━━━━━━╇━━━━━━━━━━━━━━━━━┩\n",
              "│ input_layer (\u001b[38;5;33mInputLayer\u001b[0m)             │ (\u001b[38;5;45mNone\u001b[0m, \u001b[38;5;34m150\u001b[0m, \u001b[38;5;34m150\u001b[0m, \u001b[38;5;34m3\u001b[0m)         │               \u001b[38;5;34m0\u001b[0m │\n",
              "├──────────────────────────────────────┼─────────────────────────────┼─────────────────┤\n",
              "│ block1_conv1 (\u001b[38;5;33mConv2D\u001b[0m)                │ (\u001b[38;5;45mNone\u001b[0m, \u001b[38;5;34m150\u001b[0m, \u001b[38;5;34m150\u001b[0m, \u001b[38;5;34m64\u001b[0m)        │           \u001b[38;5;34m1,792\u001b[0m │\n",
              "├──────────────────────────────────────┼─────────────────────────────┼─────────────────┤\n",
              "│ block1_conv2 (\u001b[38;5;33mConv2D\u001b[0m)                │ (\u001b[38;5;45mNone\u001b[0m, \u001b[38;5;34m150\u001b[0m, \u001b[38;5;34m150\u001b[0m, \u001b[38;5;34m64\u001b[0m)        │          \u001b[38;5;34m36,928\u001b[0m │\n",
              "├──────────────────────────────────────┼─────────────────────────────┼─────────────────┤\n",
              "│ block1_pool (\u001b[38;5;33mMaxPooling2D\u001b[0m)           │ (\u001b[38;5;45mNone\u001b[0m, \u001b[38;5;34m75\u001b[0m, \u001b[38;5;34m75\u001b[0m, \u001b[38;5;34m64\u001b[0m)          │               \u001b[38;5;34m0\u001b[0m │\n",
              "├──────────────────────────────────────┼─────────────────────────────┼─────────────────┤\n",
              "│ block2_conv1 (\u001b[38;5;33mConv2D\u001b[0m)                │ (\u001b[38;5;45mNone\u001b[0m, \u001b[38;5;34m75\u001b[0m, \u001b[38;5;34m75\u001b[0m, \u001b[38;5;34m128\u001b[0m)         │          \u001b[38;5;34m73,856\u001b[0m │\n",
              "├──────────────────────────────────────┼─────────────────────────────┼─────────────────┤\n",
              "│ block2_conv2 (\u001b[38;5;33mConv2D\u001b[0m)                │ (\u001b[38;5;45mNone\u001b[0m, \u001b[38;5;34m75\u001b[0m, \u001b[38;5;34m75\u001b[0m, \u001b[38;5;34m128\u001b[0m)         │         \u001b[38;5;34m147,584\u001b[0m │\n",
              "├──────────────────────────────────────┼─────────────────────────────┼─────────────────┤\n",
              "│ block2_pool (\u001b[38;5;33mMaxPooling2D\u001b[0m)           │ (\u001b[38;5;45mNone\u001b[0m, \u001b[38;5;34m37\u001b[0m, \u001b[38;5;34m37\u001b[0m, \u001b[38;5;34m128\u001b[0m)         │               \u001b[38;5;34m0\u001b[0m │\n",
              "├──────────────────────────────────────┼─────────────────────────────┼─────────────────┤\n",
              "│ block3_conv1 (\u001b[38;5;33mConv2D\u001b[0m)                │ (\u001b[38;5;45mNone\u001b[0m, \u001b[38;5;34m37\u001b[0m, \u001b[38;5;34m37\u001b[0m, \u001b[38;5;34m256\u001b[0m)         │         \u001b[38;5;34m295,168\u001b[0m │\n",
              "├──────────────────────────────────────┼─────────────────────────────┼─────────────────┤\n",
              "│ block3_conv2 (\u001b[38;5;33mConv2D\u001b[0m)                │ (\u001b[38;5;45mNone\u001b[0m, \u001b[38;5;34m37\u001b[0m, \u001b[38;5;34m37\u001b[0m, \u001b[38;5;34m256\u001b[0m)         │         \u001b[38;5;34m590,080\u001b[0m │\n",
              "├──────────────────────────────────────┼─────────────────────────────┼─────────────────┤\n",
              "│ block3_conv3 (\u001b[38;5;33mConv2D\u001b[0m)                │ (\u001b[38;5;45mNone\u001b[0m, \u001b[38;5;34m37\u001b[0m, \u001b[38;5;34m37\u001b[0m, \u001b[38;5;34m256\u001b[0m)         │         \u001b[38;5;34m590,080\u001b[0m │\n",
              "├──────────────────────────────────────┼─────────────────────────────┼─────────────────┤\n",
              "│ block3_pool (\u001b[38;5;33mMaxPooling2D\u001b[0m)           │ (\u001b[38;5;45mNone\u001b[0m, \u001b[38;5;34m18\u001b[0m, \u001b[38;5;34m18\u001b[0m, \u001b[38;5;34m256\u001b[0m)         │               \u001b[38;5;34m0\u001b[0m │\n",
              "├──────────────────────────────────────┼─────────────────────────────┼─────────────────┤\n",
              "│ block4_conv1 (\u001b[38;5;33mConv2D\u001b[0m)                │ (\u001b[38;5;45mNone\u001b[0m, \u001b[38;5;34m18\u001b[0m, \u001b[38;5;34m18\u001b[0m, \u001b[38;5;34m512\u001b[0m)         │       \u001b[38;5;34m1,180,160\u001b[0m │\n",
              "├──────────────────────────────────────┼─────────────────────────────┼─────────────────┤\n",
              "│ block4_conv2 (\u001b[38;5;33mConv2D\u001b[0m)                │ (\u001b[38;5;45mNone\u001b[0m, \u001b[38;5;34m18\u001b[0m, \u001b[38;5;34m18\u001b[0m, \u001b[38;5;34m512\u001b[0m)         │       \u001b[38;5;34m2,359,808\u001b[0m │\n",
              "├──────────────────────────────────────┼─────────────────────────────┼─────────────────┤\n",
              "│ block4_conv3 (\u001b[38;5;33mConv2D\u001b[0m)                │ (\u001b[38;5;45mNone\u001b[0m, \u001b[38;5;34m18\u001b[0m, \u001b[38;5;34m18\u001b[0m, \u001b[38;5;34m512\u001b[0m)         │       \u001b[38;5;34m2,359,808\u001b[0m │\n",
              "├──────────────────────────────────────┼─────────────────────────────┼─────────────────┤\n",
              "│ block4_pool (\u001b[38;5;33mMaxPooling2D\u001b[0m)           │ (\u001b[38;5;45mNone\u001b[0m, \u001b[38;5;34m9\u001b[0m, \u001b[38;5;34m9\u001b[0m, \u001b[38;5;34m512\u001b[0m)           │               \u001b[38;5;34m0\u001b[0m │\n",
              "├──────────────────────────────────────┼─────────────────────────────┼─────────────────┤\n",
              "│ block5_conv1 (\u001b[38;5;33mConv2D\u001b[0m)                │ (\u001b[38;5;45mNone\u001b[0m, \u001b[38;5;34m9\u001b[0m, \u001b[38;5;34m9\u001b[0m, \u001b[38;5;34m512\u001b[0m)           │       \u001b[38;5;34m2,359,808\u001b[0m │\n",
              "├──────────────────────────────────────┼─────────────────────────────┼─────────────────┤\n",
              "│ block5_conv2 (\u001b[38;5;33mConv2D\u001b[0m)                │ (\u001b[38;5;45mNone\u001b[0m, \u001b[38;5;34m9\u001b[0m, \u001b[38;5;34m9\u001b[0m, \u001b[38;5;34m512\u001b[0m)           │       \u001b[38;5;34m2,359,808\u001b[0m │\n",
              "├──────────────────────────────────────┼─────────────────────────────┼─────────────────┤\n",
              "│ block5_conv3 (\u001b[38;5;33mConv2D\u001b[0m)                │ (\u001b[38;5;45mNone\u001b[0m, \u001b[38;5;34m9\u001b[0m, \u001b[38;5;34m9\u001b[0m, \u001b[38;5;34m512\u001b[0m)           │       \u001b[38;5;34m2,359,808\u001b[0m │\n",
              "├──────────────────────────────────────┼─────────────────────────────┼─────────────────┤\n",
              "│ block5_pool (\u001b[38;5;33mMaxPooling2D\u001b[0m)           │ (\u001b[38;5;45mNone\u001b[0m, \u001b[38;5;34m4\u001b[0m, \u001b[38;5;34m4\u001b[0m, \u001b[38;5;34m512\u001b[0m)           │               \u001b[38;5;34m0\u001b[0m │\n",
              "└──────────────────────────────────────┴─────────────────────────────┴─────────────────┘\n"
            ],
            "text/html": [
              "<pre style=\"white-space:pre;overflow-x:auto;line-height:normal;font-family:Menlo,'DejaVu Sans Mono',consolas,'Courier New',monospace\">┏━━━━━━━━━━━━━━━━━━━━━━━━━━━━━━━━━━━━━━┳━━━━━━━━━━━━━━━━━━━━━━━━━━━━━┳━━━━━━━━━━━━━━━━━┓\n",
              "┃<span style=\"font-weight: bold\"> Layer (type)                         </span>┃<span style=\"font-weight: bold\"> Output Shape                </span>┃<span style=\"font-weight: bold\">         Param # </span>┃\n",
              "┡━━━━━━━━━━━━━━━━━━━━━━━━━━━━━━━━━━━━━━╇━━━━━━━━━━━━━━━━━━━━━━━━━━━━━╇━━━━━━━━━━━━━━━━━┩\n",
              "│ input_layer (<span style=\"color: #0087ff; text-decoration-color: #0087ff\">InputLayer</span>)             │ (<span style=\"color: #00d7ff; text-decoration-color: #00d7ff\">None</span>, <span style=\"color: #00af00; text-decoration-color: #00af00\">150</span>, <span style=\"color: #00af00; text-decoration-color: #00af00\">150</span>, <span style=\"color: #00af00; text-decoration-color: #00af00\">3</span>)         │               <span style=\"color: #00af00; text-decoration-color: #00af00\">0</span> │\n",
              "├──────────────────────────────────────┼─────────────────────────────┼─────────────────┤\n",
              "│ block1_conv1 (<span style=\"color: #0087ff; text-decoration-color: #0087ff\">Conv2D</span>)                │ (<span style=\"color: #00d7ff; text-decoration-color: #00d7ff\">None</span>, <span style=\"color: #00af00; text-decoration-color: #00af00\">150</span>, <span style=\"color: #00af00; text-decoration-color: #00af00\">150</span>, <span style=\"color: #00af00; text-decoration-color: #00af00\">64</span>)        │           <span style=\"color: #00af00; text-decoration-color: #00af00\">1,792</span> │\n",
              "├──────────────────────────────────────┼─────────────────────────────┼─────────────────┤\n",
              "│ block1_conv2 (<span style=\"color: #0087ff; text-decoration-color: #0087ff\">Conv2D</span>)                │ (<span style=\"color: #00d7ff; text-decoration-color: #00d7ff\">None</span>, <span style=\"color: #00af00; text-decoration-color: #00af00\">150</span>, <span style=\"color: #00af00; text-decoration-color: #00af00\">150</span>, <span style=\"color: #00af00; text-decoration-color: #00af00\">64</span>)        │          <span style=\"color: #00af00; text-decoration-color: #00af00\">36,928</span> │\n",
              "├──────────────────────────────────────┼─────────────────────────────┼─────────────────┤\n",
              "│ block1_pool (<span style=\"color: #0087ff; text-decoration-color: #0087ff\">MaxPooling2D</span>)           │ (<span style=\"color: #00d7ff; text-decoration-color: #00d7ff\">None</span>, <span style=\"color: #00af00; text-decoration-color: #00af00\">75</span>, <span style=\"color: #00af00; text-decoration-color: #00af00\">75</span>, <span style=\"color: #00af00; text-decoration-color: #00af00\">64</span>)          │               <span style=\"color: #00af00; text-decoration-color: #00af00\">0</span> │\n",
              "├──────────────────────────────────────┼─────────────────────────────┼─────────────────┤\n",
              "│ block2_conv1 (<span style=\"color: #0087ff; text-decoration-color: #0087ff\">Conv2D</span>)                │ (<span style=\"color: #00d7ff; text-decoration-color: #00d7ff\">None</span>, <span style=\"color: #00af00; text-decoration-color: #00af00\">75</span>, <span style=\"color: #00af00; text-decoration-color: #00af00\">75</span>, <span style=\"color: #00af00; text-decoration-color: #00af00\">128</span>)         │          <span style=\"color: #00af00; text-decoration-color: #00af00\">73,856</span> │\n",
              "├──────────────────────────────────────┼─────────────────────────────┼─────────────────┤\n",
              "│ block2_conv2 (<span style=\"color: #0087ff; text-decoration-color: #0087ff\">Conv2D</span>)                │ (<span style=\"color: #00d7ff; text-decoration-color: #00d7ff\">None</span>, <span style=\"color: #00af00; text-decoration-color: #00af00\">75</span>, <span style=\"color: #00af00; text-decoration-color: #00af00\">75</span>, <span style=\"color: #00af00; text-decoration-color: #00af00\">128</span>)         │         <span style=\"color: #00af00; text-decoration-color: #00af00\">147,584</span> │\n",
              "├──────────────────────────────────────┼─────────────────────────────┼─────────────────┤\n",
              "│ block2_pool (<span style=\"color: #0087ff; text-decoration-color: #0087ff\">MaxPooling2D</span>)           │ (<span style=\"color: #00d7ff; text-decoration-color: #00d7ff\">None</span>, <span style=\"color: #00af00; text-decoration-color: #00af00\">37</span>, <span style=\"color: #00af00; text-decoration-color: #00af00\">37</span>, <span style=\"color: #00af00; text-decoration-color: #00af00\">128</span>)         │               <span style=\"color: #00af00; text-decoration-color: #00af00\">0</span> │\n",
              "├──────────────────────────────────────┼─────────────────────────────┼─────────────────┤\n",
              "│ block3_conv1 (<span style=\"color: #0087ff; text-decoration-color: #0087ff\">Conv2D</span>)                │ (<span style=\"color: #00d7ff; text-decoration-color: #00d7ff\">None</span>, <span style=\"color: #00af00; text-decoration-color: #00af00\">37</span>, <span style=\"color: #00af00; text-decoration-color: #00af00\">37</span>, <span style=\"color: #00af00; text-decoration-color: #00af00\">256</span>)         │         <span style=\"color: #00af00; text-decoration-color: #00af00\">295,168</span> │\n",
              "├──────────────────────────────────────┼─────────────────────────────┼─────────────────┤\n",
              "│ block3_conv2 (<span style=\"color: #0087ff; text-decoration-color: #0087ff\">Conv2D</span>)                │ (<span style=\"color: #00d7ff; text-decoration-color: #00d7ff\">None</span>, <span style=\"color: #00af00; text-decoration-color: #00af00\">37</span>, <span style=\"color: #00af00; text-decoration-color: #00af00\">37</span>, <span style=\"color: #00af00; text-decoration-color: #00af00\">256</span>)         │         <span style=\"color: #00af00; text-decoration-color: #00af00\">590,080</span> │\n",
              "├──────────────────────────────────────┼─────────────────────────────┼─────────────────┤\n",
              "│ block3_conv3 (<span style=\"color: #0087ff; text-decoration-color: #0087ff\">Conv2D</span>)                │ (<span style=\"color: #00d7ff; text-decoration-color: #00d7ff\">None</span>, <span style=\"color: #00af00; text-decoration-color: #00af00\">37</span>, <span style=\"color: #00af00; text-decoration-color: #00af00\">37</span>, <span style=\"color: #00af00; text-decoration-color: #00af00\">256</span>)         │         <span style=\"color: #00af00; text-decoration-color: #00af00\">590,080</span> │\n",
              "├──────────────────────────────────────┼─────────────────────────────┼─────────────────┤\n",
              "│ block3_pool (<span style=\"color: #0087ff; text-decoration-color: #0087ff\">MaxPooling2D</span>)           │ (<span style=\"color: #00d7ff; text-decoration-color: #00d7ff\">None</span>, <span style=\"color: #00af00; text-decoration-color: #00af00\">18</span>, <span style=\"color: #00af00; text-decoration-color: #00af00\">18</span>, <span style=\"color: #00af00; text-decoration-color: #00af00\">256</span>)         │               <span style=\"color: #00af00; text-decoration-color: #00af00\">0</span> │\n",
              "├──────────────────────────────────────┼─────────────────────────────┼─────────────────┤\n",
              "│ block4_conv1 (<span style=\"color: #0087ff; text-decoration-color: #0087ff\">Conv2D</span>)                │ (<span style=\"color: #00d7ff; text-decoration-color: #00d7ff\">None</span>, <span style=\"color: #00af00; text-decoration-color: #00af00\">18</span>, <span style=\"color: #00af00; text-decoration-color: #00af00\">18</span>, <span style=\"color: #00af00; text-decoration-color: #00af00\">512</span>)         │       <span style=\"color: #00af00; text-decoration-color: #00af00\">1,180,160</span> │\n",
              "├──────────────────────────────────────┼─────────────────────────────┼─────────────────┤\n",
              "│ block4_conv2 (<span style=\"color: #0087ff; text-decoration-color: #0087ff\">Conv2D</span>)                │ (<span style=\"color: #00d7ff; text-decoration-color: #00d7ff\">None</span>, <span style=\"color: #00af00; text-decoration-color: #00af00\">18</span>, <span style=\"color: #00af00; text-decoration-color: #00af00\">18</span>, <span style=\"color: #00af00; text-decoration-color: #00af00\">512</span>)         │       <span style=\"color: #00af00; text-decoration-color: #00af00\">2,359,808</span> │\n",
              "├──────────────────────────────────────┼─────────────────────────────┼─────────────────┤\n",
              "│ block4_conv3 (<span style=\"color: #0087ff; text-decoration-color: #0087ff\">Conv2D</span>)                │ (<span style=\"color: #00d7ff; text-decoration-color: #00d7ff\">None</span>, <span style=\"color: #00af00; text-decoration-color: #00af00\">18</span>, <span style=\"color: #00af00; text-decoration-color: #00af00\">18</span>, <span style=\"color: #00af00; text-decoration-color: #00af00\">512</span>)         │       <span style=\"color: #00af00; text-decoration-color: #00af00\">2,359,808</span> │\n",
              "├──────────────────────────────────────┼─────────────────────────────┼─────────────────┤\n",
              "│ block4_pool (<span style=\"color: #0087ff; text-decoration-color: #0087ff\">MaxPooling2D</span>)           │ (<span style=\"color: #00d7ff; text-decoration-color: #00d7ff\">None</span>, <span style=\"color: #00af00; text-decoration-color: #00af00\">9</span>, <span style=\"color: #00af00; text-decoration-color: #00af00\">9</span>, <span style=\"color: #00af00; text-decoration-color: #00af00\">512</span>)           │               <span style=\"color: #00af00; text-decoration-color: #00af00\">0</span> │\n",
              "├──────────────────────────────────────┼─────────────────────────────┼─────────────────┤\n",
              "│ block5_conv1 (<span style=\"color: #0087ff; text-decoration-color: #0087ff\">Conv2D</span>)                │ (<span style=\"color: #00d7ff; text-decoration-color: #00d7ff\">None</span>, <span style=\"color: #00af00; text-decoration-color: #00af00\">9</span>, <span style=\"color: #00af00; text-decoration-color: #00af00\">9</span>, <span style=\"color: #00af00; text-decoration-color: #00af00\">512</span>)           │       <span style=\"color: #00af00; text-decoration-color: #00af00\">2,359,808</span> │\n",
              "├──────────────────────────────────────┼─────────────────────────────┼─────────────────┤\n",
              "│ block5_conv2 (<span style=\"color: #0087ff; text-decoration-color: #0087ff\">Conv2D</span>)                │ (<span style=\"color: #00d7ff; text-decoration-color: #00d7ff\">None</span>, <span style=\"color: #00af00; text-decoration-color: #00af00\">9</span>, <span style=\"color: #00af00; text-decoration-color: #00af00\">9</span>, <span style=\"color: #00af00; text-decoration-color: #00af00\">512</span>)           │       <span style=\"color: #00af00; text-decoration-color: #00af00\">2,359,808</span> │\n",
              "├──────────────────────────────────────┼─────────────────────────────┼─────────────────┤\n",
              "│ block5_conv3 (<span style=\"color: #0087ff; text-decoration-color: #0087ff\">Conv2D</span>)                │ (<span style=\"color: #00d7ff; text-decoration-color: #00d7ff\">None</span>, <span style=\"color: #00af00; text-decoration-color: #00af00\">9</span>, <span style=\"color: #00af00; text-decoration-color: #00af00\">9</span>, <span style=\"color: #00af00; text-decoration-color: #00af00\">512</span>)           │       <span style=\"color: #00af00; text-decoration-color: #00af00\">2,359,808</span> │\n",
              "├──────────────────────────────────────┼─────────────────────────────┼─────────────────┤\n",
              "│ block5_pool (<span style=\"color: #0087ff; text-decoration-color: #0087ff\">MaxPooling2D</span>)           │ (<span style=\"color: #00d7ff; text-decoration-color: #00d7ff\">None</span>, <span style=\"color: #00af00; text-decoration-color: #00af00\">4</span>, <span style=\"color: #00af00; text-decoration-color: #00af00\">4</span>, <span style=\"color: #00af00; text-decoration-color: #00af00\">512</span>)           │               <span style=\"color: #00af00; text-decoration-color: #00af00\">0</span> │\n",
              "└──────────────────────────────────────┴─────────────────────────────┴─────────────────┘\n",
              "</pre>\n"
            ]
          },
          "metadata": {}
        },
        {
          "output_type": "display_data",
          "data": {
            "text/plain": [
              "\u001b[1m Total params: \u001b[0m\u001b[38;5;34m14,714,688\u001b[0m (56.13 MB)\n"
            ],
            "text/html": [
              "<pre style=\"white-space:pre;overflow-x:auto;line-height:normal;font-family:Menlo,'DejaVu Sans Mono',consolas,'Courier New',monospace\"><span style=\"font-weight: bold\"> Total params: </span><span style=\"color: #00af00; text-decoration-color: #00af00\">14,714,688</span> (56.13 MB)\n",
              "</pre>\n"
            ]
          },
          "metadata": {}
        },
        {
          "output_type": "display_data",
          "data": {
            "text/plain": [
              "\u001b[1m Trainable params: \u001b[0m\u001b[38;5;34m14,714,688\u001b[0m (56.13 MB)\n"
            ],
            "text/html": [
              "<pre style=\"white-space:pre;overflow-x:auto;line-height:normal;font-family:Menlo,'DejaVu Sans Mono',consolas,'Courier New',monospace\"><span style=\"font-weight: bold\"> Trainable params: </span><span style=\"color: #00af00; text-decoration-color: #00af00\">14,714,688</span> (56.13 MB)\n",
              "</pre>\n"
            ]
          },
          "metadata": {}
        },
        {
          "output_type": "display_data",
          "data": {
            "text/plain": [
              "\u001b[1m Non-trainable params: \u001b[0m\u001b[38;5;34m0\u001b[0m (0.00 B)\n"
            ],
            "text/html": [
              "<pre style=\"white-space:pre;overflow-x:auto;line-height:normal;font-family:Menlo,'DejaVu Sans Mono',consolas,'Courier New',monospace\"><span style=\"font-weight: bold\"> Non-trainable params: </span><span style=\"color: #00af00; text-decoration-color: #00af00\">0</span> (0.00 B)\n",
              "</pre>\n"
            ]
          },
          "metadata": {}
        }
      ]
    },
    {
      "cell_type": "code",
      "source": [
        "model = Sequential()\n",
        "model.add(conv_base)\n",
        "model.add(Flatten())\n",
        "model.add(Dense(256,activation='relu'))\n",
        "model.add(Dense(5,activation='softmax'))"
      ],
      "metadata": {
        "id": "7IaQeg-0ZaVs"
      },
      "execution_count": null,
      "outputs": []
    },
    {
      "cell_type": "code",
      "source": [
        "conv_base.trainable = False"
      ],
      "metadata": {
        "id": "KbsEV-a8Zat6"
      },
      "execution_count": null,
      "outputs": []
    },
    {
      "cell_type": "code",
      "source": [
        "train_ds = keras.utils.image_dataset_from_directory(\n",
        "    directory = '/content/drive/MyDrive/family/family/3',\n",
        "    labels='inferred',\n",
        "    label_mode = 'int',\n",
        "    batch_size=32,\n",
        "    image_size=(150,150)\n",
        ")\n",
        "validation_ds = keras.utils.image_dataset_from_directory(\n",
        "    directory = '/content/drive/MyDrive/family/family/3',\n",
        "    labels='inferred',\n",
        "    label_mode = 'int',\n",
        "    batch_size=32,\n",
        "    image_size=(150,150)\n",
        ")"
      ],
      "metadata": {
        "id": "2GK65WAeZbB9",
        "outputId": "3656c51b-f7c7-4bf1-c8a8-d3dfabdbfecb",
        "colab": {
          "base_uri": "https://localhost:8080/",
          "height": 384
        }
      },
      "execution_count": null,
      "outputs": [
        {
          "output_type": "stream",
          "name": "stdout",
          "text": [
            "Found 0 files belonging to 0 classes.\n"
          ]
        },
        {
          "output_type": "error",
          "ename": "ValueError",
          "evalue": "No images found in directory /content/drive/MyDrive/family/family/3. Allowed formats: ('.bmp', '.gif', '.jpeg', '.jpg', '.png')",
          "traceback": [
            "\u001b[0;31m---------------------------------------------------------------------------\u001b[0m",
            "\u001b[0;31mValueError\u001b[0m                                Traceback (most recent call last)",
            "\u001b[0;32m<ipython-input-22-6e273d175c41>\u001b[0m in \u001b[0;36m<cell line: 1>\u001b[0;34m()\u001b[0m\n\u001b[0;32m----> 1\u001b[0;31m train_ds = keras.utils.image_dataset_from_directory(\n\u001b[0m\u001b[1;32m      2\u001b[0m     \u001b[0mdirectory\u001b[0m \u001b[0;34m=\u001b[0m \u001b[0;34m'/content/drive/MyDrive/family/family/3'\u001b[0m\u001b[0;34m,\u001b[0m\u001b[0;34m\u001b[0m\u001b[0;34m\u001b[0m\u001b[0m\n\u001b[1;32m      3\u001b[0m     \u001b[0mlabels\u001b[0m\u001b[0;34m=\u001b[0m\u001b[0;34m'inferred'\u001b[0m\u001b[0;34m,\u001b[0m\u001b[0;34m\u001b[0m\u001b[0;34m\u001b[0m\u001b[0m\n\u001b[1;32m      4\u001b[0m     \u001b[0mlabel_mode\u001b[0m \u001b[0;34m=\u001b[0m \u001b[0;34m'int'\u001b[0m\u001b[0;34m,\u001b[0m\u001b[0;34m\u001b[0m\u001b[0;34m\u001b[0m\u001b[0m\n\u001b[1;32m      5\u001b[0m     \u001b[0mbatch_size\u001b[0m\u001b[0;34m=\u001b[0m\u001b[0;36m32\u001b[0m\u001b[0;34m,\u001b[0m\u001b[0;34m\u001b[0m\u001b[0;34m\u001b[0m\u001b[0m\n",
            "\u001b[0;32m/usr/local/lib/python3.10/dist-packages/keras/src/utils/image_dataset_utils.py\u001b[0m in \u001b[0;36mimage_dataset_from_directory\u001b[0;34m(directory, labels, label_mode, class_names, color_mode, batch_size, image_size, shuffle, seed, validation_split, subset, interpolation, follow_links, crop_to_aspect_ratio, pad_to_aspect_ratio, data_format, verbose)\u001b[0m\n\u001b[1;32m    318\u001b[0m         )\n\u001b[1;32m    319\u001b[0m         \u001b[0;32mif\u001b[0m \u001b[0;32mnot\u001b[0m \u001b[0mimage_paths\u001b[0m\u001b[0;34m:\u001b[0m\u001b[0;34m\u001b[0m\u001b[0;34m\u001b[0m\u001b[0m\n\u001b[0;32m--> 320\u001b[0;31m             raise ValueError(\n\u001b[0m\u001b[1;32m    321\u001b[0m                 \u001b[0;34mf\"No images found in directory {directory}. \"\u001b[0m\u001b[0;34m\u001b[0m\u001b[0;34m\u001b[0m\u001b[0m\n\u001b[1;32m    322\u001b[0m                 \u001b[0;34mf\"Allowed formats: {ALLOWLIST_FORMATS}\"\u001b[0m\u001b[0;34m\u001b[0m\u001b[0;34m\u001b[0m\u001b[0m\n",
            "\u001b[0;31mValueError\u001b[0m: No images found in directory /content/drive/MyDrive/family/family/3. Allowed formats: ('.bmp', '.gif', '.jpeg', '.jpg', '.png')"
          ]
        }
      ]
    },
    {
      "cell_type": "code",
      "source": [
        "data_augmentation = ImageDataGenerator(\n",
        "    rescale=1./255,\n",
        "    rotation_range=40,\n",
        "    width_shift_range=0.2,\n",
        "    height_shift_range=0.2,\n",
        "    shear_range=0.2,\n",
        "    zoom_range=0.2,\n",
        "    horizontal_flip=True,\n",
        "    fill_mode='nearest'\n",
        ")\n"
      ],
      "metadata": {
        "id": "JR_bDTtHdZEj"
      },
      "execution_count": null,
      "outputs": []
    },
    {
      "cell_type": "code",
      "source": [
        "train_dataset = data_augmentation.flow_from_directory(\n",
        "    dataset_path,\n",
        "    target_size=(256, 256),\n",
        "    batch_size=32,\n",
        "    class_mode='categorical'\n",
        ")\n",
        "\n"
      ],
      "metadata": {
        "id": "El04i0uHak5e",
        "outputId": "855b953f-70ac-47fe-db62-9fc6a575c383",
        "colab": {
          "base_uri": "https://localhost:8080/"
        }
      },
      "execution_count": null,
      "outputs": [
        {
          "output_type": "stream",
          "name": "stdout",
          "text": [
            "Found 142 images belonging to 5 classes.\n"
          ]
        }
      ]
    },
    {
      "cell_type": "code",
      "source": [
        "normalization_layer = tf.keras.layers.Rescaling(1./255)\n",
        "\n"
      ],
      "metadata": {
        "id": "yomS1O1krx5R"
      },
      "execution_count": null,
      "outputs": []
    },
    {
      "cell_type": "code",
      "source": [
        "print(tf.__version__)"
      ],
      "metadata": {
        "id": "rQE5ZuGMgGbE",
        "outputId": "c3b3809e-fa0f-4069-ebce-5e8842f4109e",
        "colab": {
          "base_uri": "https://localhost:8080/"
        }
      },
      "execution_count": null,
      "outputs": [
        {
          "output_type": "stream",
          "name": "stdout",
          "text": [
            "2.17.0\n"
          ]
        }
      ]
    },
    {
      "cell_type": "code",
      "source": [
        "from tensorflow.keras.applications import ConvNext\n",
        "from tensorflow.keras.layers import Layer, MultiHeadAttention, GlobalAveragePooling2D, Dense\n"
      ],
      "metadata": {
        "id": "jduYrRZ-f3yt",
        "outputId": "275a404e-bf59-4841-f007-ed9a8780d68f",
        "colab": {
          "base_uri": "https://localhost:8080/",
          "height": 349
        }
      },
      "execution_count": null,
      "outputs": [
        {
          "output_type": "error",
          "ename": "ImportError",
          "evalue": "cannot import name 'ConvNext' from 'tensorflow.keras.applications' (/usr/local/lib/python3.10/dist-packages/keras/_tf_keras/keras/applications/__init__.py)",
          "traceback": [
            "\u001b[0;31m---------------------------------------------------------------------------\u001b[0m",
            "\u001b[0;31mImportError\u001b[0m                               Traceback (most recent call last)",
            "\u001b[0;32m<ipython-input-6-64fbca816bce>\u001b[0m in \u001b[0;36m<cell line: 1>\u001b[0;34m()\u001b[0m\n\u001b[0;32m----> 1\u001b[0;31m \u001b[0;32mfrom\u001b[0m \u001b[0mtensorflow\u001b[0m\u001b[0;34m.\u001b[0m\u001b[0mkeras\u001b[0m\u001b[0;34m.\u001b[0m\u001b[0mapplications\u001b[0m \u001b[0;32mimport\u001b[0m \u001b[0mConvNext\u001b[0m\u001b[0;34m\u001b[0m\u001b[0;34m\u001b[0m\u001b[0m\n\u001b[0m\u001b[1;32m      2\u001b[0m \u001b[0;32mfrom\u001b[0m \u001b[0mtensorflow\u001b[0m\u001b[0;34m.\u001b[0m\u001b[0mkeras\u001b[0m\u001b[0;34m.\u001b[0m\u001b[0mlayers\u001b[0m \u001b[0;32mimport\u001b[0m \u001b[0mLayer\u001b[0m\u001b[0;34m,\u001b[0m \u001b[0mMultiHeadAttention\u001b[0m\u001b[0;34m,\u001b[0m \u001b[0mGlobalAveragePooling2D\u001b[0m\u001b[0;34m,\u001b[0m \u001b[0mDense\u001b[0m\u001b[0;34m\u001b[0m\u001b[0;34m\u001b[0m\u001b[0m\n",
            "\u001b[0;31mImportError\u001b[0m: cannot import name 'ConvNext' from 'tensorflow.keras.applications' (/usr/local/lib/python3.10/dist-packages/keras/_tf_keras/keras/applications/__init__.py)",
            "",
            "\u001b[0;31m---------------------------------------------------------------------------\u001b[0;32m\nNOTE: If your import is failing due to a missing package, you can\nmanually install dependencies using either !pip or !apt.\n\nTo view examples of installing some common dependencies, click the\n\"Open Examples\" button below.\n\u001b[0;31m---------------------------------------------------------------------------\u001b[0m\n"
          ],
          "errorDetails": {
            "actions": [
              {
                "action": "open_url",
                "actionText": "Open Examples",
                "url": "/notebooks/snippets/importing_libraries.ipynb"
              }
            ]
          }
        }
      ]
    },
    {
      "cell_type": "code",
      "source": [
        "from tensorflow.keras.applications import ConvNeXtLarge\n",
        "from tensorflow.keras.applications import ConvNext\n",
        "base_model = ConvNext.ConvNextLarge(weights='imagenet', include_top=False)\n",
        "x = base_model.output\n",
        "x = GlobalAveragePooling2D()(x)\n",
        "x = TransformerEncoder(num_heads=8, ff_dim=128, dropout_rate=0.1)(x)\n",
        "x = Dense(10, activation='softmax')(x)\n",
        "model = tf.keras.Model(inputs=base_model.input, outputs=x)\n",
        "\n",
        "\n"
      ],
      "metadata": {
        "id": "QefG9ND7ryB0",
        "outputId": "ce524ad6-8f74-45db-89a8-124a7a9cb02d",
        "colab": {
          "base_uri": "https://localhost:8080/",
          "height": 401
        }
      },
      "execution_count": null,
      "outputs": [
        {
          "output_type": "error",
          "ename": "ImportError",
          "evalue": "cannot import name 'ConvNext' from 'tensorflow.keras.applications' (/usr/local/lib/python3.10/dist-packages/keras/_tf_keras/keras/applications/__init__.py)",
          "traceback": [
            "\u001b[0;31m---------------------------------------------------------------------------\u001b[0m",
            "\u001b[0;31mImportError\u001b[0m                               Traceback (most recent call last)",
            "\u001b[0;32m<ipython-input-20-1f0c8a8433f1>\u001b[0m in \u001b[0;36m<cell line: 2>\u001b[0;34m()\u001b[0m\n\u001b[1;32m      1\u001b[0m \u001b[0;32mfrom\u001b[0m \u001b[0mtensorflow\u001b[0m\u001b[0;34m.\u001b[0m\u001b[0mkeras\u001b[0m\u001b[0;34m.\u001b[0m\u001b[0mapplications\u001b[0m \u001b[0;32mimport\u001b[0m \u001b[0mConvNeXtLarge\u001b[0m\u001b[0;34m\u001b[0m\u001b[0;34m\u001b[0m\u001b[0m\n\u001b[0;32m----> 2\u001b[0;31m \u001b[0;32mfrom\u001b[0m \u001b[0mtensorflow\u001b[0m\u001b[0;34m.\u001b[0m\u001b[0mkeras\u001b[0m\u001b[0;34m.\u001b[0m\u001b[0mapplications\u001b[0m \u001b[0;32mimport\u001b[0m \u001b[0mConvNext\u001b[0m\u001b[0;34m\u001b[0m\u001b[0;34m\u001b[0m\u001b[0m\n\u001b[0m\u001b[1;32m      3\u001b[0m \u001b[0mbase_model\u001b[0m \u001b[0;34m=\u001b[0m \u001b[0mConvNext\u001b[0m\u001b[0;34m.\u001b[0m\u001b[0mConvNextLarge\u001b[0m\u001b[0;34m(\u001b[0m\u001b[0mweights\u001b[0m\u001b[0;34m=\u001b[0m\u001b[0;34m'imagenet'\u001b[0m\u001b[0;34m,\u001b[0m \u001b[0minclude_top\u001b[0m\u001b[0;34m=\u001b[0m\u001b[0;32mFalse\u001b[0m\u001b[0;34m)\u001b[0m\u001b[0;34m\u001b[0m\u001b[0;34m\u001b[0m\u001b[0m\n\u001b[1;32m      4\u001b[0m \u001b[0mx\u001b[0m \u001b[0;34m=\u001b[0m \u001b[0mbase_model\u001b[0m\u001b[0;34m.\u001b[0m\u001b[0moutput\u001b[0m\u001b[0;34m\u001b[0m\u001b[0;34m\u001b[0m\u001b[0m\n\u001b[1;32m      5\u001b[0m \u001b[0mx\u001b[0m \u001b[0;34m=\u001b[0m \u001b[0mGlobalAveragePooling2D\u001b[0m\u001b[0;34m(\u001b[0m\u001b[0;34m)\u001b[0m\u001b[0;34m(\u001b[0m\u001b[0mx\u001b[0m\u001b[0;34m)\u001b[0m\u001b[0;34m\u001b[0m\u001b[0;34m\u001b[0m\u001b[0m\n",
            "\u001b[0;31mImportError\u001b[0m: cannot import name 'ConvNext' from 'tensorflow.keras.applications' (/usr/local/lib/python3.10/dist-packages/keras/_tf_keras/keras/applications/__init__.py)",
            "",
            "\u001b[0;31m---------------------------------------------------------------------------\u001b[0;32m\nNOTE: If your import is failing due to a missing package, you can\nmanually install dependencies using either !pip or !apt.\n\nTo view examples of installing some common dependencies, click the\n\"Open Examples\" button below.\n\u001b[0;31m---------------------------------------------------------------------------\u001b[0m\n"
          ],
          "errorDetails": {
            "actions": [
              {
                "action": "open_url",
                "actionText": "Open Examples",
                "url": "/notebooks/snippets/importing_libraries.ipynb"
              }
            ]
          }
        }
      ]
    },
    {
      "cell_type": "code",
      "source": [
        "from tensorflow.keras.applications import ResNet50\n",
        "from tensorflow.keras.applications import ConvNeXtLarge\n",
        "\n"
      ],
      "metadata": {
        "id": "iFNGn9y8ryKG"
      },
      "execution_count": null,
      "outputs": []
    },
    {
      "cell_type": "code",
      "source": [
        "keras.applications.ConvNeXtXLarge(\n",
        "    include_top=True,\n",
        "    include_preprocessing=True,\n",
        "    weights=\"imagenet\",\n",
        "    input_tensor=None,\n",
        "    input_shape=None,\n",
        "    pooling=None,\n",
        "    classes=1000,\n",
        "    classifier_activation=\"softmax\",\n",
        "    name=\"convnext_xlarge\",\n",
        ")\n"
      ],
      "metadata": {
        "id": "MGE3j4cDsgpU",
        "outputId": "24a187ee-4c12-4592-8624-0d85a35901a0",
        "colab": {
          "base_uri": "https://localhost:8080/"
        }
      },
      "execution_count": null,
      "outputs": [
        {
          "output_type": "stream",
          "name": "stdout",
          "text": [
            "Downloading data from https://storage.googleapis.com/tensorflow/keras-applications/convnext/convnext_xlarge.h5\n",
            "\u001b[1m1401457568/1401457568\u001b[0m \u001b[32m━━━━━━━━━━━━━━━━━━━━\u001b[0m\u001b[37m\u001b[0m \u001b[1m71s\u001b[0m 0us/step\n"
          ]
        },
        {
          "output_type": "execute_result",
          "data": {
            "text/plain": [
              "<Functional name=convnext_xlarge, built=True>"
            ]
          },
          "metadata": {},
          "execution_count": 13
        }
      ]
    },
    {
      "cell_type": "code",
      "source": [
        "base_model = ConvNeXtLarge(\n",
        "    include_top=True,\n",
        "    weights=\"imagenet\",\n",
        "    input_tensor=None,\n",
        "    input_shape=None,\n",
        "    pooling=None,\n",
        "    classes=1000,\n",
        "    classifie r_activation=\"softmax\","
      ],
      "metadata": {
        "id": "4mKzqn7vmM2A"
      },
      "execution_count": null,
      "outputs": []
    },
    {
      "cell_type": "code",
      "source": [
        "base_model = ResNet50(weights='imagenet', include_top=False)\n",
        "x = base_model.output\n",
        "x = tf.keras.layers.GlobalAveragePooling2D()(x)\n",
        "x = TransformerEncoder(num_heads=8, ff_dim=128, dropout_rate=0.1)(x)\n",
        "x = tf.keras.layers.Dense(10, activation='softmax')(x)\n",
        "\n",
        "model = tf.keras.Model(inputs=base_model.input, outputs=x)\n"
      ],
      "metadata": {
        "id": "vT95izVcak9X",
        "outputId": "8110a90c-86cc-492b-a307-70f0a698420e",
        "colab": {
          "base_uri": "https://localhost:8080/",
          "height": 245
        }
      },
      "execution_count": null,
      "outputs": [
        {
          "output_type": "stream",
          "name": "stdout",
          "text": [
            "Downloading data from https://storage.googleapis.com/tensorflow/keras-applications/resnet/resnet50_weights_tf_dim_ordering_tf_kernels_notop.h5\n",
            "\u001b[1m94765736/94765736\u001b[0m \u001b[32m━━━━━━━━━━━━━━━━━━━━\u001b[0m\u001b[37m\u001b[0m \u001b[1m5s\u001b[0m 0us/step\n"
          ]
        },
        {
          "output_type": "error",
          "ename": "NameError",
          "evalue": "name 'TransformerEncoder' is not defined",
          "traceback": [
            "\u001b[0;31m---------------------------------------------------------------------------\u001b[0m",
            "\u001b[0;31mNameError\u001b[0m                                 Traceback (most recent call last)",
            "\u001b[0;32m<ipython-input-98-b71d57ad49bd>\u001b[0m in \u001b[0;36m<cell line: 4>\u001b[0;34m()\u001b[0m\n\u001b[1;32m      2\u001b[0m \u001b[0mx\u001b[0m \u001b[0;34m=\u001b[0m \u001b[0mbase_model\u001b[0m\u001b[0;34m.\u001b[0m\u001b[0moutput\u001b[0m\u001b[0;34m\u001b[0m\u001b[0;34m\u001b[0m\u001b[0m\n\u001b[1;32m      3\u001b[0m \u001b[0mx\u001b[0m \u001b[0;34m=\u001b[0m \u001b[0mtf\u001b[0m\u001b[0;34m.\u001b[0m\u001b[0mkeras\u001b[0m\u001b[0;34m.\u001b[0m\u001b[0mlayers\u001b[0m\u001b[0;34m.\u001b[0m\u001b[0mGlobalAveragePooling2D\u001b[0m\u001b[0;34m(\u001b[0m\u001b[0;34m)\u001b[0m\u001b[0;34m(\u001b[0m\u001b[0mx\u001b[0m\u001b[0;34m)\u001b[0m\u001b[0;34m\u001b[0m\u001b[0;34m\u001b[0m\u001b[0m\n\u001b[0;32m----> 4\u001b[0;31m \u001b[0mx\u001b[0m \u001b[0;34m=\u001b[0m \u001b[0mTransformerEncoder\u001b[0m\u001b[0;34m(\u001b[0m\u001b[0mnum_heads\u001b[0m\u001b[0;34m=\u001b[0m\u001b[0;36m8\u001b[0m\u001b[0;34m,\u001b[0m \u001b[0mff_dim\u001b[0m\u001b[0;34m=\u001b[0m\u001b[0;36m128\u001b[0m\u001b[0;34m,\u001b[0m \u001b[0mdropout_rate\u001b[0m\u001b[0;34m=\u001b[0m\u001b[0;36m0.1\u001b[0m\u001b[0;34m)\u001b[0m\u001b[0;34m(\u001b[0m\u001b[0mx\u001b[0m\u001b[0;34m)\u001b[0m\u001b[0;34m\u001b[0m\u001b[0;34m\u001b[0m\u001b[0m\n\u001b[0m\u001b[1;32m      5\u001b[0m \u001b[0mx\u001b[0m \u001b[0;34m=\u001b[0m \u001b[0mtf\u001b[0m\u001b[0;34m.\u001b[0m\u001b[0mkeras\u001b[0m\u001b[0;34m.\u001b[0m\u001b[0mlayers\u001b[0m\u001b[0;34m.\u001b[0m\u001b[0mDense\u001b[0m\u001b[0;34m(\u001b[0m\u001b[0;36m10\u001b[0m\u001b[0;34m,\u001b[0m \u001b[0mactivation\u001b[0m\u001b[0;34m=\u001b[0m\u001b[0;34m'softmax'\u001b[0m\u001b[0;34m)\u001b[0m\u001b[0;34m(\u001b[0m\u001b[0mx\u001b[0m\u001b[0;34m)\u001b[0m\u001b[0;34m\u001b[0m\u001b[0;34m\u001b[0m\u001b[0m\n\u001b[1;32m      6\u001b[0m \u001b[0;34m\u001b[0m\u001b[0m\n",
            "\u001b[0;31mNameError\u001b[0m: name 'TransformerEncoder' is not defined"
          ]
        }
      ]
    },
    {
      "cell_type": "code",
      "source": [
        "print(train_data)"
      ],
      "metadata": {
        "id": "BS2UcO8upzBq",
        "outputId": "740d04fe-93c7-411e-a67d-69cd3fa9c5e5",
        "colab": {
          "base_uri": "https://localhost:8080/"
        }
      },
      "execution_count": null,
      "outputs": [
        {
          "output_type": "stream",
          "name": "stdout",
          "text": [
            "<keras.src.legacy.preprocessing.image.DirectoryIterator object at 0x7fa0d216c7c0>\n"
          ]
        }
      ]
    },
    {
      "cell_type": "code",
      "source": [],
      "metadata": {
        "id": "yY-9iw9tpzNp"
      },
      "execution_count": null,
      "outputs": []
    },
    {
      "cell_type": "code",
      "source": [],
      "metadata": {
        "id": "Vh9-MFZcpzTf"
      },
      "execution_count": null,
      "outputs": []
    },
    {
      "cell_type": "code",
      "source": [
        "model = Sequential()\n",
        "model.add(Conv2D(32,kernel_size=(3,3),padding='valid',activation='relu',input_shape=(256,256,3)))\n",
        "model.add(BatchNormalization())\n",
        "model.add(MaxPooling2D(pool_size=(2,2),strides=2,padding='valid'))\n",
        "model.add(Conv2D(64,(3,3),padding='valid',activation='relu'))\n",
        "model.add(BatchNormalization())\n",
        "model.add(MaxPooling2D(pool_size=(2,2),strides=2,padding='valid'))\n",
        "model.add(Conv2D(128,(3,3),padding='valid',activation='relu'))\n",
        "model.add(BatchNormalization())\n",
        "model.add(MaxPooling2D(pool_size=(2,2),strides=2,padding='valid'))\n",
        "model.add(Flatten())\n",
        "model.add(Dense(128,activation='relu'))\n",
        "model.add(Dropout(0.2))\n",
        "model.add(Dense(64,activation='relu'))\n",
        "model.add(Dropout(0.1))\n",
        "model.add(Dense(5,activation='softmax'))"
      ],
      "metadata": {
        "id": "np7b3xpdalA-"
      },
      "execution_count": null,
      "outputs": []
    },
    {
      "cell_type": "code",
      "source": [
        "model.compile(optimizer='adam',loss='categorical_crossentropy',metrics=['accuracy'])"
      ],
      "metadata": {
        "id": "y6mD3UxhalEe"
      },
      "execution_count": null,
      "outputs": []
    },
    {
      "cell_type": "code",
      "source": [
        "batch_size = 16\n",
        "train_steps = train_data.samples // batch_size\n",
        "valid_steps = valid_data.samples // batch_size"
      ],
      "metadata": {
        "id": "hYyQkvpMe0Sx"
      },
      "execution_count": null,
      "outputs": []
    },
    {
      "cell_type": "code",
      "source": [
        "#batch_size = 32\n",
        "history = model.fit(train_data,steps_per_epoch= train_steps, epochs=20,validation_data=valid_data, validation_steps=valid_steps)\n",
        "#history = model.fit(train_generator,steps_per_epoch=train_steps,epochs=5,validation_data = valid_generator,\n"
      ],
      "metadata": {
        "id": "6inCJ39qalIX",
        "outputId": "ee08f6ed-3988-487a-8c6b-ae09e4206258",
        "colab": {
          "base_uri": "https://localhost:8080/"
        }
      },
      "execution_count": null,
      "outputs": [
        {
          "output_type": "stream",
          "name": "stdout",
          "text": [
            "Epoch 1/20\n"
          ]
        },
        {
          "output_type": "stream",
          "name": "stderr",
          "text": [
            "/usr/local/lib/python3.10/dist-packages/keras/src/trainers/data_adapters/py_dataset_adapter.py:121: UserWarning: Your `PyDataset` class should call `super().__init__(**kwargs)` in its constructor. `**kwargs` can include `workers`, `use_multiprocessing`, `max_queue_size`. Do not pass these arguments to `fit()`, as they will be ignored.\n",
            "  self._warn_if_super_not_called()\n"
          ]
        },
        {
          "output_type": "stream",
          "name": "stdout",
          "text": [
            "\u001b[1m8/8\u001b[0m \u001b[32m━━━━━━━━━━━━━━━━━━━━\u001b[0m\u001b[37m\u001b[0m \u001b[1m25s\u001b[0m 2s/step - accuracy: 0.3550 - loss: 13.4882 - val_accuracy: 0.2606 - val_loss: 2.1573\n",
            "Epoch 2/20\n",
            "\u001b[1m8/8\u001b[0m \u001b[32m━━━━━━━━━━━━━━━━━━━━\u001b[0m\u001b[37m\u001b[0m \u001b[1m29s\u001b[0m 772ms/step - accuracy: 0.5833 - loss: 4.9238 - val_accuracy: 0.1197 - val_loss: 2.9260\n",
            "Epoch 3/20\n",
            "\u001b[1m8/8\u001b[0m \u001b[32m━━━━━━━━━━━━━━━━━━━━\u001b[0m\u001b[37m\u001b[0m \u001b[1m10s\u001b[0m 770ms/step - accuracy: 0.6880 - loss: 4.2472 - val_accuracy: 0.3310 - val_loss: 2.7056\n",
            "Epoch 4/20\n",
            "\u001b[1m8/8\u001b[0m \u001b[32m━━━━━━━━━━━━━━━━━━━━\u001b[0m\u001b[37m\u001b[0m \u001b[1m9s\u001b[0m 453ms/step - accuracy: 0.7466 - loss: 3.4168 - val_accuracy: 0.2535 - val_loss: 3.9125\n",
            "Epoch 5/20\n",
            "\u001b[1m8/8\u001b[0m \u001b[32m━━━━━━━━━━━━━━━━━━━━\u001b[0m\u001b[37m\u001b[0m \u001b[1m9s\u001b[0m 614ms/step - accuracy: 0.7956 - loss: 2.5815 - val_accuracy: 0.1831 - val_loss: 7.1222\n",
            "Epoch 6/20\n",
            "\u001b[1m8/8\u001b[0m \u001b[32m━━━━━━━━━━━━━━━━━━━━\u001b[0m\u001b[37m\u001b[0m \u001b[1m9s\u001b[0m 451ms/step - accuracy: 0.7901 - loss: 3.8836 - val_accuracy: 0.1549 - val_loss: 13.1428\n",
            "Epoch 7/20\n",
            "\u001b[1m8/8\u001b[0m \u001b[32m━━━━━━━━━━━━━━━━━━━━\u001b[0m\u001b[37m\u001b[0m \u001b[1m9s\u001b[0m 423ms/step - accuracy: 0.8188 - loss: 2.8758 - val_accuracy: 0.1197 - val_loss: 16.3298\n",
            "Epoch 8/20\n",
            "\u001b[1m8/8\u001b[0m \u001b[32m━━━━━━━━━━━━━━━━━━━━\u001b[0m\u001b[37m\u001b[0m \u001b[1m8s\u001b[0m 520ms/step - accuracy: 0.8504 - loss: 2.2184 - val_accuracy: 0.1056 - val_loss: 19.9712\n",
            "Epoch 9/20\n",
            "\u001b[1m8/8\u001b[0m \u001b[32m━━━━━━━━━━━━━━━━━━━━\u001b[0m\u001b[37m\u001b[0m \u001b[1m10s\u001b[0m 441ms/step - accuracy: 0.7796 - loss: 3.3217 - val_accuracy: 0.1127 - val_loss: 19.0242\n",
            "Epoch 10/20\n",
            "\u001b[1m8/8\u001b[0m \u001b[32m━━━━━━━━━━━━━━━━━━━━\u001b[0m\u001b[37m\u001b[0m \u001b[1m11s\u001b[0m 436ms/step - accuracy: 0.8892 - loss: 1.5988 - val_accuracy: 0.2113 - val_loss: 13.3173\n",
            "Epoch 11/20\n",
            "\u001b[1m8/8\u001b[0m \u001b[32m━━━━━━━━━━━━━━━━━━━━\u001b[0m\u001b[37m\u001b[0m \u001b[1m11s\u001b[0m 425ms/step - accuracy: 0.8615 - loss: 2.3686 - val_accuracy: 0.4859 - val_loss: 13.3397\n",
            "Epoch 12/20\n",
            "\u001b[1m8/8\u001b[0m \u001b[32m━━━━━━━━━━━━━━━━━━━━\u001b[0m\u001b[37m\u001b[0m \u001b[1m8s\u001b[0m 493ms/step - accuracy: 0.9039 - loss: 1.4018 - val_accuracy: 0.4085 - val_loss: 17.0310\n",
            "Epoch 13/20\n",
            "\u001b[1m8/8\u001b[0m \u001b[32m━━━━━━━━━━━━━━━━━━━━\u001b[0m\u001b[37m\u001b[0m \u001b[1m10s\u001b[0m 430ms/step - accuracy: 0.9288 - loss: 1.1232 - val_accuracy: 0.4225 - val_loss: 21.6641\n",
            "Epoch 14/20\n",
            "\u001b[1m8/8\u001b[0m \u001b[32m━━━━━━━━━━━━━━━━━━━━\u001b[0m\u001b[37m\u001b[0m \u001b[1m11s\u001b[0m 777ms/step - accuracy: 0.9357 - loss: 1.2281 - val_accuracy: 0.4718 - val_loss: 25.5102\n",
            "Epoch 15/20\n",
            "\u001b[1m8/8\u001b[0m \u001b[32m━━━━━━━━━━━━━━━━━━━━\u001b[0m\u001b[37m\u001b[0m \u001b[1m19s\u001b[0m 770ms/step - accuracy: 0.8968 - loss: 1.7297 - val_accuracy: 0.2676 - val_loss: 24.7158\n",
            "Epoch 16/20\n",
            "\u001b[1m8/8\u001b[0m \u001b[32m━━━━━━━━━━━━━━━━━━━━\u001b[0m\u001b[37m\u001b[0m \u001b[1m7s\u001b[0m 425ms/step - accuracy: 0.9060 - loss: 1.6241 - val_accuracy: 0.4296 - val_loss: 23.5670\n",
            "Epoch 17/20\n",
            "\u001b[1m8/8\u001b[0m \u001b[32m━━━━━━━━━━━━━━━━━━━━\u001b[0m\u001b[37m\u001b[0m \u001b[1m8s\u001b[0m 471ms/step - accuracy: 0.9411 - loss: 0.8478 - val_accuracy: 0.4789 - val_loss: 28.0102\n",
            "Epoch 18/20\n",
            "\u001b[1m8/8\u001b[0m \u001b[32m━━━━━━━━━━━━━━━━━━━━\u001b[0m\u001b[37m\u001b[0m \u001b[1m10s\u001b[0m 511ms/step - accuracy: 0.9105 - loss: 1.0385 - val_accuracy: 0.2746 - val_loss: 33.8740\n",
            "Epoch 19/20\n",
            "\u001b[1m8/8\u001b[0m \u001b[32m━━━━━━━━━━━━━━━━━━━━\u001b[0m\u001b[37m\u001b[0m \u001b[1m10s\u001b[0m 427ms/step - accuracy: 0.9307 - loss: 0.8416 - val_accuracy: 0.4437 - val_loss: 32.6717\n",
            "Epoch 20/20\n",
            "\u001b[1m8/8\u001b[0m \u001b[32m━━━━━━━━━━━━━━━━━━━━\u001b[0m\u001b[37m\u001b[0m \u001b[1m11s\u001b[0m 419ms/step - accuracy: 0.9558 - loss: 0.8919 - val_accuracy: 0.4507 - val_loss: 28.5653\n"
          ]
        }
      ]
    },
    {
      "cell_type": "code",
      "source": [
        "from PIL import Image\n"
      ],
      "metadata": {
        "id": "RdI2HS3_alMc"
      },
      "execution_count": null,
      "outputs": []
    },
    {
      "cell_type": "code",
      "source": [
        "data = Image.open(\"/content/amal.jpg\")"
      ],
      "metadata": {
        "id": "wYysi7DQj0qv"
      },
      "execution_count": null,
      "outputs": []
    },
    {
      "cell_type": "code",
      "source": [
        "new_image = data.resize((256,256))"
      ],
      "metadata": {
        "id": "Y-jORBW-j_Lp"
      },
      "execution_count": null,
      "outputs": []
    },
    {
      "cell_type": "code",
      "source": [
        "import numpy as np"
      ],
      "metadata": {
        "id": "Mj66ExqekKPY"
      },
      "execution_count": null,
      "outputs": []
    },
    {
      "cell_type": "code",
      "source": [
        "new_image_array = np.array(new_image)"
      ],
      "metadata": {
        "id": "mwRCPdLglBLD"
      },
      "execution_count": null,
      "outputs": []
    },
    {
      "cell_type": "code",
      "source": [
        "new_image_array = new_image_array/255.0"
      ],
      "metadata": {
        "id": "pw5ouu_SlBQ2"
      },
      "execution_count": null,
      "outputs": []
    },
    {
      "cell_type": "code",
      "source": [
        "new_image_array = np.expand_dims(new_image_array, axis=0)\n",
        "\n",
        "# Transpose the array to match the expected input shape (None, 256, 256, 3)\n",
        "new_image_array = np.transpose(new_image_array, (0, 2, 1, 3))\n",
        "\n",
        "# Now you can feed the image into the model\n",
        "\n"
      ],
      "metadata": {
        "id": "R3rqfFvOlBVK"
      },
      "execution_count": null,
      "outputs": []
    },
    {
      "cell_type": "code",
      "source": [
        "\n",
        "prediction = model.predict(new_image_array)"
      ],
      "metadata": {
        "id": "6uT5ewkgmD9N",
        "outputId": "d7bb7b9e-443b-4485-b6a2-5d9faf980cec",
        "colab": {
          "base_uri": "https://localhost:8080/"
        }
      },
      "execution_count": null,
      "outputs": [
        {
          "output_type": "stream",
          "name": "stdout",
          "text": [
            "\u001b[1m1/1\u001b[0m \u001b[32m━━━━━━━━━━━━━━━━━━━━\u001b[0m\u001b[37m\u001b[0m \u001b[1m27s\u001b[0m 27s/step\n"
          ]
        }
      ]
    },
    {
      "cell_type": "code",
      "source": [
        "print(prediction)"
      ],
      "metadata": {
        "id": "oQkNspe1mEDS",
        "outputId": "aba6798f-45b3-4961-faa4-5a2b7a6ad39c",
        "colab": {
          "base_uri": "https://localhost:8080/"
        }
      },
      "execution_count": null,
      "outputs": [
        {
          "output_type": "stream",
          "name": "stdout",
          "text": [
            "[[6.8271656e-20 7.0605186e-25 1.3111503e-04 0.0000000e+00 9.9986887e-01]]\n"
          ]
        }
      ]
    },
    {
      "cell_type": "code",
      "source": [],
      "metadata": {
        "id": "4Oyzxub_mEJw"
      },
      "execution_count": null,
      "outputs": []
    },
    {
      "cell_type": "code",
      "source": [],
      "metadata": {
        "id": "UNMTrv_7mESG"
      },
      "execution_count": null,
      "outputs": []
    },
    {
      "cell_type": "code",
      "source": [],
      "metadata": {
        "id": "BS0YwYOilBZP"
      },
      "execution_count": null,
      "outputs": []
    }
  ],
  "metadata": {
    "colab": {
      "provenance": [],
      "gpuType": "T4",
      "include_colab_link": true
    },
    "kernelspec": {
      "display_name": "Python 3",
      "name": "python3"
    },
    "accelerator": "GPU"
  },
  "nbformat": 4,
  "nbformat_minor": 0
}