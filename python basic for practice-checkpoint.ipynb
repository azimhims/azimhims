{
 "cells": [
  {
   "cell_type": "code",
   "execution_count": 11,
   "id": "fd8e4752",
   "metadata": {},
   "outputs": [
    {
     "data": {
      "text/plain": [
       "5.0"
      ]
     },
     "execution_count": 11,
     "metadata": {},
     "output_type": "execute_result"
    }
   ],
   "source": [
    "import math\n",
    "math.sqrt(25)"
   ]
  },
  {
   "cell_type": "code",
   "execution_count": 12,
   "id": "196d1179",
   "metadata": {},
   "outputs": [],
   "source": [
    "content = dir(math)"
   ]
  },
  {
   "cell_type": "code",
   "execution_count": 22,
   "id": "c8dd73ac",
   "metadata": {},
   "outputs": [
    {
     "data": {
      "text/plain": [
       "True"
      ]
     },
     "execution_count": 22,
     "metadata": {},
     "output_type": "execute_result"
    }
   ],
   "source": [
    "isinstance(2.0,(str,float))"
   ]
  },
  {
   "cell_type": "code",
   "execution_count": 27,
   "id": "09626263",
   "metadata": {},
   "outputs": [
    {
     "data": {
      "text/plain": [
       "False"
      ]
     },
     "execution_count": 27,
     "metadata": {},
     "output_type": "execute_result"
    }
   ],
   "source": [
    "bool({})"
   ]
  },
  {
   "cell_type": "markdown",
   "id": "1515bb62",
   "metadata": {},
   "source": [
    "# list"
   ]
  },
  {
   "cell_type": "code",
   "execution_count": 30,
   "id": "b4b7523b",
   "metadata": {},
   "outputs": [],
   "source": [
    "empty_list = ['']"
   ]
  },
  {
   "cell_type": "code",
   "execution_count": 31,
   "id": "e918e5a9",
   "metadata": {},
   "outputs": [
    {
     "data": {
      "text/plain": [
       "['']"
      ]
     },
     "execution_count": 31,
     "metadata": {},
     "output_type": "execute_result"
    }
   ],
   "source": [
    "empty_list"
   ]
  },
  {
   "cell_type": "code",
   "execution_count": 34,
   "id": "a3e18159",
   "metadata": {},
   "outputs": [
    {
     "data": {
      "text/plain": [
       "5"
      ]
     },
     "execution_count": 34,
     "metadata": {},
     "output_type": "execute_result"
    }
   ],
   "source": [
    "family=['aroush','zainab','amal','taha','mahira']\n",
    "len(family)"
   ]
  },
  {
   "cell_type": "code",
   "execution_count": 35,
   "id": "17825668",
   "metadata": {},
   "outputs": [
    {
     "data": {
      "text/plain": [
       "['aroush', 'zainab', 'amal', 'taha', 'mahira', 'mitho']"
      ]
     },
     "execution_count": 35,
     "metadata": {},
     "output_type": "execute_result"
    }
   ],
   "source": [
    "family.append('mitho')\n",
    "family"
   ]
  },
  {
   "cell_type": "code",
   "execution_count": 37,
   "id": "801d7391",
   "metadata": {},
   "outputs": [
    {
     "data": {
      "text/plain": [
       "['aroush', 'zainab', 'amal', 'taha', 'mahira', 'mitho', 'Abba', 'Ammo']"
      ]
     },
     "execution_count": 37,
     "metadata": {},
     "output_type": "execute_result"
    }
   ],
   "source": [
    "family.extend(['Abba','Ammo'])\n",
    "family"
   ]
  },
  {
   "cell_type": "code",
   "execution_count": 38,
   "id": "19e0adb9",
   "metadata": {},
   "outputs": [
    {
     "data": {
      "text/plain": [
       "['Azeem Khan',\n",
       " 'aroush',\n",
       " 'zainab',\n",
       " 'amal',\n",
       " 'taha',\n",
       " 'mahira',\n",
       " 'mitho',\n",
       " 'Abba',\n",
       " 'Ammo']"
      ]
     },
     "execution_count": 38,
     "metadata": {},
     "output_type": "execute_result"
    }
   ],
   "source": [
    "family.insert(0,'Azeem Khan')\n",
    "family"
   ]
  },
  {
   "cell_type": "code",
   "execution_count": 39,
   "id": "a94c08b8",
   "metadata": {},
   "outputs": [
    {
     "data": {
      "text/plain": [
       "['Azeem Khan', 'aroush', 'zainab', 'amal', 'taha', 'mahira', 'Abba', 'Ammo']"
      ]
     },
     "execution_count": 39,
     "metadata": {},
     "output_type": "execute_result"
    }
   ],
   "source": [
    "family.remove('mitho')\n",
    "family"
   ]
  },
  {
   "cell_type": "code",
   "execution_count": 41,
   "id": "b60e868d",
   "metadata": {},
   "outputs": [
    {
     "data": {
      "text/plain": [
       "['zainab', 'amal', 'taha', 'mahira', 'Abba', 'Ammo']"
      ]
     },
     "execution_count": 41,
     "metadata": {},
     "output_type": "execute_result"
    }
   ],
   "source": [
    "family.pop(0) #remove data from index 0 and return it\n",
    "family"
   ]
  },
  {
   "cell_type": "code",
   "execution_count": 42,
   "id": "0b7812ca",
   "metadata": {},
   "outputs": [
    {
     "data": {
      "text/plain": [
       "['zainab', 'amal', 'taha', 'mahira', 'Abba']"
      ]
     },
     "execution_count": 42,
     "metadata": {},
     "output_type": "execute_result"
    }
   ],
   "source": [
    "del family[-1]\n",
    "family"
   ]
  },
  {
   "cell_type": "code",
   "execution_count": 44,
   "id": "aef6fb68",
   "metadata": {},
   "outputs": [
    {
     "data": {
      "text/plain": [
       "['zainab', 'amal', 'taha', 'mahira', 'Abba', 'Ammi']"
      ]
     },
     "execution_count": 44,
     "metadata": {},
     "output_type": "execute_result"
    }
   ],
   "source": [
    "family.append('Ammi')\n",
    "family"
   ]
  },
  {
   "cell_type": "code",
   "execution_count": 45,
   "id": "9762768f",
   "metadata": {},
   "outputs": [
    {
     "data": {
      "text/plain": [
       "['zainab', 'amal', 'taha', 'mahira', 'Abba', 'Ammi', 'Wasim', 'Baqir']"
      ]
     },
     "execution_count": 45,
     "metadata": {},
     "output_type": "execute_result"
    }
   ],
   "source": [
    "neighbors = family + ['Wasim','Baqir']\n",
    "neighbors"
   ]
  },
  {
   "cell_type": "code",
   "execution_count": 49,
   "id": "bd66c27e",
   "metadata": {},
   "outputs": [
    {
     "data": {
      "text/plain": [
       "'Mon'"
      ]
     },
     "execution_count": 49,
     "metadata": {},
     "output_type": "execute_result"
    }
   ],
   "source": [
    "weekdays = ['Mon','Tues','Wed','Thurs','Fri']\n",
    "weekdays[0]"
   ]
  },
  {
   "cell_type": "code",
   "execution_count": 56,
   "id": "902491b7",
   "metadata": {},
   "outputs": [
    {
     "data": {
      "text/plain": [
       "['Mon', 'Wed']"
      ]
     },
     "execution_count": 56,
     "metadata": {},
     "output_type": "execute_result"
    }
   ],
   "source": [
    "weekdays[0:3]"
   ]
  },
  {
   "cell_type": "code",
   "execution_count": 51,
   "id": "6340a720",
   "metadata": {},
   "outputs": [
    {
     "data": {
      "text/plain": [
       "['Mon', 'Tues', 'Wed']"
      ]
     },
     "execution_count": 51,
     "metadata": {},
     "output_type": "execute_result"
    }
   ],
   "source": [
    "weekdays[:3]"
   ]
  },
  {
   "cell_type": "code",
   "execution_count": 53,
   "id": "e06e2aab",
   "metadata": {},
   "outputs": [
    {
     "data": {
      "text/plain": [
       "['Thurs', 'Fri']"
      ]
     },
     "execution_count": 53,
     "metadata": {},
     "output_type": "execute_result"
    }
   ],
   "source": [
    "weekdays[3:]"
   ]
  },
  {
   "cell_type": "code",
   "execution_count": 57,
   "id": "d35d9a80",
   "metadata": {},
   "outputs": [
    {
     "data": {
      "text/plain": [
       "'Fri'"
      ]
     },
     "execution_count": 57,
     "metadata": {},
     "output_type": "execute_result"
    }
   ],
   "source": [
    "weekdays[-1] # last value of list shown here"
   ]
  },
  {
   "cell_type": "code",
   "execution_count": 58,
   "id": "93c00435",
   "metadata": {},
   "outputs": [
    {
     "data": {
      "text/plain": [
       "['Mon', 'Wed', 'Fri']"
      ]
     },
     "execution_count": 58,
     "metadata": {},
     "output_type": "execute_result"
    }
   ],
   "source": [
    "weekdays[::2] # list shown from starting to end with 2 gap"
   ]
  },
  {
   "cell_type": "code",
   "execution_count": 59,
   "id": "06bf87f5",
   "metadata": {},
   "outputs": [
    {
     "data": {
      "text/plain": [
       "['Fri', 'Thurs', 'Wed', 'Tues', 'Mon']"
      ]
     },
     "execution_count": 59,
     "metadata": {},
     "output_type": "execute_result"
    }
   ],
   "source": [
    "weekdays[::-1] # backward list series"
   ]
  },
  {
   "cell_type": "markdown",
   "id": "09bf25f0",
   "metadata": {},
   "source": [
    "# alternative method of reverse "
   ]
  },
  {
   "cell_type": "code",
   "execution_count": 60,
   "id": "16df6780",
   "metadata": {},
   "outputs": [
    {
     "data": {
      "text/plain": [
       "['Fri', 'Thurs', 'Wed', 'Tues', 'Mon']"
      ]
     },
     "execution_count": 60,
     "metadata": {},
     "output_type": "execute_result"
    }
   ],
   "source": [
    "list(reversed(weekdays))"
   ]
  },
  {
   "cell_type": "code",
   "execution_count": 66,
   "id": "1a4ebd1f",
   "metadata": {},
   "outputs": [
    {
     "data": {
      "text/plain": [
       "['taha', 'amal', 'Ammi', 'Abba', 'zainab', 'mahira']"
      ]
     },
     "execution_count": 66,
     "metadata": {},
     "output_type": "execute_result"
    }
   ],
   "source": [
    "family.sort(reverse=True)\n",
    "family.sort(key=len)\n",
    "family"
   ]
  },
  {
   "cell_type": "code",
   "execution_count": 73,
   "id": "3d932a17",
   "metadata": {},
   "outputs": [
    {
     "data": {
      "text/plain": [
       "[0, 2, 3]"
      ]
     },
     "execution_count": 73,
     "metadata": {},
     "output_type": "execute_result"
    }
   ],
   "source": [
    "num = [1,2,3]\n",
    "num2 = num\n",
    "num2[0] = 0\n",
    "num\n",
    "#same_num"
   ]
  },
  {
   "cell_type": "code",
   "execution_count": 78,
   "id": "b2e50191",
   "metadata": {},
   "outputs": [
    {
     "name": "stdout",
     "output_type": "stream",
     "text": [
      "Orignal list  = [0, 2, 3]\n",
      "new number list = [5, 2, 3]\n"
     ]
    }
   ],
   "source": [
    "new_num = num.copy()\n",
    "new_num[0]=5\n",
    "print(f\"Orignal list  = {num}\")\n",
    "print(f\"new number list = {new_num}\")"
   ]
  },
  {
   "cell_type": "code",
   "execution_count": 79,
   "id": "5707c1a6",
   "metadata": {},
   "outputs": [
    {
     "name": "stdout",
     "output_type": "stream",
     "text": [
      "Orignal list  = [0, 2, 3]\n",
      "new number list = [6, 2, 3]\n"
     ]
    }
   ],
   "source": [
    "another_num = num[:]\n",
    "another_num[0]=6\n",
    "print(f\"Orignal list  = {num}\")\n",
    "print(f\"new number list = {another_num}\")"
   ]
  },
  {
   "cell_type": "code",
   "execution_count": 80,
   "id": "90e6a603",
   "metadata": {},
   "outputs": [
    {
     "name": "stdout",
     "output_type": "stream",
     "text": [
      "Orignal list  = [0, 2, 3]\n",
      "new number list = [8, 2, 3]\n"
     ]
    }
   ],
   "source": [
    "list_num = list(num)\n",
    "list_num[0] = 8\n",
    "print(f\"Orignal list  = {num}\")\n",
    "print(f\"new number list = {list_num}\")"
   ]
  },
  {
   "cell_type": "code",
   "execution_count": 81,
   "id": "c3478ea9",
   "metadata": {},
   "outputs": [
    {
     "data": {
      "text/plain": [
       "True"
      ]
     },
     "execution_count": 81,
     "metadata": {},
     "output_type": "execute_result"
    }
   ],
   "source": [
    "id(num) == id(num2)"
   ]
  },
  {
   "cell_type": "code",
   "execution_count": 83,
   "id": "2a146cbf",
   "metadata": {},
   "outputs": [],
   "source": [
    " a = [1, 2, 3] + [4, 5, 6]\n",
    "b = [\"a\"] * 2 + [\"b\"] * 3"
   ]
  },
  {
   "cell_type": "code",
   "execution_count": 86,
   "id": "40632658",
   "metadata": {},
   "outputs": [
    {
     "name": "stdout",
     "output_type": "stream",
     "text": [
      "List of a = [1, 2, 3, 4, 5, 6]\n",
      " list of b = ['a', 'a', 'b', 'b', 'b']\n"
     ]
    }
   ],
   "source": [
    "print(f\"List of a = {a}\\n list of b = {b}\")"
   ]
  },
  {
   "cell_type": "code",
   "execution_count": 88,
   "id": "61b7acdd",
   "metadata": {},
   "outputs": [
    {
     "data": {
      "text/plain": [
       "['azeem', 'azeem']"
      ]
     },
     "execution_count": 88,
     "metadata": {},
     "output_type": "execute_result"
    }
   ],
   "source": [
    "name = ['azeem'] * 2\n",
    "name"
   ]
  },
  {
   "cell_type": "markdown",
   "id": "e319541a",
   "metadata": {},
   "source": [
    "# tuples"
   ]
  },
  {
   "cell_type": "code",
   "execution_count": 104,
   "id": "7940b654",
   "metadata": {},
   "outputs": [
    {
     "data": {
      "text/plain": [
       "(1, 2, 'three')"
      ]
     },
     "execution_count": 104,
     "metadata": {},
     "output_type": "execute_result"
    }
   ],
   "source": [
    "tuples1 = (1,2,'three') # direct tuple\n",
    "tuples1[:]"
   ]
  },
  {
   "cell_type": "code",
   "execution_count": 96,
   "id": "687b9334",
   "metadata": {},
   "outputs": [
    {
     "data": {
      "text/plain": [
       "list"
      ]
     },
     "execution_count": 96,
     "metadata": {},
     "output_type": "execute_result"
    }
   ],
   "source": [
    "tuples2 = ([1,2,'three']) #tuple from a list\n",
    "type(tuples2)"
   ]
  },
  {
   "cell_type": "code",
   "execution_count": 118,
   "id": "bf817853",
   "metadata": {},
   "outputs": [
    {
     "data": {
      "text/plain": [
       "(1, 2, [1, 5, 'six'])"
      ]
     },
     "execution_count": 118,
     "metadata": {},
     "output_type": "execute_result"
    }
   ],
   "source": [
    "tuples3 = (1,2,[1,5,'six'])\n",
    "len(tuples3)\n",
    "tuples3"
   ]
  },
  {
   "cell_type": "code",
   "execution_count": 119,
   "id": "398be640",
   "metadata": {},
   "outputs": [
    {
     "data": {
      "text/plain": [
       "tuple"
      ]
     },
     "execution_count": 119,
     "metadata": {},
     "output_type": "execute_result"
    }
   ],
   "source": [
    "type(tuples3)"
   ]
  },
  {
   "cell_type": "code",
   "execution_count": 129,
   "id": "7b634ed8",
   "metadata": {},
   "outputs": [
    {
     "data": {
      "text/plain": [
       "(1, 2, [1, 5, 'six'], 7, 8)"
      ]
     },
     "execution_count": 129,
     "metadata": {},
     "output_type": "execute_result"
    }
   ],
   "source": [
    "new_tup = tuples3 + (7,8)\n",
    "new_tup"
   ]
  },
  {
   "cell_type": "code",
   "execution_count": 125,
   "id": "a7b87621",
   "metadata": {},
   "outputs": [
    {
     "data": {
      "text/plain": [
       "(3, 4, 3, 4)"
      ]
     },
     "execution_count": 125,
     "metadata": {},
     "output_type": "execute_result"
    }
   ],
   "source": [
    "(3,4)*2"
   ]
  },
  {
   "cell_type": "code",
   "execution_count": 126,
   "id": "2838f0dd",
   "metadata": {},
   "outputs": [
    {
     "data": {
      "text/plain": [
       "[1, 2, 1, 2]"
      ]
     },
     "execution_count": 126,
     "metadata": {},
     "output_type": "execute_result"
    }
   ],
   "source": [
    "[1,2]*2"
   ]
  },
  {
   "cell_type": "code",
   "execution_count": 130,
   "id": "aebef747",
   "metadata": {},
   "outputs": [
    {
     "data": {
      "text/plain": [
       "[1, 2, 1, 2, 1, 2, 1, 2]"
      ]
     },
     "execution_count": 130,
     "metadata": {},
     "output_type": "execute_result"
    }
   ],
   "source": [
    "[1,2]*4"
   ]
  },
  {
   "cell_type": "code",
   "execution_count": 136,
   "id": "63fb6ecf",
   "metadata": {},
   "outputs": [
    {
     "data": {
      "text/plain": [
       "list"
      ]
     },
     "execution_count": 136,
     "metadata": {},
     "output_type": "execute_result"
    }
   ],
   "source": [
    "my_tup = ([1,2,3])\n",
    "type(my_tup)"
   ]
  },
  {
   "cell_type": "code",
   "execution_count": 137,
   "id": "ac7c0bdf",
   "metadata": {},
   "outputs": [
    {
     "data": {
      "text/plain": [
       "[2, 2, 3]"
      ]
     },
     "execution_count": 137,
     "metadata": {},
     "output_type": "execute_result"
    }
   ],
   "source": [
    "my_tup[0] = 2\n",
    "my_tup"
   ]
  },
  {
   "cell_type": "markdown",
   "id": "2196ab23",
   "metadata": {},
   "source": [
    "# STRING"
   ]
  },
  {
   "cell_type": "code",
   "execution_count": 150,
   "id": "afa6038f",
   "metadata": {},
   "outputs": [
    {
     "data": {
      "text/plain": [
       "10"
      ]
     },
     "execution_count": 150,
     "metadata": {},
     "output_type": "execute_result"
    }
   ],
   "source": [
    "s = str(42)\n",
    "s = 'i like you'\n",
    "len(s)"
   ]
  },
  {
   "cell_type": "code",
   "execution_count": 151,
   "id": "7fcff782",
   "metadata": {},
   "outputs": [
    {
     "data": {
      "text/plain": [
       "'I Like You'"
      ]
     },
     "execution_count": 151,
     "metadata": {},
     "output_type": "execute_result"
    }
   ],
   "source": [
    "s.title()"
   ]
  },
  {
   "cell_type": "code",
   "execution_count": 156,
   "id": "4ad7dc63",
   "metadata": {},
   "outputs": [
    {
     "data": {
      "text/plain": [
       "True"
      ]
     },
     "execution_count": 156,
     "metadata": {},
     "output_type": "execute_result"
    }
   ],
   "source": [
    "s.startswith('i')"
   ]
  },
  {
   "cell_type": "code",
   "execution_count": 161,
   "id": "0daf2397",
   "metadata": {},
   "outputs": [
    {
     "data": {
      "text/plain": [
       "False"
      ]
     },
     "execution_count": 161,
     "metadata": {},
     "output_type": "execute_result"
    }
   ],
   "source": [
    "s.isdigit() # isdigit acutally check the number of any stirng features"
   ]
  },
  {
   "cell_type": "code",
   "execution_count": 166,
   "id": "2c14d2f2",
   "metadata": {},
   "outputs": [
    {
     "data": {
      "text/plain": [
       "False"
      ]
     },
     "execution_count": 166,
     "metadata": {},
     "output_type": "execute_result"
    }
   ],
   "source": [
    "stringtest = 'f123'\n",
    "stringtest.isdigit()"
   ]
  },
  {
   "cell_type": "code",
   "execution_count": 177,
   "id": "5c733f38",
   "metadata": {},
   "outputs": [
    {
     "data": {
      "text/plain": [
       "-1"
      ]
     },
     "execution_count": 177,
     "metadata": {},
     "output_type": "execute_result"
    }
   ],
   "source": [
    "s.find('hate')"
   ]
  },
  {
   "cell_type": "code",
   "execution_count": 180,
   "id": "f47109c5",
   "metadata": {},
   "outputs": [
    {
     "data": {
      "text/plain": [
       "'i love you'"
      ]
     },
     "execution_count": 180,
     "metadata": {},
     "output_type": "execute_result"
    }
   ],
   "source": [
    "s.replace('like','love')"
   ]
  },
  {
   "cell_type": "code",
   "execution_count": 181,
   "id": "defc1fda",
   "metadata": {},
   "outputs": [
    {
     "data": {
      "text/plain": [
       "['i', 'like', 'you']"
      ]
     },
     "execution_count": 181,
     "metadata": {},
     "output_type": "execute_result"
    }
   ],
   "source": [
    "s.split(\" \")"
   ]
  },
  {
   "cell_type": "code",
   "execution_count": 182,
   "id": "d2307ab5",
   "metadata": {},
   "outputs": [
    {
     "data": {
      "text/plain": [
       "['taha', 'amal', 'Ammi', 'Abba', 'zainab', 'mahira']"
      ]
     },
     "execution_count": 182,
     "metadata": {},
     "output_type": "execute_result"
    }
   ],
   "source": [
    "family"
   ]
  },
  {
   "cell_type": "code",
   "execution_count": 187,
   "id": "31709927",
   "metadata": {},
   "outputs": [
    {
     "data": {
      "text/plain": [
       "'i need python job'"
      ]
     },
     "execution_count": 187,
     "metadata": {},
     "output_type": "execute_result"
    }
   ],
   "source": [
    "spacevariable = '     i need python job     '\n",
    "spacevariable.strip()"
   ]
  },
  {
   "cell_type": "code",
   "execution_count": 191,
   "id": "f77c0b7a",
   "metadata": {},
   "outputs": [
    {
     "data": {
      "text/plain": [
       "' cats raining dogs and bird'"
      ]
     },
     "execution_count": 191,
     "metadata": {},
     "output_type": "execute_result"
    }
   ],
   "source": [
    "#' %s raining %s and %s' % ('cats','dogs','bird') # old way\n",
    "'raining {} and {}'.format('cats','dogs') # new way\n",
    "#'raining {arg1} and {arg2}'.format(arg1='cats',arg2='dogs') # named arguments"
   ]
  },
  {
   "cell_type": "code",
   "execution_count": 192,
   "id": "fb7f1631",
   "metadata": {},
   "outputs": [
    {
     "data": {
      "text/plain": [
       "'This my course Python and i will learn Machine Learning'"
      ]
     },
     "execution_count": 192,
     "metadata": {},
     "output_type": "execute_result"
    }
   ],
   "source": [
    "'This my course {} and i will learn {}'.format('Python', 'Machine Learning')"
   ]
  },
  {
   "cell_type": "code",
   "execution_count": 198,
   "id": "d988975e",
   "metadata": {},
   "outputs": [
    {
     "ename": "AttributeError",
     "evalue": "'float' object has no attribute '3f'",
     "output_type": "error",
     "traceback": [
      "\u001b[1;31m---------------------------------------------------------------------------\u001b[0m",
      "\u001b[1;31mAttributeError\u001b[0m                            Traceback (most recent call last)",
      "Input \u001b[1;32mIn [198]\u001b[0m, in \u001b[0;36m<cell line: 1>\u001b[1;34m()\u001b[0m\n\u001b[1;32m----> 1\u001b[0m \u001b[38;5;124;43m'\u001b[39;49m\u001b[38;5;124;43mpi is \u001b[39;49m\u001b[38;5;124;43m{\u001b[39;49m\u001b[38;5;124;43m.3f}\u001b[39;49m\u001b[38;5;124;43m'\u001b[39;49m\u001b[38;5;241;43m.\u001b[39;49m\u001b[43mformat\u001b[49m\u001b[43m(\u001b[49m\u001b[38;5;241;43m3.14159\u001b[39;49m\u001b[43m)\u001b[49m\n",
      "\u001b[1;31mAttributeError\u001b[0m: 'float' object has no attribute '3f'"
     ]
    }
   ],
   "source": [
    "'pi is {:.3f}'.format(3.14159)"
   ]
  },
  {
   "cell_type": "markdown",
   "id": "4a07cd99",
   "metadata": {},
   "source": [
    "# DICTIONARIES"
   ]
  },
  {
   "cell_type": "code",
   "execution_count": 199,
   "id": "6d610b65",
   "metadata": {},
   "outputs": [
    {
     "data": {
      "text/plain": [
       "{}"
      ]
     },
     "execution_count": 199,
     "metadata": {},
     "output_type": "execute_result"
    }
   ],
   "source": [
    "empy_dict = dict()\n",
    "empy_dict"
   ]
  },
  {
   "cell_type": "code",
   "execution_count": 201,
   "id": "676339a1",
   "metadata": {},
   "outputs": [
    {
     "data": {
      "text/plain": [
       "{'name': 'azeem', 'fname': 'khan'}"
      ]
     },
     "execution_count": 201,
     "metadata": {},
     "output_type": "execute_result"
    }
   ],
   "source": [
    "my_family_mem = dict(name= 'azeem', fname= 'khan')\n",
    "my_family_mem\n"
   ]
  },
  {
   "cell_type": "code",
   "execution_count": 202,
   "id": "9846e8ba",
   "metadata": {},
   "outputs": [],
   "source": [
    "list_of_tuples = [('name','sajidkhan'), ('fname','abbaskhan')]"
   ]
  },
  {
   "cell_type": "code",
   "execution_count": 205,
   "id": "be32f4ff",
   "metadata": {},
   "outputs": [
    {
     "data": {
      "text/plain": [
       "{'name': 'sajidkhan', 'fname': 'abbaskhan'}"
      ]
     },
     "execution_count": 205,
     "metadata": {},
     "output_type": "execute_result"
    }
   ],
   "source": [
    "my_famil = dict(list_of_tuples)\n",
    "#new_mem = my_famil + my_family_mem\n",
    "my_famil"
   ]
  },
  {
   "cell_type": "code",
   "execution_count": 206,
   "id": "48d52513",
   "metadata": {},
   "outputs": [
    {
     "data": {
      "text/plain": [
       "'sajidkhan'"
      ]
     },
     "execution_count": 206,
     "metadata": {},
     "output_type": "execute_result"
    }
   ],
   "source": [
    "my_famil['name']"
   ]
  },
  {
   "cell_type": "code",
   "execution_count": 207,
   "id": "0428c5dc",
   "metadata": {},
   "outputs": [
    {
     "data": {
      "text/plain": [
       "2"
      ]
     },
     "execution_count": 207,
     "metadata": {},
     "output_type": "execute_result"
    }
   ],
   "source": [
    "len(my_famil)"
   ]
  },
  {
   "cell_type": "code",
   "execution_count": 208,
   "id": "d3bdbf61",
   "metadata": {},
   "outputs": [
    {
     "data": {
      "text/plain": [
       "dict_items([('name', 'sajidkhan'), ('fname', 'abbaskhan')])"
      ]
     },
     "execution_count": 208,
     "metadata": {},
     "output_type": "execute_result"
    }
   ],
   "source": [
    "my_famil.items()"
   ]
  },
  {
   "cell_type": "code",
   "execution_count": 209,
   "id": "259d5160",
   "metadata": {},
   "outputs": [
    {
     "data": {
      "text/plain": [
       "{'name': 'Azeem Khan', 'fname': 'abbaskhan'}"
      ]
     },
     "execution_count": 209,
     "metadata": {},
     "output_type": "execute_result"
    }
   ],
   "source": [
    "my_famil['name'] = 'Azeem Khan'\n",
    "my_famil"
   ]
  },
  {
   "cell_type": "code",
   "execution_count": 212,
   "id": "ba04f623",
   "metadata": {},
   "outputs": [],
   "source": [
    "del my_famil['name']"
   ]
  },
  {
   "cell_type": "code",
   "execution_count": 213,
   "id": "89e79e46",
   "metadata": {},
   "outputs": [
    {
     "data": {
      "text/plain": [
       "{'fname': 'abbaskhan'}"
      ]
     },
     "execution_count": 213,
     "metadata": {},
     "output_type": "execute_result"
    }
   ],
   "source": [
    "my_famil"
   ]
  },
  {
   "cell_type": "code",
   "execution_count": 218,
   "id": "bcb2f483",
   "metadata": {},
   "outputs": [
    {
     "name": "stdout",
     "output_type": "stream",
     "text": [
      "Error 'grandma'\n"
     ]
    }
   ],
   "source": [
    "try:\n",
    "    my_famil['grandma']# throws an error\n",
    "except KeyError as e:\n",
    "    print(\"Error\", e)"
   ]
  },
  {
   "cell_type": "code",
   "execution_count": 225,
   "id": "cb20e7cb",
   "metadata": {},
   "outputs": [
    {
     "data": {
      "text/plain": [
       "'not found'"
      ]
     },
     "execution_count": 225,
     "metadata": {},
     "output_type": "execute_result"
    }
   ],
   "source": [
    "my_famil.get('abbaskhan','not found')\n",
    "#my_famil"
   ]
  },
  {
   "cell_type": "code",
   "execution_count": 232,
   "id": "7d217176",
   "metadata": {},
   "outputs": [],
   "source": [
    "khi_family = dict(name = ['azeem','aroush','zainab','taha','amal','mahira','abba','ammi'], fname=['Abbas Khan']*8)"
   ]
  },
  {
   "cell_type": "code",
   "execution_count": 243,
   "id": "da75b3de",
   "metadata": {},
   "outputs": [
    {
     "data": {
      "text/plain": [
       "['Abbas Khan',\n",
       " 'Abbas Khan',\n",
       " 'Abbas Khan',\n",
       " 'Abbas Khan',\n",
       " 'Abbas Khan',\n",
       " 'Abbas Khan',\n",
       " 'Abbas Khan',\n",
       " 'Abbas Khan']"
      ]
     },
     "execution_count": 243,
     "metadata": {},
     "output_type": "execute_result"
    }
   ],
   "source": [
    "khi_family['fname'][:]"
   ]
  },
  {
   "cell_type": "markdown",
   "id": "d2b12f51",
   "metadata": {},
   "source": [
    "# sets"
   ]
  },
  {
   "cell_type": "code",
   "execution_count": 145,
   "id": "0febf510",
   "metadata": {},
   "outputs": [],
   "source": [
    "empty_sets = set()"
   ]
  },
  {
   "cell_type": "code",
   "execution_count": 252,
   "id": "0c0ceb8b",
   "metadata": {},
   "outputs": [
    {
     "data": {
      "text/plain": [
       "set()"
      ]
     },
     "execution_count": 252,
     "metadata": {},
     "output_type": "execute_result"
    }
   ],
   "source": [
    "empty_sets"
   ]
  },
  {
   "cell_type": "code",
   "execution_count": 267,
   "id": "252281bb",
   "metadata": {},
   "outputs": [],
   "source": [
    "language = {'Java','Python','R','C++'}\n",
    "snakes = set(['cobra','viper','python','anaconda'])"
   ]
  },
  {
   "cell_type": "code",
   "execution_count": 280,
   "id": "47a7e07d",
   "metadata": {},
   "outputs": [
    {
     "data": {
      "text/plain": [
       "set()"
      ]
     },
     "execution_count": 280,
     "metadata": {},
     "output_type": "execute_result"
    }
   ],
   "source": [
    "language & snakes"
   ]
  },
  {
   "cell_type": "code",
   "execution_count": 274,
   "id": "3767a67e",
   "metadata": {},
   "outputs": [
    {
     "data": {
      "text/plain": [
       "True"
      ]
     },
     "execution_count": 274,
     "metadata": {},
     "output_type": "execute_result"
    }
   ],
   "source": [
    "'Python' in language"
   ]
  },
  {
   "cell_type": "code",
   "execution_count": 278,
   "id": "aec20c09",
   "metadata": {},
   "outputs": [
    {
     "data": {
      "text/plain": [
       "{'C++', 'Java', 'Python', 'R'}"
      ]
     },
     "execution_count": 278,
     "metadata": {},
     "output_type": "execute_result"
    }
   ],
   "source": [
    "language | language"
   ]
  },
  {
   "cell_type": "code",
   "execution_count": 281,
   "id": "f43b78b5",
   "metadata": {},
   "outputs": [
    {
     "data": {
      "text/plain": [
       "{'C++', 'Java', 'Python', 'R'}"
      ]
     },
     "execution_count": 281,
     "metadata": {},
     "output_type": "execute_result"
    }
   ],
   "source": [
    "language - snakes"
   ]
  },
  {
   "cell_type": "code",
   "execution_count": 282,
   "id": "4733ff3b",
   "metadata": {},
   "outputs": [
    {
     "data": {
      "text/plain": [
       "{'anaconda', 'cobra', 'python', 'viper'}"
      ]
     },
     "execution_count": 282,
     "metadata": {},
     "output_type": "execute_result"
    }
   ],
   "source": [
    "snakes-language"
   ]
  },
  {
   "cell_type": "code",
   "execution_count": 283,
   "id": "b24467db",
   "metadata": {},
   "outputs": [],
   "source": [
    "language.add('Sql')"
   ]
  },
  {
   "cell_type": "code",
   "execution_count": 284,
   "id": "0929e5dd",
   "metadata": {},
   "outputs": [
    {
     "data": {
      "text/plain": [
       "{'C++', 'Java', 'Python', 'R', 'Sql'}"
      ]
     },
     "execution_count": 284,
     "metadata": {},
     "output_type": "execute_result"
    }
   ],
   "source": [
    "language"
   ]
  },
  {
   "cell_type": "code",
   "execution_count": 287,
   "id": "740eb281",
   "metadata": {},
   "outputs": [],
   "source": [
    "language.add('R')"
   ]
  },
  {
   "cell_type": "code",
   "execution_count": 296,
   "id": "5f236fcc",
   "metadata": {},
   "outputs": [
    {
     "data": {
      "text/plain": [
       "{'+', '-', 'a', 'b', 'c', 'e', 'h', 'p', 'r', 's', 'v'}"
      ]
     },
     "execution_count": 296,
     "metadata": {},
     "output_type": "execute_result"
    }
   ],
   "source": [
    "language"
   ]
  },
  {
   "cell_type": "code",
   "execution_count": 288,
   "id": "4797500c",
   "metadata": {},
   "outputs": [
    {
     "name": "stdout",
     "output_type": "stream",
     "text": [
      "Error 'VB'\n"
     ]
    }
   ],
   "source": [
    "try:\n",
    "    language.remove('VB')\n",
    "except KeyError as e:\n",
    "    print(\"Error\",e)"
   ]
  },
  {
   "cell_type": "code",
   "execution_count": 291,
   "id": "4f0edf58",
   "metadata": {},
   "outputs": [],
   "source": [
    "language.discard('VB')"
   ]
  },
  {
   "cell_type": "code",
   "execution_count": 292,
   "id": "2dd30d24",
   "metadata": {},
   "outputs": [],
   "source": [
    "language.clear()"
   ]
  },
  {
   "cell_type": "code",
   "execution_count": 293,
   "id": "e10f5be0",
   "metadata": {},
   "outputs": [
    {
     "data": {
      "text/plain": [
       "set()"
      ]
     },
     "execution_count": 293,
     "metadata": {},
     "output_type": "execute_result"
    }
   ],
   "source": [
    "language"
   ]
  },
  {
   "cell_type": "code",
   "execution_count": 307,
   "id": "7d791c9b",
   "metadata": {},
   "outputs": [],
   "source": [
    "language.update({'vb'\",\",'c','c++','c-sharpe'})"
   ]
  },
  {
   "cell_type": "code",
   "execution_count": 308,
   "id": "d29d8beb",
   "metadata": {},
   "outputs": [
    {
     "data": {
      "text/plain": [
       "{'+',\n",
       " '-',\n",
       " 'a',\n",
       " 'b',\n",
       " 'c',\n",
       " 'c++',\n",
       " 'c-sharpe',\n",
       " 'e',\n",
       " 'h',\n",
       " 'p',\n",
       " 'r',\n",
       " 's',\n",
       " 'v',\n",
       " 'vb'}"
      ]
     },
     "execution_count": 308,
     "metadata": {},
     "output_type": "execute_result"
    }
   ],
   "source": [
    "language"
   ]
  },
  {
   "cell_type": "markdown",
   "id": "09feaf75",
   "metadata": {},
   "source": [
    "# Execute Control Statement"
   ]
  },
  {
   "cell_type": "code",
   "execution_count": 319,
   "id": "539814c9",
   "metadata": {},
   "outputs": [
    {
     "name": "stdout",
     "output_type": "stream",
     "text": [
      "Enter your Number 144\n",
      "your Input number 144 is Even \n"
     ]
    }
   ],
   "source": [
    "# HOW TO IDENTIFY THE EVEN OR ODD NUMBER WITH IF ELSE CONDITION\n",
    "x = input('Enter your Number ')\n",
    "x = int(x)\n",
    "result = (x % 2)\n",
    "\n",
    "if result == 0:\n",
    "    print(f\"your Input number {x} is Even \")\n",
    "else:\n",
    "    print(f\"your Input Number {x} is Odd\")\n"
   ]
  },
  {
   "cell_type": "markdown",
   "id": "7152f971",
   "metadata": {},
   "source": [
    "# LOOPS"
   ]
  },
  {
   "cell_type": "code",
   "execution_count": 321,
   "id": "20937a95",
   "metadata": {},
   "outputs": [],
   "source": [
    "a = range(0,5)"
   ]
  },
  {
   "cell_type": "code",
   "execution_count": 322,
   "id": "c14b9ec4",
   "metadata": {},
   "outputs": [
    {
     "data": {
      "text/plain": [
       "range(0, 5)"
      ]
     },
     "execution_count": 322,
     "metadata": {},
     "output_type": "execute_result"
    }
   ],
   "source": [
    "a"
   ]
  },
  {
   "cell_type": "code",
   "execution_count": 323,
   "id": "66f28554",
   "metadata": {},
   "outputs": [
    {
     "data": {
      "text/plain": [
       "range(0, 3)"
      ]
     },
     "execution_count": 323,
     "metadata": {},
     "output_type": "execute_result"
    }
   ],
   "source": [
    "range(3)"
   ]
  },
  {
   "cell_type": "code",
   "execution_count": 328,
   "id": "e3fbac2e",
   "metadata": {},
   "outputs": [
    {
     "data": {
      "text/plain": [
       "[0, 1, 2, 3, 4]"
      ]
     },
     "execution_count": 328,
     "metadata": {},
     "output_type": "execute_result"
    }
   ],
   "source": [
    "list(a)"
   ]
  },
  {
   "cell_type": "code",
   "execution_count": 337,
   "id": "8d7be688",
   "metadata": {},
   "outputs": [
    {
     "data": {
      "text/plain": [
       "5"
      ]
     },
     "execution_count": 337,
     "metadata": {},
     "output_type": "execute_result"
    }
   ],
   "source": [
    "city = ['Karachi','Lahore','Islambad','Multan','Karachi']\n",
    "len(city)"
   ]
  },
  {
   "cell_type": "code",
   "execution_count": 338,
   "id": "879fc902",
   "metadata": {},
   "outputs": [
    {
     "name": "stdout",
     "output_type": "stream",
     "text": [
      "KARACHI 3063116741808\n",
      "LAHORE 3063116740976\n",
      "ISLAMBAD 3063116736368\n",
      "MULTAN 3063116732336\n",
      "KARACHI 3063116741808\n"
     ]
    }
   ],
   "source": [
    "for i in range(len(city)):\n",
    "    print(city[i].upper(),id(city[i]))"
   ]
  },
  {
   "cell_type": "code",
   "execution_count": 340,
   "id": "12c0c62d",
   "metadata": {},
   "outputs": [
    {
     "name": "stdout",
     "output_type": "stream",
     "text": [
      "KARACHI 3063116741808\n",
      "LAHORE 3063116740976\n",
      "ISLAMBAD 3063116736368\n",
      "MULTAN 3063116732336\n",
      "KARACHI 3063116741808\n"
     ]
    }
   ],
   "source": [
    "for citie in city:\n",
    "    print(citie.upper(), id(citie))"
   ]
  },
  {
   "cell_type": "code",
   "execution_count": 158,
   "id": "12265534",
   "metadata": {},
   "outputs": [
    {
     "ename": "NameError",
     "evalue": "name 'city' is not defined",
     "output_type": "error",
     "traceback": [
      "\u001b[1;31m---------------------------------------------------------------------------\u001b[0m",
      "\u001b[1;31mNameError\u001b[0m                                 Traceback (most recent call last)",
      "Input \u001b[1;32mIn [158]\u001b[0m, in \u001b[0;36m<cell line: 1>\u001b[1;34m()\u001b[0m\n\u001b[1;32m----> 1\u001b[0m \u001b[38;5;28;01mfor\u001b[39;00m citie \u001b[38;5;129;01min\u001b[39;00m \u001b[43mcity\u001b[49m:\n\u001b[0;32m      2\u001b[0m  \u001b[38;5;66;03m#   print(citie)\u001b[39;00m\n\u001b[0;32m      3\u001b[0m     v\u001b[38;5;241m=\u001b[39m\u001b[38;5;241m0\u001b[39m\n\u001b[0;32m      4\u001b[0m     \u001b[38;5;28;01mfor\u001b[39;00m i \u001b[38;5;129;01min\u001b[39;00m \u001b[38;5;28mrange\u001b[39m(\u001b[38;5;241m1\u001b[39m\u001b[38;5;241m*\u001b[39m\u001b[38;5;241m*\u001b[39m\u001b[38;5;241m3\u001b[39m):\n",
      "\u001b[1;31mNameError\u001b[0m: name 'city' is not defined"
     ]
    }
   ],
   "source": [
    "for citie in city:\n",
    " #   print(citie)\n",
    "    v=0\n",
    "    for i in range(1**3):\n",
    "        v+=1\n",
    "        print(v)"
   ]
  },
  {
   "cell_type": "code",
   "execution_count": 4,
   "id": "98cfc486",
   "metadata": {},
   "outputs": [
    {
     "name": "stdout",
     "output_type": "stream",
     "text": [
      "0\n",
      "1\n",
      "2\n",
      "3\n",
      "4\n",
      "5\n",
      "6\n",
      "7\n",
      "8\n",
      "9\n",
      "10\n",
      "11\n",
      "12\n",
      "13\n",
      "14\n",
      "15\n",
      "16\n",
      "17\n",
      "18\n",
      "19\n",
      "20\n",
      "21\n",
      "22\n",
      "23\n",
      "24\n",
      "25\n",
      "26\n",
      "27\n",
      "28\n",
      "29\n",
      "30\n",
      "31\n",
      "32\n",
      "33\n",
      "34\n",
      "35\n",
      "36\n",
      "37\n",
      "38\n",
      "39\n",
      "40\n",
      "41\n",
      "42\n",
      "43\n",
      "44\n",
      "45\n",
      "46\n",
      "47\n",
      "48\n",
      "49\n",
      "50\n",
      "51\n",
      "52\n",
      "53\n",
      "54\n",
      "55\n",
      "56\n",
      "57\n",
      "58\n",
      "59\n",
      "60\n",
      "61\n",
      "62\n",
      "63\n"
     ]
    }
   ],
   "source": [
    "y = 0\n",
    "for a in range(2**6):\n",
    "    print(a)"
   ]
  },
  {
   "cell_type": "markdown",
   "id": "7e953575",
   "metadata": {},
   "source": [
    "# List comprehensions, iterators"
   ]
  },
  {
   "cell_type": "code",
   "execution_count": 16,
   "id": "2515798a",
   "metadata": {},
   "outputs": [
    {
     "name": "stdout",
     "output_type": "stream",
     "text": [
      "[1, 4, 9, 16, 25]\n"
     ]
    }
   ],
   "source": [
    "my_list = [1,2,3,4,5]\n",
    "empty_list=[]\n",
    "for i in my_list:\n",
    "    empty_list.append(i**2)\n",
    "print(empty_list)"
   ]
  },
  {
   "cell_type": "code",
   "execution_count": 34,
   "id": "1ab1f295",
   "metadata": {},
   "outputs": [
    {
     "name": "stdout",
     "output_type": "stream",
     "text": [
      "[[0, 0], [1, 1], [2, 2], [3, 3], [4, 4]]\n"
     ]
    }
   ],
   "source": [
    "new_list = [1,2,3,4,5]\n",
    "emptylist = []\n",
    "for i in range(len(new_list)):\n",
    "    emptylist.append([i]*2)\n",
    "print(emptylist)\n",
    "    \n",
    " "
   ]
  },
  {
   "cell_type": "code",
   "execution_count": 35,
   "id": "9c8e4a42",
   "metadata": {},
   "outputs": [
    {
     "ename": "TypeError",
     "evalue": "unsupported operand type(s) for ** or pow(): 'list' and 'int'",
     "output_type": "error",
     "traceback": [
      "\u001b[1;31m---------------------------------------------------------------------------\u001b[0m",
      "\u001b[1;31mTypeError\u001b[0m                                 Traceback (most recent call last)",
      "Input \u001b[1;32mIn [35]\u001b[0m, in \u001b[0;36m<cell line: 3>\u001b[1;34m()\u001b[0m\n\u001b[0;32m      2\u001b[0m emptylist \u001b[38;5;241m=\u001b[39m []\n\u001b[0;32m      3\u001b[0m \u001b[38;5;28;01mfor\u001b[39;00m i \u001b[38;5;129;01min\u001b[39;00m \u001b[38;5;28mrange\u001b[39m(\u001b[38;5;28mlen\u001b[39m(new_list)):\n\u001b[1;32m----> 4\u001b[0m     emptylist\u001b[38;5;241m.\u001b[39mappend(\u001b[43m[\u001b[49m\u001b[43mi\u001b[49m\u001b[43m]\u001b[49m\u001b[38;5;241;43m*\u001b[39;49m\u001b[38;5;241;43m*\u001b[39;49m\u001b[38;5;241;43m2\u001b[39;49m)\n\u001b[0;32m      5\u001b[0m \u001b[38;5;28mprint\u001b[39m(emptylist)\n",
      "\u001b[1;31mTypeError\u001b[0m: unsupported operand type(s) for ** or pow(): 'list' and 'int'"
     ]
    }
   ],
   "source": [
    "new_list = [1,2,3,4,5]\n",
    "emptylist = []\n",
    "for i in range(len(new_list)):\n",
    "    emptylist.append([i]**2)\n",
    "print(emptylist)"
   ]
  },
  {
   "cell_type": "code",
   "execution_count": 65,
   "id": "8293e15e",
   "metadata": {},
   "outputs": [
    {
     "name": "stdout",
     "output_type": "stream",
     "text": [
      "*\n",
      "**\n",
      "***\n",
      "*****\n",
      "******\n",
      "*******\n",
      "********\n",
      "*********\n",
      "**********\n"
     ]
    }
   ],
   "source": [
    "my_number = [1,2,3,5,6,7,8,9,10]\n",
    "\n",
    "for i in my_number:\n",
    "    for j in range(i):\n",
    "        print('*',end='')\n",
    "    print()\n",
    "    "
   ]
  },
  {
   "cell_type": "code",
   "execution_count": 71,
   "id": "c251acb5",
   "metadata": {},
   "outputs": [
    {
     "data": {
      "text/plain": [
       "[1, 8, 27, 64, 125, 216, 343, 512, 729, 1000]"
      ]
     },
     "execution_count": 71,
     "metadata": {},
     "output_type": "execute_result"
    }
   ],
   "source": [
    "num_list = [1,2,3,4,5,6,7,8,9,10]\n",
    "cubes = [num**3 for num in num_list]\n",
    "cubes"
   ]
  },
  {
   "cell_type": "code",
   "execution_count": 72,
   "id": "9843d574",
   "metadata": {},
   "outputs": [
    {
     "data": {
      "text/plain": [
       "[8, 64, 216, 512, 1000]"
      ]
     },
     "execution_count": 72,
     "metadata": {},
     "output_type": "execute_result"
    }
   ],
   "source": [
    "cubes_of_even = []\n",
    "for num in num_list:\n",
    "    if num % 2 == 0:\n",
    "        cubes_of_even.append(num**3)\n",
    "cubes_of_even"
   ]
  },
  {
   "cell_type": "code",
   "execution_count": 73,
   "id": "ff50692b",
   "metadata": {},
   "outputs": [
    {
     "data": {
      "text/plain": [
       "[1, 27, 125, 343, 729]"
      ]
     },
     "execution_count": 73,
     "metadata": {},
     "output_type": "execute_result"
    }
   ],
   "source": [
    "array_of_odd = []\n",
    "for num in num_list:\n",
    "    if num % 2 == 1:\n",
    "        array_of_odd.append(num**3)\n",
    "array_of_odd"
   ]
  },
  {
   "cell_type": "code",
   "execution_count": 74,
   "id": "510357d1",
   "metadata": {},
   "outputs": [],
   "source": [
    "cubes_and_squre = [num**3 if num %2 == 0 else num**2 for num in num_list]"
   ]
  },
  {
   "cell_type": "code",
   "execution_count": 75,
   "id": "555d5cb6",
   "metadata": {},
   "outputs": [
    {
     "data": {
      "text/plain": [
       "[1, 8, 9, 64, 25, 216, 49, 512, 81, 1000]"
      ]
     },
     "execution_count": 75,
     "metadata": {},
     "output_type": "execute_result"
    }
   ],
   "source": [
    "cubes_and_squre"
   ]
  },
  {
   "cell_type": "code",
   "execution_count": 81,
   "id": "c58d8b71",
   "metadata": {},
   "outputs": [],
   "source": [
    "mattrix = [[1,2],[3,4]]\n",
    "item=[]"
   ]
  },
  {
   "cell_type": "code",
   "execution_count": 90,
   "id": "fd76b082",
   "metadata": {},
   "outputs": [
    {
     "name": "stdout",
     "output_type": "stream",
     "text": [
      "[1, 2, 3, 4, 1, 2, 3, 4, 1, 2, 3, 4, 1, 2, 3, 4, 1, 2, 3, 4, 1, 2, 3, 4, 1, 2, 3, 4, 1, 2, 3, 4, 1, 2, 3, 4]\n"
     ]
    }
   ],
   "source": [
    "for row in mattrix:\n",
    "    for items in row:\n",
    "        item.append(items)\n",
    "print(item)"
   ]
  },
  {
   "cell_type": "code",
   "execution_count": 93,
   "id": "88dda020",
   "metadata": {},
   "outputs": [],
   "source": [
    "item = [items for row in mattrix for items in row]"
   ]
  },
  {
   "cell_type": "code",
   "execution_count": 94,
   "id": "ff850af1",
   "metadata": {},
   "outputs": [
    {
     "data": {
      "text/plain": [
       "[1, 2, 3, 4]"
      ]
     },
     "execution_count": 94,
     "metadata": {},
     "output_type": "execute_result"
    }
   ],
   "source": [
    "item"
   ]
  },
  {
   "cell_type": "code",
   "execution_count": 110,
   "id": "af5bed89",
   "metadata": {},
   "outputs": [
    {
     "data": {
      "text/plain": [
       "{'banana': 6, 'apple': 5, 'mango': 5, 'kivi': 4}"
      ]
     },
     "execution_count": 110,
     "metadata": {},
     "output_type": "execute_result"
    }
   ],
   "source": [
    "fruits = ['banana', 'apple','mango','kivi']\n",
    "unique_lenght = {fruit:len(fruit) for fruit in fruits}\n",
    "unique_lenght"
   ]
  },
  {
   "cell_type": "code",
   "execution_count": 111,
   "id": "7d56e822",
   "metadata": {},
   "outputs": [
    {
     "name": "stdout",
     "output_type": "stream",
     "text": [
      "the length banana 6\n",
      "the length apple 5\n",
      "the length mango 5\n",
      "the length kivi 4\n"
     ]
    }
   ],
   "source": [
    "for i in fruits:\n",
    "    a = len(i)\n",
    "    print(f\"the length {i} {a}\")\n",
    "    "
   ]
  },
  {
   "cell_type": "markdown",
   "id": "35e114a3",
   "metadata": {},
   "source": [
    "# FUNCTION"
   ]
  },
  {
   "cell_type": "code",
   "execution_count": 113,
   "id": "9e15e325",
   "metadata": {},
   "outputs": [
    {
     "name": "stdout",
     "output_type": "stream",
     "text": [
      "my son is Muhammad Taha\n"
     ]
    }
   ],
   "source": [
    "def print_text():\n",
    "    print('my son is Muhammad Taha')\n",
    "\n",
    "print_text()"
   ]
  },
  {
   "cell_type": "code",
   "execution_count": 114,
   "id": "cd3567ac",
   "metadata": {},
   "outputs": [
    {
     "name": "stdout",
     "output_type": "stream",
     "text": [
      "5\n"
     ]
    }
   ],
   "source": [
    "def print_num(x):\n",
    "    print(x)\n",
    "\n",
    "print_num(5)"
   ]
  },
  {
   "cell_type": "code",
   "execution_count": 115,
   "id": "2b3de379",
   "metadata": {},
   "outputs": [
    {
     "name": "stdout",
     "output_type": "stream",
     "text": [
      "6\n"
     ]
    }
   ],
   "source": [
    "n = print_num(6)\n",
    "n"
   ]
  },
  {
   "cell_type": "code",
   "execution_count": 119,
   "id": "46231481",
   "metadata": {},
   "outputs": [
    {
     "data": {
      "text/plain": [
       "9"
      ]
     },
     "execution_count": 119,
     "metadata": {},
     "output_type": "execute_result"
    }
   ],
   "source": [
    "def add(a,b):\n",
    "    return a+b\n",
    "add(1,8)"
   ]
  },
  {
   "cell_type": "code",
   "execution_count": 120,
   "id": "25c2a1c8",
   "metadata": {},
   "outputs": [
    {
     "data": {
      "text/plain": [
       "'AzeemAbbas'"
      ]
     },
     "execution_count": 120,
     "metadata": {},
     "output_type": "execute_result"
    }
   ],
   "source": [
    "add('Azeem', 'Abbas')"
   ]
  },
  {
   "cell_type": "code",
   "execution_count": 121,
   "id": "7f4054c8",
   "metadata": {},
   "outputs": [
    {
     "data": {
      "text/plain": [
       "['azeem', 'taha', 'azeem', 'abbas']"
      ]
     },
     "execution_count": 121,
     "metadata": {},
     "output_type": "execute_result"
    }
   ],
   "source": [
    "add(['azeem','taha'], ['azeem','abbas'])"
   ]
  },
  {
   "cell_type": "code",
   "execution_count": 128,
   "id": "4e5ac360",
   "metadata": {},
   "outputs": [
    {
     "data": {
      "text/plain": [
       "[1, 2, 1, 2]"
      ]
     },
     "execution_count": 128,
     "metadata": {},
     "output_type": "execute_result"
    }
   ],
   "source": [
    "def squre_this(x):\n",
    "    return x*2\n",
    "\n",
    "squre_this([1,2])"
   ]
  },
  {
   "cell_type": "code",
   "execution_count": 137,
   "id": "32b643a1",
   "metadata": {},
   "outputs": [
    {
     "data": {
      "text/plain": [
       "1"
      ]
     },
     "execution_count": 137,
     "metadata": {},
     "output_type": "execute_result"
    }
   ],
   "source": [
    "def power_this(x, power=2):\n",
    "    return x**power\n",
    "power_this(2,0)"
   ]
  },
  {
   "cell_type": "code",
   "execution_count": 140,
   "id": "902db408",
   "metadata": {},
   "outputs": [],
   "source": [
    "def min_max(nums):\n",
    "    return min(nums), max(nums)\n",
    "\n",
    "series = [1,2,6,7,3,10,8,9,4,5]\n",
    "mini, maxm = min_max(series)"
   ]
  },
  {
   "cell_type": "code",
   "execution_count": 141,
   "id": "310ce848",
   "metadata": {},
   "outputs": [
    {
     "data": {
      "text/plain": [
       "1"
      ]
     },
     "execution_count": 141,
     "metadata": {},
     "output_type": "execute_result"
    }
   ],
   "source": [
    "mini"
   ]
  },
  {
   "cell_type": "code",
   "execution_count": 142,
   "id": "a808bd97",
   "metadata": {},
   "outputs": [
    {
     "data": {
      "text/plain": [
       "10"
      ]
     },
     "execution_count": 142,
     "metadata": {},
     "output_type": "execute_result"
    }
   ],
   "source": [
    "maxm"
   ]
  },
  {
   "cell_type": "markdown",
   "id": "c791f72e",
   "metadata": {},
   "source": [
    "# REGULAR EXPRESSION "
   ]
  },
  {
   "cell_type": "code",
   "execution_count": 143,
   "id": "a2a60ef9",
   "metadata": {},
   "outputs": [],
   "source": [
    "import re"
   ]
  },
  {
   "cell_type": "code",
   "execution_count": 159,
   "id": "161682ff",
   "metadata": {},
   "outputs": [
    {
     "name": "stdout",
     "output_type": "stream",
     "text": [
      "\f",
      "\n"
     ]
    }
   ],
   "source": [
    "clear"
   ]
  },
  {
   "cell_type": "code",
   "execution_count": 152,
   "id": "adb50784",
   "metadata": {},
   "outputs": [
    {
     "name": "stdout",
     "output_type": "stream",
     "text": [
      "Pattern Not Found\n"
     ]
    }
   ],
   "source": [
    "#re.match find and compaire the pattern from STRATING of string\n",
    "parrtern = r'^hellow'\n",
    "string = 'with the help of gpt, hellow, World'\n",
    "\n",
    "result = re.match(parrtern, string)\n",
    "if result :\n",
    "    print(\"Pattern Matched\")\n",
    "else:\n",
    "    print(\"Pattern Not Found\")"
   ]
  },
  {
   "cell_type": "code",
   "execution_count": null,
   "id": "64f52a59",
   "metadata": {},
   "outputs": [],
   "source": []
  },
  {
   "cell_type": "code",
   "execution_count": null,
   "id": "44fe7f71",
   "metadata": {},
   "outputs": [],
   "source": []
  }
 ],
 "metadata": {
  "kernelspec": {
   "display_name": "Python 3 (ipykernel)",
   "language": "python",
   "name": "python3"
  },
  "language_info": {
   "codemirror_mode": {
    "name": "ipython",
    "version": 3
   },
   "file_extension": ".py",
   "mimetype": "text/x-python",
   "name": "python",
   "nbconvert_exporter": "python",
   "pygments_lexer": "ipython3",
   "version": "3.10.4"
  }
 },
 "nbformat": 4,
 "nbformat_minor": 5
}
