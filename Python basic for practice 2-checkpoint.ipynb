{
 "cells": [
  {
   "cell_type": "code",
   "execution_count": 1,
   "id": "88123837",
   "metadata": {},
   "outputs": [],
   "source": [
    "import re"
   ]
  },
  {
   "cell_type": "code",
   "execution_count": 5,
   "id": "df957ea9",
   "metadata": {},
   "outputs": [
    {
     "name": "stdout",
     "output_type": "stream",
     "text": [
      "Pattern Match !\n"
     ]
    }
   ],
   "source": [
    "#re.match find the value and match from STRATING of String only\n",
    "\n",
    "pattern = \"Hellow\"\n",
    "string = \"Hellow, World\"\n",
    "result = re.match(pattern,string)\n",
    "if result:\n",
    "    print(\"Pattern Match !\")\n",
    "else:\n",
    "    print(\"Pattern Not Found\")\n"
   ]
  },
  {
   "cell_type": "code",
   "execution_count": 19,
   "id": "5e1df684",
   "metadata": {},
   "outputs": [
    {
     "name": "stdout",
     "output_type": "stream",
     "text": [
      "Number Found 2\n"
     ]
    }
   ],
   "source": [
    "# '\\d+' means its numeric value either positive or negative \n",
    "#the re.search option use to search of numeric value in first occurance, when ever it found, programe will be stop and give result\n",
    "\n",
    "pattern2 = '\\d+'\n",
    "string2 = \"the price is $ 42.12\"\n",
    "\n",
    "result2 = re.search(pattern2, string2)\n",
    "\n",
    "if result2:\n",
    "    print(\"Number Found\", result2.group())\n",
    "else:\n",
    "    print(\"Number not Found\")"
   ]
  },
  {
   "cell_type": "code",
   "execution_count": 18,
   "id": "d87288bb",
   "metadata": {},
   "outputs": [
    {
     "name": "stdout",
     "output_type": "stream",
     "text": [
      "Numbers found: ['3', '5']\n"
     ]
    }
   ],
   "source": [
    "#re.findall means it search there value in all over string, it find all number value \n",
    "pattern = r'\\d+'\n",
    "string = \"There are 3 apples and 5 oranges.\"\n",
    "\n",
    "numbers = re.findall(pattern, string)\n",
    "print(\"Numbers found:\", numbers)\n"
   ]
  },
  {
   "cell_type": "code",
   "execution_count": 31,
   "id": "020df837",
   "metadata": {},
   "outputs": [
    {
     "name": "stdout",
     "output_type": "stream",
     "text": [
      "Valid email: user@example.com\n",
      "Invalid email: invalid_email\n",
      "Valid email: another.user@subdomain.co.uk\n"
     ]
    }
   ],
   "source": [
    "import re\n",
    "\n",
    "# Create a regular expression pattern to match email addresses\n",
    "email_pattern = r'^[a-zA-Z0-9._%+-]+@[a-zA-Z0-9.-]+\\.[a-zA-Z]{2,}$'\n",
    "\n",
    "# Compile the regular expression pattern into a regular expression object\n",
    "compiled_pattern = re.compile(email_pattern)\n",
    "\n",
    "# Test the regular expression object with different strings\n",
    "email1 = \"user@example.com\"\n",
    "email2 = \"invalid_email\"\n",
    "email3 = \"another.user@subdomain.co.uk\"\n",
    "\n",
    "if compiled_pattern.match(email1):\n",
    "    print(\"Valid email:\", email1)\n",
    "else:\n",
    "    print(\"Invalid email:\", email1)\n",
    "\n",
    "if compiled_pattern.match(email2):\n",
    "    print(\"Valid email:\", email2)\n",
    "else:\n",
    "    print(\"Invalid email:\", email2)\n",
    "\n",
    "if compiled_pattern.match(email3):\n",
    "    print(\"Valid email:\", email3)\n",
    "else:\n",
    "    print(\"Invalid email:\", email3)\n"
   ]
  },
  {
   "cell_type": "code",
   "execution_count": null,
   "id": "7010f691",
   "metadata": {},
   "outputs": [],
   "source": []
  },
  {
   "cell_type": "code",
   "execution_count": null,
   "id": "7d57da71",
   "metadata": {},
   "outputs": [],
   "source": []
  },
  {
   "cell_type": "code",
   "execution_count": 20,
   "id": "451b0ff5",
   "metadata": {},
   "outputs": [
    {
     "data": {
      "text/plain": [
       "'helloworld'"
      ]
     },
     "execution_count": 20,
     "metadata": {},
     "output_type": "execute_result"
    }
   ],
   "source": [
    "#Remove all non-alphanumeric characters in a string\n",
    "re.sub('[^0-9a-zA-Z]+', '', 'h^&ell`.,|o w]{+orld')\n"
   ]
  },
  {
   "cell_type": "markdown",
   "id": "47070f11",
   "metadata": {},
   "source": [
    "# SYSTEM PROGRAMMING"
   ]
  },
  {
   "cell_type": "code",
   "execution_count": 21,
   "id": "adb95fbe",
   "metadata": {},
   "outputs": [],
   "source": [
    "import os"
   ]
  },
  {
   "cell_type": "code",
   "execution_count": 39,
   "id": "5c465305",
   "metadata": {},
   "outputs": [
    {
     "name": "stdout",
     "output_type": "stream",
     "text": [
      "C:\\Users\\Azeem Khan\n",
      "None\n"
     ]
    }
   ],
   "source": [
    "# check the current directory\n",
    "cwd = os.getcwd()\n",
    "print(cwd)\n",
    "#to change the current directory\n",
    "a = os.chdir(cwd)\n",
    "print(a)"
   ]
  },
  {
   "cell_type": "code",
   "execution_count": 25,
   "id": "59675d35",
   "metadata": {},
   "outputs": [],
   "source": [
    "import tempfile"
   ]
  },
  {
   "cell_type": "code",
   "execution_count": 40,
   "id": "f6e8c806",
   "metadata": {},
   "outputs": [
    {
     "name": "stdout",
     "output_type": "stream",
     "text": [
      "C:\\Users\\AZEEMK~1\\AppData\\Local\\Temp\n"
     ]
    }
   ],
   "source": [
    "tmpdir = tempfile.gettempdir()\n",
    "print(tmpdir)"
   ]
  },
  {
   "cell_type": "code",
   "execution_count": 41,
   "id": "8b27a5fa",
   "metadata": {},
   "outputs": [],
   "source": [
    "mytmpdir = os.path.join(tmpdir,'azeem')"
   ]
  },
  {
   "cell_type": "code",
   "execution_count": 45,
   "id": "0b31eff1",
   "metadata": {},
   "outputs": [
    {
     "name": "stdout",
     "output_type": "stream",
     "text": [
      "C:\\Users\\AZEEMK~1\\AppData\\Local\\Temp\\azeem\n"
     ]
    }
   ],
   "source": [
    "print(mytmpdir)"
   ]
  },
  {
   "cell_type": "code",
   "execution_count": 48,
   "id": "57cbeff1",
   "metadata": {},
   "outputs": [
    {
     "name": "stdout",
     "output_type": "stream",
     "text": [
      "this is upper line None\n",
      "this is 2nd line ['khan']\n"
     ]
    }
   ],
   "source": [
    "    ## not understand need to understand with practice\n",
    "b = os.makedirs(os.path.join(tmpdir,'azeem','khan','taha'), exist_ok =True)\n",
    "c = os.listdir(mytmpdir)\n",
    "print(f\"this is upper line {b}\")\n",
    "print(f\"this is 2nd line {c}\")\n",
    "\n"
   ]
  },
  {
   "cell_type": "markdown",
   "id": "37954a97",
   "metadata": {},
   "source": [
    "# FILE INPUT / OUTPUT"
   ]
  },
  {
   "cell_type": "code",
   "execution_count": 57,
   "id": "08a33a94",
   "metadata": {},
   "outputs": [
    {
     "name": "stdout",
     "output_type": "stream",
     "text": [
      "C:\\Users\\AZEEMK~1\\AppData\\Local\\Temp\\azeem\\myfile.txt\n"
     ]
    }
   ],
   "source": [
    "# here we make a file file name is myfile.txt, now need to write it\n",
    "filename = os.path.join(mytmpdir,\"myfile.txt\")\n",
    "print(filename)"
   ]
  },
  {
   "cell_type": "code",
   "execution_count": 68,
   "id": "5aecd2b2",
   "metadata": {},
   "outputs": [],
   "source": [
    "# how to write it with loop\n",
    "\n",
    "text = ['This is a testing a text on txt file with python','first tesing']\n",
    "for i in range(len(text)):\n",
    "    fd = open(filename,\"w\")\n",
    "    fd.write(text[i] + \"\\n\")\n",
    "\n",
    "fd.close()\n"
   ]
  },
  {
   "cell_type": "code",
   "execution_count": 73,
   "id": "d08335f5",
   "metadata": {},
   "outputs": [],
   "source": [
    "# how to write indiviual location wise\n",
    "newdirectory = os.path.join(mytmpdir, 'leader.pdf')\n",
    "leaders = ['AsifAliZardar','NawazSharif','AltafHussain','ImranKhan']\n",
    "\n",
    "fd = open(newdirectory,\"w\")\n",
    "fd.write(leaders[0] + \"\\n\")\n",
    "fd.write(leaders[1] + \"\\n\")\n",
    "fd.write(leaders[2] + \"\\n\")\n",
    "fd.close()"
   ]
  },
  {
   "cell_type": "code",
   "execution_count": 74,
   "id": "f830aae3",
   "metadata": {},
   "outputs": [],
   "source": [
    "#another option with close automatically and using loop\n",
    "with open(filename,\"w\") as f:\n",
    "    for tx in text:\n",
    "        f.write(tx + \"\\n\")"
   ]
  },
  {
   "cell_type": "code",
   "execution_count": 89,
   "id": "bcf43568",
   "metadata": {},
   "outputs": [
    {
     "name": "stdout",
     "output_type": "stream",
     "text": [
      "2nd session as on 23/07/20223\n",
      "\n"
     ]
    }
   ],
   "source": [
    "path = \"D:/NED/23072023 2nd session.txt\"\n",
    "f = open(path, \"r\")\n",
    "a = f.readline()\n",
    "\n",
    "print(a)\n",
    "f.close()\n"
   ]
  },
  {
   "cell_type": "code",
   "execution_count": 97,
   "id": "15277a4e",
   "metadata": {},
   "outputs": [
    {
     "data": {
      "text/plain": [
       "['2nd session as on 23/07/20223\\n',\n",
       " '\\n',\n",
       " 'variables and operators\\n',\n",
       " 'variables two cateogory static and dynamics\\n',\n",
       " 'types\\n',\n",
       " 'int, float\\n',\n",
       " 'string\\n',\n",
       " '\\n']"
      ]
     },
     "execution_count": 97,
     "metadata": {},
     "output_type": "execute_result"
    }
   ],
   "source": [
    "f = open(path,\"r\")\n",
    "lines = [line for line in f]\n",
    "lines"
   ]
  },
  {
   "cell_type": "code",
   "execution_count": null,
   "id": "edb816c2",
   "metadata": {},
   "outputs": [],
   "source": []
  }
 ],
 "metadata": {
  "kernelspec": {
   "display_name": "Python 3 (ipykernel)",
   "language": "python",
   "name": "python3"
  },
  "language_info": {
   "codemirror_mode": {
    "name": "ipython",
    "version": 3
   },
   "file_extension": ".py",
   "mimetype": "text/x-python",
   "name": "python",
   "nbconvert_exporter": "python",
   "pygments_lexer": "ipython3",
   "version": "3.10.4"
  }
 },
 "nbformat": 4,
 "nbformat_minor": 5
}
