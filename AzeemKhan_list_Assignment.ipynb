{
 "cells": [
  {
   "cell_type": "raw",
   "id": "93b6c6ce",
   "metadata": {},
   "source": [
    "Python List Manipulation Assignment\n",
    "Instructions:\n",
    "•\tThis assignment is designed to test your understanding of Python list manipulation, including slicing and indexing.\n",
    "•\tEnsure your code is well-commented and follows best practices.\n",
    "•\tName your file as \"list_assignment.py\".\n",
    "•\tSubmit your completed assignment by the specified \n"
   ]
  },
  {
   "cell_type": "markdown",
   "id": "6b5ca1ec",
   "metadata": {},
   "source": [
    "**Question 1: Basic List Operations**\n",
    "* a) Create a list named `fruits` containing the following items: \"apple\", \"banana\", \"orange\", \"grape\", \"kiwi\".\n",
    "* b) Add \"pear\" to the end of the list.\n",
    "* c) Insert \"mango\" at the second position in the list.\n",
    "* d) Remove \"orange\" from the list.\n"
   ]
  },
  {
   "cell_type": "code",
   "execution_count": 1,
   "id": "120273f1",
   "metadata": {},
   "outputs": [
    {
     "data": {
      "text/plain": [
       "['apple', 'mango', 'banana', 'orange', 'grape', 'kiwi', 'pear']"
      ]
     },
     "execution_count": 1,
     "metadata": {},
     "output_type": "execute_result"
    }
   ],
   "source": [
    "#a\n",
    "fruits = ['apple','banana','orange','grape','kiwi']\n",
    "#b\n",
    "fruits.append(\"pear\")\n",
    "#c\n",
    "fruits.insert(1,\"mango\")\n",
    "fruits"
   ]
  },
  {
   "cell_type": "code",
   "execution_count": 2,
   "id": "3acff1de",
   "metadata": {},
   "outputs": [
    {
     "data": {
      "text/plain": [
       "['apple', 'mango', 'banana', 'grape', 'kiwi', 'pear']"
      ]
     },
     "execution_count": 2,
     "metadata": {},
     "output_type": "execute_result"
    }
   ],
   "source": [
    "#d\n",
    "fruits.remove('orange')\n",
    "fruits"
   ]
  },
  {
   "cell_type": "markdown",
   "id": "f9946714",
   "metadata": {},
   "source": [
    "**Question 2: Slicing and Indexing**\n",
    "* a) Create a list named `numbers` containing the integers from 0 to 9.\n",
    "* b) Print the element at index 3.\n",
    "* c) Print a sublist containing the elements from index 2 to 6 (inclusive).\n",
    "* d) Print the last three elements using negative indexing.\n"
   ]
  },
  {
   "cell_type": "code",
   "execution_count": 4,
   "id": "471f3ab8",
   "metadata": {},
   "outputs": [
    {
     "name": "stdout",
     "output_type": "stream",
     "text": [
      "[0, 1, 2, 3, 4, 5, 6, 7, 8, 9]\n",
      "3\n",
      "[2, 3, 4, 5, 6]\n",
      "[7, 8, 9]\n"
     ]
    }
   ],
   "source": [
    "#\n",
    "numbers = [0,1,2,3,4,5,6,7,8,9]\n",
    "print(numbers)\n",
    "#b\n",
    "print(numbers[3])\n",
    "#c\n",
    "print(numbers[2:7])\n",
    "#d\n",
    "print(numbers[-3:])"
   ]
  },
  {
   "cell_type": "markdown",
   "id": "207cc854",
   "metadata": {},
   "source": [
    "**Question 3: List Comprehension**\n",
    "\n",
    "* a) Create a list named `squares` using a list comprehension that contains the squares of numbers from 1 to 10.\n",
    "* b) Create a new list named `even_squares` using a list comprehension that contains the squares of even numbers from the `squares` list.\n"
   ]
  },
  {
   "cell_type": "code",
   "execution_count": 5,
   "id": "d01bc0a1",
   "metadata": {},
   "outputs": [],
   "source": [
    "squares = [i**2 for i in range(1,11)]\n"
   ]
  },
  {
   "cell_type": "code",
   "execution_count": 6,
   "id": "39958d4e",
   "metadata": {},
   "outputs": [
    {
     "data": {
      "text/plain": [
       "[1, 4, 9, 16, 25, 36, 49, 64, 81, 100]"
      ]
     },
     "execution_count": 6,
     "metadata": {},
     "output_type": "execute_result"
    }
   ],
   "source": [
    "squares"
   ]
  },
  {
   "cell_type": "code",
   "execution_count": 7,
   "id": "23263243",
   "metadata": {},
   "outputs": [
    {
     "data": {
      "text/plain": [
       "[16, 256, 1296, 4096, 10000]"
      ]
     },
     "execution_count": 7,
     "metadata": {},
     "output_type": "execute_result"
    }
   ],
   "source": [
    "even_square = [i**2  for i in squares if (i % 2)==0]\n",
    "even_square"
   ]
  },
  {
   "cell_type": "markdown",
   "id": "7527dcd8",
   "metadata": {},
   "source": [
    "**Question 4: List Manipulation**\n",
    "* a) Create a list named `colors` containing the following items: \"red\", \"green\", \"blue\", \"yellow\", \"purple\".\n",
    "* b) Swap the first and last elements of the list.\n",
    "* c) Reverse the order of the list.\n",
    "* d) Remove the second and third elements from the list.\n"
   ]
  },
  {
   "cell_type": "code",
   "execution_count": 8,
   "id": "9cb17900",
   "metadata": {},
   "outputs": [
    {
     "data": {
      "text/plain": [
       "['red', 'green', 'blue', 'yellow', 'purple']"
      ]
     },
     "execution_count": 8,
     "metadata": {},
     "output_type": "execute_result"
    }
   ],
   "source": [
    "#a\n",
    "colors = ['red','green','blue','yellow','purple']\n",
    "colors"
   ]
  },
  {
   "cell_type": "code",
   "execution_count": 10,
   "id": "7a3aa8a5",
   "metadata": {},
   "outputs": [
    {
     "data": {
      "text/plain": [
       "['purple', 'green', 'blue', 'yellow', 'red']"
      ]
     },
     "execution_count": 10,
     "metadata": {},
     "output_type": "execute_result"
    }
   ],
   "source": [
    "#b\n",
    "colors[0],colors[-1]=colors[-1],colors[0]\n",
    "colors"
   ]
  },
  {
   "cell_type": "code",
   "execution_count": 11,
   "id": "9747a311",
   "metadata": {},
   "outputs": [
    {
     "data": {
      "text/plain": [
       "['red', 'yellow', 'blue', 'green', 'purple']"
      ]
     },
     "execution_count": 11,
     "metadata": {},
     "output_type": "execute_result"
    }
   ],
   "source": [
    "#c\n",
    "colors.reverse()\n",
    "colors"
   ]
  },
  {
   "cell_type": "code",
   "execution_count": 14,
   "id": "3334d6c6",
   "metadata": {},
   "outputs": [
    {
     "data": {
      "text/plain": [
       "['red', 'green', 'purple']"
      ]
     },
     "execution_count": 14,
     "metadata": {},
     "output_type": "execute_result"
    }
   ],
   "source": [
    "#d\n",
    "del colors[1:3]\n",
    "colors"
   ]
  },
  {
   "cell_type": "markdown",
   "id": "981306a3",
   "metadata": {},
   "source": [
    "**Question 5: Advanced Slicing**\n",
    "* a) Create a list named `letters` containing the letters from 'a' to 'j'.\n",
    "* b) Using slicing, create a new list `first_half` containing the first half of the `letters` list.\n",
    "* c) Using slicing, create a new list `last_three` containing the last three elements of the `letters` list.\n"
   ]
  },
  {
   "cell_type": "code",
   "execution_count": 15,
   "id": "b1739520",
   "metadata": {},
   "outputs": [
    {
     "data": {
      "text/plain": [
       "['a', 'b', 'c', 'd', 'e']"
      ]
     },
     "execution_count": 15,
     "metadata": {},
     "output_type": "execute_result"
    }
   ],
   "source": [
    "#a\n",
    "letters = ['a','b','c','d','e','f','g','h','i','j']\n",
    "#b\n",
    "first_half = list(letters[0:5])\n",
    "first_half"
   ]
  },
  {
   "cell_type": "code",
   "execution_count": 16,
   "id": "4f9a6905",
   "metadata": {},
   "outputs": [
    {
     "data": {
      "text/plain": [
       "['h', 'i', 'j']"
      ]
     },
     "execution_count": 16,
     "metadata": {},
     "output_type": "execute_result"
    }
   ],
   "source": [
    "last_three = list(letters[-3:])\n",
    "last_three"
   ]
  },
  {
   "cell_type": "markdown",
   "id": "deb653a5",
   "metadata": {},
   "source": [
    "**Question 6: Nested Lists**\n",
    "* a) Create a nested list named `matrix` with the following rows:\n",
    "   * - [1, 2, 3]\n",
    "   * - [4, 5, 6]\n",
    "   * - [7, 8, 9]\n",
    "\n",
    "* b) Print the element in the second row and third column.\n",
    "* c) Use nested indexing to change the value at the second row and first column to 0.\n"
   ]
  },
  {
   "cell_type": "code",
   "execution_count": 18,
   "id": "32d89348",
   "metadata": {},
   "outputs": [
    {
     "name": "stdout",
     "output_type": "stream",
     "text": [
      "[[1, 2, 3], [4, 5, 6], [7, 8, 9]]\n"
     ]
    },
    {
     "data": {
      "text/plain": [
       "6"
      ]
     },
     "execution_count": 18,
     "metadata": {},
     "output_type": "execute_result"
    }
   ],
   "source": [
    "matrix = [[1,2,3],[4,5,6],[7,8,9]]\n",
    "print(matrix)\n",
    "matrix[1][2]\n"
   ]
  },
  {
   "cell_type": "code",
   "execution_count": 19,
   "id": "ef9505bf",
   "metadata": {},
   "outputs": [
    {
     "data": {
      "text/plain": [
       "[[1, 2, 3], [0, 5, 6], [7, 8, 9]]"
      ]
     },
     "execution_count": 19,
     "metadata": {},
     "output_type": "execute_result"
    }
   ],
   "source": [
    "matrix[1][0] = 0\n",
    "matrix"
   ]
  },
  {
   "cell_type": "code",
   "execution_count": null,
   "id": "7ca4d746",
   "metadata": {},
   "outputs": [],
   "source": []
  }
 ],
 "metadata": {
  "kernelspec": {
   "display_name": "Python 3 (ipykernel)",
   "language": "python",
   "name": "python3"
  },
  "language_info": {
   "codemirror_mode": {
    "name": "ipython",
    "version": 3
   },
   "file_extension": ".py",
   "mimetype": "text/x-python",
   "name": "python",
   "nbconvert_exporter": "python",
   "pygments_lexer": "ipython3",
   "version": "3.10.4"
  }
 },
 "nbformat": 4,
 "nbformat_minor": 5
}
