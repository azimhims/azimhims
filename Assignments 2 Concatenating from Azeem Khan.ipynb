{
 "cells": [
  {
   "cell_type": "markdown",
   "id": "1e8583f2",
   "metadata": {},
   "source": [
    "**Assignment 1: String Concatenation and Formatting**\n",
    "\n",
    "**Instructions:**\n",
    "\n",
    "1. Create a variable `name` and assign your name to it.\n",
    "2. Create a variable `age` and assign your age to it.\n",
    "3. Create a variable `country` and assign your country of residence to it.\n",
    "4. Using the `+` operator, concatenate the variables to form a sentence in the following format: \"My name is `<name>`, I am `<age>` years old, and I live in `<country>`.\"\n",
    "5. Print the concatenated sentence."
   ]
  },
  {
   "cell_type": "code",
   "execution_count": null,
   "id": "28731484",
   "metadata": {},
   "outputs": [],
   "source": [
    "name = 'Azeem Khan'\n",
    "age = 42\n",
    "country = 'Pakistan'\n"
   ]
  },
  {
   "cell_type": "code",
   "execution_count": 9,
   "id": "fd3b88cb",
   "metadata": {},
   "outputs": [
    {
     "name": "stdout",
     "output_type": "stream",
     "text": [
      "My name is Azeem Khani am 42 years old, and i live in Pakistan\n"
     ]
    }
   ],
   "source": [
    "concatenate = 'My name is ' +name+ 'i am '+str(age)+ ' years old, and i live in ' +country\n",
    "print(concatenate)"
   ]
  },
  {
   "cell_type": "markdown",
   "id": "10ace7df",
   "metadata": {},
   "source": [
    "**Assignment 2: String Formatting using `.format()`\n",
    "\n",
    "**Instructions:**\n",
    "\n",
    "1. Create a variable `item` and assign a product name to it (e.g., \"laptop\", \"book\", \"phone\").\n",
    "2. Create a variable `price` and assign a price to the item.\n",
    "3. Create a variable `quantity` and assign a quantity value.\n",
    "4. Calculate the total cost using the formula: `total_cost = price * quantity`.\n",
    "5. Using the `.format()` method, create a formatted string: \"I bought `<quantity>` `<item>`(s) at `<price>` each, for a total of $`<total_cost>`.\"\n",
    "6. Print the formatted string."
   ]
  },
  {
   "cell_type": "code",
   "execution_count": 11,
   "id": "2c9a503f",
   "metadata": {},
   "outputs": [
    {
     "name": "stdout",
     "output_type": "stream",
     "text": [
      "I bought Laptop, 10 each, for a total of $ 10000\n"
     ]
    }
   ],
   "source": [
    "item1 = 'Laptop'\n",
    "price = 10\n",
    "quantity = 10000\n",
    "total_cost = price*quantity\n",
    "format_string = 'I bought {0}, {1} each, for a total of $ {2}'.format(item1,price,quantity,total_cost)\n",
    "print(format_string)"
   ]
  },
  {
   "cell_type": "markdown",
   "id": "7e144f59",
   "metadata": {},
   "source": [
    "**Assignment 3: String Interpolation using `f''`\n",
    "\n",
    "**Instructions:**\n",
    "\n",
    "1. Create a variable `city` and assign the name of a city.\n",
    "2. Create a variable `temperature` and assign a temperature value in Celsius.\n",
    "3. Using `f''` string interpolation, create a string: \"The temperature in `<city>` is `<temperature>`°C.\"\n",
    "4. Print the interpolated string.\n"
   ]
  },
  {
   "cell_type": "code",
   "execution_count": 12,
   "id": "6db24b02",
   "metadata": {},
   "outputs": [
    {
     "name": "stdout",
     "output_type": "stream",
     "text": [
      "The temperature in Karachi is 27 °C\n"
     ]
    }
   ],
   "source": [
    "city = 'Karachi'\n",
    "temperature = '27'\n",
    "interpolated_string = f'The temperature in {city} is {temperature} °C'\n",
    "print(interpolated_string)"
   ]
  },
  {
   "cell_type": "markdown",
   "id": "ecd375bb",
   "metadata": {},
   "source": [
    "Assignment 4\n",
    "**Assignment 4: String Formatting using `%()`\n",
    "\n",
    "**Instructions:**\n",
    "\n",
    "1. Create a variable `first_name` and assign your first name to it.\n",
    "2. Create a variable `last_name` and assign your last name to it.\n",
    "3. Create a variable `birth_year` and assign your birth year.\n",
    "4. Calculate your age using the formula: `age = current_year - birth_year`, where `current_year` is the current year.\n",
    "5. Using `%()` string formatting, create a string: \"My name is %(first_name)s %(last_name)s. I am %(age)d years old.\"\n",
    "6. Print the formatted string.\n"
   ]
  },
  {
   "cell_type": "code",
   "execution_count": 15,
   "id": "a8f8b949",
   "metadata": {},
   "outputs": [
    {
     "data": {
      "text/plain": [
       "'My name is Azeem Khan. I am 43 year old'"
      ]
     },
     "execution_count": 15,
     "metadata": {},
     "output_type": "execute_result"
    }
   ],
   "source": [
    "first_name = 'Azeem'\n",
    "last_name = 'Khan'\n",
    "birt_year = 1980\n",
    "age = 2023-1980\n",
    "result = \"My name is %s %s. I am %d year old\"%(first_name,last_name,age) \n",
    "result"
   ]
  },
  {
   "cell_type": "markdown",
   "id": "d356d619",
   "metadata": {},
   "source": [
    "**Assignment 5: Combining Formatting Methods**\n",
    "\n",
    "**Instructions:**\n",
    "\n",
    "1. Create a variable `product` and assign a product name.\n",
    "2. Create a variable `discount` and assign a discount percentage.\n",
    "3. Create a variable `original_price` and assign an original price.\n",
    "4. Calculate the discounted price using the formula: `discounted_price = original_price * (1 - discount / 100)`.\n",
    "5. Using any combination of string formatting methods (`+`, `.format()`, `f''`, `%()`), create a descriptive string with the product name, original price, discount percentage, and discounted price.\n",
    "6. Print the descriptive string."
   ]
  },
  {
   "cell_type": "code",
   "execution_count": 26,
   "id": "e9fb51c4",
   "metadata": {},
   "outputs": [
    {
     "data": {
      "text/plain": [
       "' This Laptop oringal price is 100000.00 and discount is 10.00% after discount the discoutned amount is 90000.00'"
      ]
     },
     "execution_count": 26,
     "metadata": {},
     "output_type": "execute_result"
    }
   ],
   "source": [
    "product = 'Laptop'\n",
    "discount = 10\n",
    "original_price = 100000\n",
    "discounted_price = original_price * (1-discount/100)\n",
    "description_fstring = f\" This {product} oringal price is {original_price:.2f} and discount is {discount:.2f}% after discount the discoutned amount is {discounted_price:.2f}\"\n",
    "description_fstring"
   ]
  },
  {
   "cell_type": "code",
   "execution_count": null,
   "id": "eacea56f",
   "metadata": {},
   "outputs": [],
   "source": []
  }
 ],
 "metadata": {
  "kernelspec": {
   "display_name": "Python 3 (ipykernel)",
   "language": "python",
   "name": "python3"
  },
  "language_info": {
   "codemirror_mode": {
    "name": "ipython",
    "version": 3
   },
   "file_extension": ".py",
   "mimetype": "text/x-python",
   "name": "python",
   "nbconvert_exporter": "python",
   "pygments_lexer": "ipython3",
   "version": "3.10.4"
  }
 },
 "nbformat": 4,
 "nbformat_minor": 5
}
